{
 "cells": [
  {
   "cell_type": "code",
   "execution_count": 9,
   "metadata": {},
   "outputs": [],
   "source": [
    "import plotly.graph_objs as go\n",
    "import plotly.express as px\n",
    "import pandas as pd"
   ]
  },
  {
   "cell_type": "code",
   "execution_count": 10,
   "metadata": {},
   "outputs": [],
   "source": [
    "dataset = pd.read_csv('dataset_with_tonspercapita.csv')"
   ]
  },
  {
   "cell_type": "code",
   "execution_count": 15,
   "metadata": {},
   "outputs": [
    {
     "data": {
      "application/vnd.plotly.v1+json": {
       "config": {
        "plotlyServerURL": "https://plot.ly"
       },
       "data": [
        {
         "hovertemplate": "Gross national income per capita=low<br>Human Development Index (HDI) =%{x}<br>Life expectancy at birth=%{y}<br>Expected years of schooling=%{marker.size}<extra></extra>",
         "legendgroup": "low",
         "marker": {
          "color": "#636efa",
          "size": [
           10.3,
           12.2,
           12.4,
           13,
           10.8,
           9.1,
           10.7,
           11.5,
           13.1,
           8,
           8,
           11.9,
           12.3,
           9.8,
           7.4,
           8.1,
           9.7,
           9.4,
           12,
           9.8,
           10.6,
           9.7,
           10.1,
           11.9,
           10.7,
           11.8,
           12,
           10.4,
           10.1,
           12.7,
           7.4,
           10.2,
           9.4,
           1,
           10.2,
           10.9,
           12.9,
           12.6,
           7,
           10.1,
           8.7,
           10.4,
           11.2,
           12.4,
           13.4,
           9,
           9.6,
           10.3,
           1,
           7.9,
           9.2,
           11.7,
           9.2,
           12.6,
           13,
           9.4,
           10.1,
           11.5,
           9.1,
           10.9,
           12.1
          ],
          "sizemode": "area",
          "sizeref": 0.052750000000000005,
          "symbol": "circle"
         },
         "mode": "markers",
         "name": "low",
         "orientation": "v",
         "showlegend": true,
         "type": "scatter",
         "x": [
          0.478,
          0.586,
          0.661,
          0.683,
          0.525,
          0.449,
          0.426,
          0.593,
          0.576,
          0.404,
          0.394,
          0.558,
          0.571,
          0.479,
          0.509,
          0.492,
          0.498,
          0.5,
          0.632,
          0.465,
          0.483,
          0.535,
          0.621,
          0.633,
          0.575,
          0.624,
          0.514,
          0.481,
          0.501,
          0.512,
          0.428,
          0.639,
          0.556,
          1,
          0.446,
          0.585,
          0.602,
          0.667,
          0.4,
          0.535,
          0.544,
          0.558,
          0.534,
          0.707,
          0.618,
          0.511,
          0.477,
          0.564,
          1,
          0.508,
          0.577,
          0.685,
          0.549,
          0.607,
          0.539,
          0.641,
          0.525,
          0.607,
          0.455,
          0.565,
          0.593
         ],
         "xaxis": "x",
         "y": [
          62,
          61.6,
          72.4,
          70.5,
          59.8,
          59.3,
          61.7,
          69.6,
          60.3,
          53.9,
          52.5,
          63.4,
          63.5,
          59.2,
          62.3,
          66.5,
          65,
          62.1,
          63.8,
          58.9,
          59.7,
          63.2,
          70.1,
          67.2,
          61.4,
          67.4,
          53.1,
          60.7,
          64.5,
          62.9,
          58.9,
          65.3,
          64.4,
          85.9,
          59.3,
          65.7,
          68.4,
          73.8,
          61.6,
          52.7,
          66.1,
          65.4,
          66.1,
          72.8,
          67.6,
          67.1,
          60.1,
          70.3,
          55.3,
          65.3,
          72.1,
          71.6,
          66.2,
          67.7,
          61.6,
          64.5,
          62.7,
          70.4,
          63.8,
          61.2,
          59.3
         ],
         "yaxis": "y"
        },
        {
         "hovertemplate": "Gross national income per capita=medium<br>Human Development Index (HDI) =%{x}<br>Life expectancy at birth=%{y}<br>Expected years of schooling=%{marker.size}<extra></extra>",
         "legendgroup": "medium",
         "marker": {
          "color": "#EF553B",
          "size": [
           14.4,
           14.6,
           14.2,
           17.9,
           13.1,
           13.5,
           15.7,
           15.2,
           13.2,
           14.9,
           13.8,
           12.3,
           15.6,
           14.2,
           14.4,
           16.5,
           14.4,
           13.3,
           14.5,
           14.6,
           13.8,
           12.7,
           9.7,
           14.7,
           13,
           15.6,
           18.7,
           10.6,
           13.7,
           14.6,
           12.1,
           13.4,
           10.6,
           10.1,
           11.3,
           12.6,
           14.9,
           15,
           15.1,
           14.2,
           11.9,
           11.7,
           13.6,
           15.8,
           13,
           15.4,
           13.1,
           12.9,
           14.7,
           14.4,
           13.6,
           14.1,
           13,
           15.9,
           16,
           15.4,
           13.2,
           15,
           16.8,
           12.5
          ],
          "sizemode": "area",
          "sizeref": 0.052750000000000005,
          "symbol": "circle"
         },
         "mode": "markers",
         "name": "medium",
         "orientation": "v",
         "showlegend": true,
         "type": "scatter",
         "x": [
          0.796,
          0.745,
          0.788,
          0.842,
          0.759,
          0.745,
          0.79,
          0.808,
          0.666,
          0.692,
          0.78,
          0.693,
          0.754,
          0.768,
          0.752,
          0.809,
          0.764,
          0.72,
          0.767,
          0.74,
          0.731,
          0.675,
          0.596,
          0.73,
          0.706,
          0.802,
          0.795,
          0.627,
          0.705,
          0.774,
          0.686,
          0.709,
          0.72,
          0.607,
          0.706,
          0.747,
          0.758,
          0.739,
          0.832,
          0.683,
          0.615,
          1,
          0.77,
          0.767,
          0.717,
          0.762,
          0.699,
          0.715,
          0.751,
          0.802,
          0.713,
          0.782,
          0.73,
          0.8,
          0.745,
          0.731,
          0.745,
          0.773,
          0.809,
          0.727
         ],
         "xaxis": "x",
         "y": [
          76.5,
          76.4,
          78.5,
          75.4,
          72,
          69.4,
          77.6,
          72.4,
          71.8,
          63.6,
          75.3,
          61.1,
          72.8,
          78.2,
          72.8,
          77,
          73.7,
          72.8,
          72.6,
          73.7,
          70.2,
          70.7,
          60.6,
          67.1,
          65.8,
          71.7,
          74.9,
          69.2,
          67.6,
          73.9,
          70.4,
          70.5,
          74.3,
          68.1,
          75,
          79.9,
          70.2,
          71,
          76.3,
          74,
          59.3,
          63.6,
          73.8,
          66,
          70.3,
          72.4,
          69.3,
          71.1,
          69.6,
          74.2,
          62.3,
          76.4,
          70.3,
          78.7,
          71,
          73.8,
          69.3,
          71.6,
          75.4,
          70.9
         ],
         "yaxis": "y"
        },
        {
         "hovertemplate": "Gross national income per capita=high<br>Human Development Index (HDI) =%{x}<br>Life expectancy at birth=%{y}<br>Expected years of schooling=%{marker.size}<extra></extra>",
         "legendgroup": "high",
         "marker": {
          "color": "#00cc96",
          "size": [
           13.3,
           21.1,
           16,
           12.9,
           16.3,
           19.6,
           14,
           13.9,
           16.4,
           16.7,
           15.1,
           15.6,
           18.7,
           15.9,
           19.1,
           15.8,
           17,
           20,
           12.5,
           17.3,
           15,
           19.2,
           18.9,
           16.1,
           16.2,
           15.2,
           15.8,
           16.5,
           15.3,
           16.2,
           15.2,
           16.3,
           14.4,
           13.3,
           16.8,
           15.2,
           18.7,
           20.3,
           18.2,
           14.6,
           13.1,
           16,
           16.9,
           12.6,
           14.2,
           15.8,
           15.4,
           12.3,
           16.1,
           13.9,
           16.5,
           17.7,
           17.9,
           19.4,
           16.5,
           14.5,
           18.3,
           15.7,
           17.3,
           16.3
          ],
          "sizemode": "area",
          "sizeref": 0.052750000000000005,
          "symbol": "circle"
         },
         "mode": "markers",
         "name": "high",
         "orientation": "v",
         "showlegend": true,
         "type": "scatter",
         "x": [
          0.858,
          0.951,
          0.916,
          0.812,
          0.875,
          0.937,
          0.829,
          0.795,
          0.936,
          0.855,
          0.858,
          0.896,
          0.948,
          0.89,
          0.94,
          0.903,
          0.942,
          0.887,
          0.714,
          0.952,
          0.846,
          0.959,
          0.945,
          0.919,
          0.895,
          0.925,
          0.811,
          0.925,
          0.831,
          0.863,
          0.935,
          0.875,
          0.93,
          0.803,
          0.918,
          0.802,
          0.941,
          0.937,
          0.961,
          0.816,
          0.805,
          0.876,
          0.866,
          0.855,
          0.821,
          0.822,
          0.777,
          0.853,
          0.875,
          0.785,
          0.939,
          0.918,
          0.905,
          0.947,
          0.962,
          0.81,
          0.838,
          0.911,
          0.929,
          0.921
         ],
         "xaxis": "x",
         "y": [
          80.4,
          84.5,
          81.6,
          71.6,
          78.8,
          81.9,
          74.6,
          71.8,
          82.7,
          78.9,
          77.6,
          81.2,
          81.4,
          77.1,
          82,
          82.5,
          80.6,
          80.1,
          65.7,
          85.5,
          74.5,
          82.7,
          82,
          82.3,
          82.9,
          84.8,
          69.4,
          83.7,
          78.7,
          73.6,
          83.3,
          73.7,
          82.6,
          74.9,
          83.8,
          73.6,
          81.7,
          82.5,
          83.2,
          72.5,
          76.2,
          76.5,
          81,
          79.3,
          74.2,
          69.4,
          71.7,
          80.9,
          76.9,
          71.3,
          82.8,
          80.7,
          83,
          83,
          84,
          73,
          76,
          78.7,
          80.7,
          77.2
         ],
         "yaxis": "y"
        }
       ],
       "layout": {
        "legend": {
         "itemsizing": "constant",
         "title": {
          "text": "Gross national income per capita"
         },
         "tracegroupgap": 0
        },
        "margin": {
         "t": 60
        },
        "template": {
         "data": {
          "bar": [
           {
            "error_x": {
             "color": "#2a3f5f"
            },
            "error_y": {
             "color": "#2a3f5f"
            },
            "marker": {
             "line": {
              "color": "#E5ECF6",
              "width": 0.5
             },
             "pattern": {
              "fillmode": "overlay",
              "size": 10,
              "solidity": 0.2
             }
            },
            "type": "bar"
           }
          ],
          "barpolar": [
           {
            "marker": {
             "line": {
              "color": "#E5ECF6",
              "width": 0.5
             },
             "pattern": {
              "fillmode": "overlay",
              "size": 10,
              "solidity": 0.2
             }
            },
            "type": "barpolar"
           }
          ],
          "carpet": [
           {
            "aaxis": {
             "endlinecolor": "#2a3f5f",
             "gridcolor": "white",
             "linecolor": "white",
             "minorgridcolor": "white",
             "startlinecolor": "#2a3f5f"
            },
            "baxis": {
             "endlinecolor": "#2a3f5f",
             "gridcolor": "white",
             "linecolor": "white",
             "minorgridcolor": "white",
             "startlinecolor": "#2a3f5f"
            },
            "type": "carpet"
           }
          ],
          "choropleth": [
           {
            "colorbar": {
             "outlinewidth": 0,
             "ticks": ""
            },
            "type": "choropleth"
           }
          ],
          "contour": [
           {
            "colorbar": {
             "outlinewidth": 0,
             "ticks": ""
            },
            "colorscale": [
             [
              0,
              "#0d0887"
             ],
             [
              0.1111111111111111,
              "#46039f"
             ],
             [
              0.2222222222222222,
              "#7201a8"
             ],
             [
              0.3333333333333333,
              "#9c179e"
             ],
             [
              0.4444444444444444,
              "#bd3786"
             ],
             [
              0.5555555555555556,
              "#d8576b"
             ],
             [
              0.6666666666666666,
              "#ed7953"
             ],
             [
              0.7777777777777778,
              "#fb9f3a"
             ],
             [
              0.8888888888888888,
              "#fdca26"
             ],
             [
              1,
              "#f0f921"
             ]
            ],
            "type": "contour"
           }
          ],
          "contourcarpet": [
           {
            "colorbar": {
             "outlinewidth": 0,
             "ticks": ""
            },
            "type": "contourcarpet"
           }
          ],
          "heatmap": [
           {
            "colorbar": {
             "outlinewidth": 0,
             "ticks": ""
            },
            "colorscale": [
             [
              0,
              "#0d0887"
             ],
             [
              0.1111111111111111,
              "#46039f"
             ],
             [
              0.2222222222222222,
              "#7201a8"
             ],
             [
              0.3333333333333333,
              "#9c179e"
             ],
             [
              0.4444444444444444,
              "#bd3786"
             ],
             [
              0.5555555555555556,
              "#d8576b"
             ],
             [
              0.6666666666666666,
              "#ed7953"
             ],
             [
              0.7777777777777778,
              "#fb9f3a"
             ],
             [
              0.8888888888888888,
              "#fdca26"
             ],
             [
              1,
              "#f0f921"
             ]
            ],
            "type": "heatmap"
           }
          ],
          "heatmapgl": [
           {
            "colorbar": {
             "outlinewidth": 0,
             "ticks": ""
            },
            "colorscale": [
             [
              0,
              "#0d0887"
             ],
             [
              0.1111111111111111,
              "#46039f"
             ],
             [
              0.2222222222222222,
              "#7201a8"
             ],
             [
              0.3333333333333333,
              "#9c179e"
             ],
             [
              0.4444444444444444,
              "#bd3786"
             ],
             [
              0.5555555555555556,
              "#d8576b"
             ],
             [
              0.6666666666666666,
              "#ed7953"
             ],
             [
              0.7777777777777778,
              "#fb9f3a"
             ],
             [
              0.8888888888888888,
              "#fdca26"
             ],
             [
              1,
              "#f0f921"
             ]
            ],
            "type": "heatmapgl"
           }
          ],
          "histogram": [
           {
            "marker": {
             "pattern": {
              "fillmode": "overlay",
              "size": 10,
              "solidity": 0.2
             }
            },
            "type": "histogram"
           }
          ],
          "histogram2d": [
           {
            "colorbar": {
             "outlinewidth": 0,
             "ticks": ""
            },
            "colorscale": [
             [
              0,
              "#0d0887"
             ],
             [
              0.1111111111111111,
              "#46039f"
             ],
             [
              0.2222222222222222,
              "#7201a8"
             ],
             [
              0.3333333333333333,
              "#9c179e"
             ],
             [
              0.4444444444444444,
              "#bd3786"
             ],
             [
              0.5555555555555556,
              "#d8576b"
             ],
             [
              0.6666666666666666,
              "#ed7953"
             ],
             [
              0.7777777777777778,
              "#fb9f3a"
             ],
             [
              0.8888888888888888,
              "#fdca26"
             ],
             [
              1,
              "#f0f921"
             ]
            ],
            "type": "histogram2d"
           }
          ],
          "histogram2dcontour": [
           {
            "colorbar": {
             "outlinewidth": 0,
             "ticks": ""
            },
            "colorscale": [
             [
              0,
              "#0d0887"
             ],
             [
              0.1111111111111111,
              "#46039f"
             ],
             [
              0.2222222222222222,
              "#7201a8"
             ],
             [
              0.3333333333333333,
              "#9c179e"
             ],
             [
              0.4444444444444444,
              "#bd3786"
             ],
             [
              0.5555555555555556,
              "#d8576b"
             ],
             [
              0.6666666666666666,
              "#ed7953"
             ],
             [
              0.7777777777777778,
              "#fb9f3a"
             ],
             [
              0.8888888888888888,
              "#fdca26"
             ],
             [
              1,
              "#f0f921"
             ]
            ],
            "type": "histogram2dcontour"
           }
          ],
          "mesh3d": [
           {
            "colorbar": {
             "outlinewidth": 0,
             "ticks": ""
            },
            "type": "mesh3d"
           }
          ],
          "parcoords": [
           {
            "line": {
             "colorbar": {
              "outlinewidth": 0,
              "ticks": ""
             }
            },
            "type": "parcoords"
           }
          ],
          "pie": [
           {
            "automargin": true,
            "type": "pie"
           }
          ],
          "scatter": [
           {
            "fillpattern": {
             "fillmode": "overlay",
             "size": 10,
             "solidity": 0.2
            },
            "type": "scatter"
           }
          ],
          "scatter3d": [
           {
            "line": {
             "colorbar": {
              "outlinewidth": 0,
              "ticks": ""
             }
            },
            "marker": {
             "colorbar": {
              "outlinewidth": 0,
              "ticks": ""
             }
            },
            "type": "scatter3d"
           }
          ],
          "scattercarpet": [
           {
            "marker": {
             "colorbar": {
              "outlinewidth": 0,
              "ticks": ""
             }
            },
            "type": "scattercarpet"
           }
          ],
          "scattergeo": [
           {
            "marker": {
             "colorbar": {
              "outlinewidth": 0,
              "ticks": ""
             }
            },
            "type": "scattergeo"
           }
          ],
          "scattergl": [
           {
            "marker": {
             "colorbar": {
              "outlinewidth": 0,
              "ticks": ""
             }
            },
            "type": "scattergl"
           }
          ],
          "scattermapbox": [
           {
            "marker": {
             "colorbar": {
              "outlinewidth": 0,
              "ticks": ""
             }
            },
            "type": "scattermapbox"
           }
          ],
          "scatterpolar": [
           {
            "marker": {
             "colorbar": {
              "outlinewidth": 0,
              "ticks": ""
             }
            },
            "type": "scatterpolar"
           }
          ],
          "scatterpolargl": [
           {
            "marker": {
             "colorbar": {
              "outlinewidth": 0,
              "ticks": ""
             }
            },
            "type": "scatterpolargl"
           }
          ],
          "scatterternary": [
           {
            "marker": {
             "colorbar": {
              "outlinewidth": 0,
              "ticks": ""
             }
            },
            "type": "scatterternary"
           }
          ],
          "surface": [
           {
            "colorbar": {
             "outlinewidth": 0,
             "ticks": ""
            },
            "colorscale": [
             [
              0,
              "#0d0887"
             ],
             [
              0.1111111111111111,
              "#46039f"
             ],
             [
              0.2222222222222222,
              "#7201a8"
             ],
             [
              0.3333333333333333,
              "#9c179e"
             ],
             [
              0.4444444444444444,
              "#bd3786"
             ],
             [
              0.5555555555555556,
              "#d8576b"
             ],
             [
              0.6666666666666666,
              "#ed7953"
             ],
             [
              0.7777777777777778,
              "#fb9f3a"
             ],
             [
              0.8888888888888888,
              "#fdca26"
             ],
             [
              1,
              "#f0f921"
             ]
            ],
            "type": "surface"
           }
          ],
          "table": [
           {
            "cells": {
             "fill": {
              "color": "#EBF0F8"
             },
             "line": {
              "color": "white"
             }
            },
            "header": {
             "fill": {
              "color": "#C8D4E3"
             },
             "line": {
              "color": "white"
             }
            },
            "type": "table"
           }
          ]
         },
         "layout": {
          "annotationdefaults": {
           "arrowcolor": "#2a3f5f",
           "arrowhead": 0,
           "arrowwidth": 1
          },
          "autotypenumbers": "strict",
          "coloraxis": {
           "colorbar": {
            "outlinewidth": 0,
            "ticks": ""
           }
          },
          "colorscale": {
           "diverging": [
            [
             0,
             "#8e0152"
            ],
            [
             0.1,
             "#c51b7d"
            ],
            [
             0.2,
             "#de77ae"
            ],
            [
             0.3,
             "#f1b6da"
            ],
            [
             0.4,
             "#fde0ef"
            ],
            [
             0.5,
             "#f7f7f7"
            ],
            [
             0.6,
             "#e6f5d0"
            ],
            [
             0.7,
             "#b8e186"
            ],
            [
             0.8,
             "#7fbc41"
            ],
            [
             0.9,
             "#4d9221"
            ],
            [
             1,
             "#276419"
            ]
           ],
           "sequential": [
            [
             0,
             "#0d0887"
            ],
            [
             0.1111111111111111,
             "#46039f"
            ],
            [
             0.2222222222222222,
             "#7201a8"
            ],
            [
             0.3333333333333333,
             "#9c179e"
            ],
            [
             0.4444444444444444,
             "#bd3786"
            ],
            [
             0.5555555555555556,
             "#d8576b"
            ],
            [
             0.6666666666666666,
             "#ed7953"
            ],
            [
             0.7777777777777778,
             "#fb9f3a"
            ],
            [
             0.8888888888888888,
             "#fdca26"
            ],
            [
             1,
             "#f0f921"
            ]
           ],
           "sequentialminus": [
            [
             0,
             "#0d0887"
            ],
            [
             0.1111111111111111,
             "#46039f"
            ],
            [
             0.2222222222222222,
             "#7201a8"
            ],
            [
             0.3333333333333333,
             "#9c179e"
            ],
            [
             0.4444444444444444,
             "#bd3786"
            ],
            [
             0.5555555555555556,
             "#d8576b"
            ],
            [
             0.6666666666666666,
             "#ed7953"
            ],
            [
             0.7777777777777778,
             "#fb9f3a"
            ],
            [
             0.8888888888888888,
             "#fdca26"
            ],
            [
             1,
             "#f0f921"
            ]
           ]
          },
          "colorway": [
           "#636efa",
           "#EF553B",
           "#00cc96",
           "#ab63fa",
           "#FFA15A",
           "#19d3f3",
           "#FF6692",
           "#B6E880",
           "#FF97FF",
           "#FECB52"
          ],
          "font": {
           "color": "#2a3f5f"
          },
          "geo": {
           "bgcolor": "white",
           "lakecolor": "white",
           "landcolor": "#E5ECF6",
           "showlakes": true,
           "showland": true,
           "subunitcolor": "white"
          },
          "hoverlabel": {
           "align": "left"
          },
          "hovermode": "closest",
          "mapbox": {
           "style": "light"
          },
          "paper_bgcolor": "white",
          "plot_bgcolor": "#E5ECF6",
          "polar": {
           "angularaxis": {
            "gridcolor": "white",
            "linecolor": "white",
            "ticks": ""
           },
           "bgcolor": "#E5ECF6",
           "radialaxis": {
            "gridcolor": "white",
            "linecolor": "white",
            "ticks": ""
           }
          },
          "scene": {
           "xaxis": {
            "backgroundcolor": "#E5ECF6",
            "gridcolor": "white",
            "gridwidth": 2,
            "linecolor": "white",
            "showbackground": true,
            "ticks": "",
            "zerolinecolor": "white"
           },
           "yaxis": {
            "backgroundcolor": "#E5ECF6",
            "gridcolor": "white",
            "gridwidth": 2,
            "linecolor": "white",
            "showbackground": true,
            "ticks": "",
            "zerolinecolor": "white"
           },
           "zaxis": {
            "backgroundcolor": "#E5ECF6",
            "gridcolor": "white",
            "gridwidth": 2,
            "linecolor": "white",
            "showbackground": true,
            "ticks": "",
            "zerolinecolor": "white"
           }
          },
          "shapedefaults": {
           "line": {
            "color": "#2a3f5f"
           }
          },
          "ternary": {
           "aaxis": {
            "gridcolor": "white",
            "linecolor": "white",
            "ticks": ""
           },
           "baxis": {
            "gridcolor": "white",
            "linecolor": "white",
            "ticks": ""
           },
           "bgcolor": "#E5ECF6",
           "caxis": {
            "gridcolor": "white",
            "linecolor": "white",
            "ticks": ""
           }
          },
          "title": {
           "x": 0.05
          },
          "xaxis": {
           "automargin": true,
           "gridcolor": "white",
           "linecolor": "white",
           "ticks": "",
           "title": {
            "standoff": 15
           },
           "zerolinecolor": "white",
           "zerolinewidth": 2
          },
          "yaxis": {
           "automargin": true,
           "gridcolor": "white",
           "linecolor": "white",
           "ticks": "",
           "title": {
            "standoff": 15
           },
           "zerolinecolor": "white",
           "zerolinewidth": 2
          }
         }
        },
        "xaxis": {
         "anchor": "y",
         "domain": [
          0,
          1
         ],
         "title": {
          "text": "Human Development Index (HDI) "
         }
        },
        "yaxis": {
         "anchor": "x",
         "domain": [
          0,
          1
         ],
         "title": {
          "text": "Life expectancy at birth"
         }
        }
       }
      }
     },
     "metadata": {},
     "output_type": "display_data"
    }
   ],
   "source": [
    "dataset[\"Human Development Index (HDI) \"].replace(\"..\", \"1\", inplace=True)\n",
    "dataset[\"Human Development Index (HDI) \"] = pd.to_numeric(dataset[\"Human Development Index (HDI) \"])\n",
    "dataset[\"Life expectancy at birth\"].replace(\"..\", \"1\", inplace=True)\n",
    "dataset[\"Life expectancy at birth\"] = pd.to_numeric(dataset[\"Life expectancy at birth\"])\n",
    "dataset[\"Expected years of schooling\"].replace(\"..\", \"1\", inplace=True)\n",
    "dataset[\"Expected years of schooling\"] = pd.to_numeric(dataset[\"Expected years of schooling\"])\n",
    "dataset[\"Gross national income (GNI) per capita\"].replace(\"..\", \"1\", inplace=True)\n",
    "dataset[\"Gross national income (GNI) per capita\"] = pd.to_numeric(dataset[\"Gross national income (GNI) per capita\"])\n",
    "\n",
    "dataset[\"Gross national income per capita\"] = pd.qcut(dataset[\"Gross national income (GNI) per capita\"], 3, labels=[\"low\", \"medium\", \"high\"])\n",
    "\n",
    "fig = px.scatter(dataset, x=\"Human Development Index (HDI) \", y=\"Life expectancy at birth\", size='Expected years of schooling', color= dataset[\"Gross national income per capita\"], hover_data=[\"Human Development Index (HDI) \"])\n",
    "fig.show()"
   ]
  }
 ],
 "metadata": {
  "kernelspec": {
   "display_name": "Python 3",
   "language": "python",
   "name": "python3"
  },
  "language_info": {
   "codemirror_mode": {
    "name": "ipython",
    "version": 3
   },
   "file_extension": ".py",
   "mimetype": "text/x-python",
   "name": "python",
   "nbconvert_exporter": "python",
   "pygments_lexer": "ipython3",
   "version": "3.10.6"
  },
  "orig_nbformat": 4
 },
 "nbformat": 4,
 "nbformat_minor": 2
}
