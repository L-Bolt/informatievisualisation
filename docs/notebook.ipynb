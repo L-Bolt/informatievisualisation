{
 "cells": [
  {
   "attachments": {},
   "cell_type": "markdown",
   "id": "387ba932",
   "metadata": {},
   "source": [
    "# Data Story Project - HDI & climate"
   ]
  },
  {
   "attachments": {},
   "cell_type": "markdown",
   "id": "9b5112a4",
   "metadata": {},
   "source": [
    "Lex Bolt: 13335022\n",
    "\n",
    "Coen de Graaf: 13041568 \n",
    "\n",
    "Lucas Groot: 14638274"
   ]
  },
  {
   "cell_type": "code",
   "execution_count": 2,
   "id": "9a87310b",
   "metadata": {},
   "outputs": [],
   "source": [
    "import plotly.graph_objs as go\n",
    "import plotly.express as px\n",
    "import pandas as pd\n",
    "from plotly.subplots import make_subplots"
   ]
  },
  {
   "attachments": {},
   "cell_type": "markdown",
   "id": "351be669",
   "metadata": {},
   "source": [
    "The Human Development Index (HDI) is a comprehensive measure that assesses the level of development in a country. It incorporates multiple dimensions, including health, knowledge, and standard of living.\n",
    "\n",
    "The HDI combines various indicators to provide a holistic view of development. It considers factors such as life expectancy at birth, mean years of schooling, expected years of schooling, and Gross Domestic Product (GDP) in terms of US dollars. By establishing minimum and maximum benchmarks for each dimension, known as \"goalposts,\" the HDI enables a comparative analysis of countries' progress.\n",
    "\n",
    "The HDI is expressed as a value between 0 and 1, with higher values indicating higher levels of human development. Its purpose is to draw the attention of policymakers, media, and non-governmental organizations, steering the focus away from purely economic statistics and towards human outcomes. It underscores the notion that people's well-being and capabilities should be the ultimate yardstick for assessing a country's development, rather than solely relying on economic growth.\n",
    "\n",
    "This datastory will investigate the possible correlations between a country's HDI and its impact on the world's environment. By comparing a country's HDI to its CO2 emissions and reviewing the changes in climate (percipation, wind speed and sea level rise) of said country, correlations between HDI and climate change can be investigated.\n",
    "\n",
    "\n",
    "https://www.who.int/data/nutrition/nlis/info/human-development-index"
   ]
  },
  {
   "cell_type": "code",
   "execution_count": 3,
   "id": "783d3e78",
   "metadata": {},
   "outputs": [],
   "source": [
    "dataset = pd.read_csv('dataset_with_tonspercapita.csv')"
   ]
  },
  {
   "cell_type": "code",
   "execution_count": 12,
   "id": "2cc94d24",
   "metadata": {},
   "outputs": [
    {
     "data": {
      "application/vnd.plotly.v1+json": {
       "config": {
        "plotlyServerURL": "https://plot.ly"
       },
       "data": [
        {
         "autocolorscale": false,
         "colorscale": [
          [
           0,
           "#000004"
          ],
          [
           0.1111111111111111,
           "#1b0c41"
          ],
          [
           0.2222222222222222,
           "#4a0c6b"
          ],
          [
           0.3333333333333333,
           "#781c6d"
          ],
          [
           0.4444444444444444,
           "#a52c60"
          ],
          [
           0.5555555555555556,
           "#cf4446"
          ],
          [
           0.6666666666666666,
           "#ed6925"
          ],
          [
           0.7777777777777778,
           "#fb9b06"
          ],
          [
           0.8888888888888888,
           "#f7d13d"
          ],
          [
           1,
           "#fcffa4"
          ]
         ],
         "hovertemplate": "Country: %{text}<br>%{z}<extra></extra>",
         "locations": [
          "AFG",
          "ALB",
          "DZA",
          "AND",
          "AGO",
          "ATG",
          "ARG",
          "ARM",
          "AUS",
          "AUT",
          "AZE",
          "BHS",
          "BHR",
          "BGD",
          "BRB",
          "BLR",
          "BEL",
          "BLZ",
          "BEN",
          "BTN",
          "BOL",
          "BIH",
          "BWA",
          "BRA",
          "BRN",
          "BGR",
          "BFA",
          "BDI",
          "KHM",
          "CMR",
          "CAN",
          "CAF",
          "TCD",
          "CHL",
          "CHN",
          "COL",
          "COM",
          "COG",
          "COG",
          "CRI",
          "HRV",
          "CUB",
          "CYP",
          "DNK",
          "DJI",
          "DMA",
          "DOM",
          "ECU",
          "EGY",
          "SLV",
          "GNQ",
          "ERI",
          "EST",
          "ETH",
          "FJI",
          "FIN",
          "FRA",
          "GAB",
          "GMB",
          "GEO",
          "DEU",
          "GHA",
          "GRC",
          "GRD",
          "GTM",
          "GIN",
          "GNB",
          "GUY",
          "HTI",
          "HND",
          "HKG",
          "HUN",
          "ISL",
          "IND",
          "IDN",
          "IRN",
          "IRQ",
          "IRL",
          "ISR",
          "ITA",
          "JAM",
          "JPN",
          "JOR",
          "KAZ",
          "KEN",
          "KIR",
          "KOR",
          "KWT",
          "LAO",
          "LVA",
          "LBN",
          "LSO",
          "LBR",
          "LIE",
          "LTU",
          "LUX",
          "MDG",
          "MWI",
          "MYS",
          "MDV",
          "MLI",
          "MLT",
          "MHL",
          "MRT",
          "MUS",
          "MEX",
          "MCO",
          "MNG",
          "MNE",
          "MAR",
          "MOZ",
          "MMR",
          "NAM",
          "NRU",
          "NPL",
          "NLD",
          "NZL",
          "NIC",
          "NGA",
          "NGA",
          "MKD",
          "NOR",
          "OMN",
          "PAK",
          "PLW",
          "PAN",
          "PNG",
          "PRY",
          "PER",
          "PHL",
          "POL",
          "PRT",
          "QAT",
          "ROU",
          "RUS",
          "RWA",
          "KNA",
          "LCA",
          "VCT",
          "WSM",
          "SMR",
          "STP",
          "SAU",
          "SEN",
          "SRB",
          "SYC",
          "SLE",
          "SGP",
          "SVN",
          "SLB",
          "SOM",
          "ZAF",
          "ESP",
          "LKA",
          "SDN",
          "SUR",
          "SWE",
          "CHE",
          "SYR",
          "TJK",
          "TZA",
          "THA",
          "TLS",
          "TGO",
          "TON",
          "TTO",
          "TUN",
          "TUR",
          "TKM",
          "TUV",
          "UGA",
          "UKR",
          "ARE",
          "GBR",
          "USA",
          "URY",
          "UZB",
          "VUT",
          "YEM",
          "ZMB",
          "ZWE"
         ],
         "marker": {
          "line": {
           "color": "darkgray",
           "width": 0.5
          }
         },
         "reversescale": true,
         "text": [
          "Afghanistan",
          "Albania",
          "Algeria",
          "Andorra",
          "Angola",
          "Antigua and Barbuda",
          "Argentina",
          "Armenia",
          "Australia",
          "Austria",
          "Azerbaijan",
          "Bahamas",
          "Bahrain",
          "Bangladesh",
          "Barbados",
          "Belarus",
          "Belgium",
          "Belize",
          "Benin",
          "Bhutan",
          "Bolivia",
          "Bosnia and Herzegovina",
          "Botswana",
          "Brazil",
          "Brunei Darussalam",
          "Bulgaria",
          "Burkina Faso",
          "Burundi",
          "Cambodia",
          "Cameroon",
          "Canada",
          "Central African Republic",
          "Chad",
          "Chile",
          "China",
          "Colombia",
          "Comoros",
          "Congo",
          "Congo",
          "Costa Rica",
          "Croatia",
          "Cuba",
          "Cyprus",
          "Denmark",
          "Djibouti",
          "Dominica",
          "Dominican Republic",
          "Ecuador",
          "Egypt",
          "El Salvador",
          "Equatorial Guinea",
          "Eritrea",
          "Estonia",
          "Ethiopia",
          "Fiji",
          "Finland",
          "France",
          "Gabon",
          "Gambia",
          "Georgia",
          "Germany",
          "Ghana",
          "Greece",
          "Grenada",
          "Guatemala",
          "Guinea",
          "Guinea-Bissau",
          "Guyana",
          "Haiti",
          "Honduras",
          "Hong Kong",
          "Hungary",
          "Iceland",
          "India",
          "Indonesia",
          "Iran",
          "Iraq",
          "Ireland",
          "Israel",
          "Italy",
          "Jamaica",
          "Japan",
          "Jordan",
          "Kazakhstan",
          "Kenya",
          "Kiribati",
          "Korea",
          "Kuwait",
          "Lao People's Democratic Republic",
          "Latvia",
          "Lebanon",
          "Lesotho",
          "Liberia",
          "Liechtenstein",
          "Lithuania",
          "Luxembourg",
          "Madagascar",
          "Malawi",
          "Malaysia",
          "Maldives",
          "Mali",
          "Malta",
          "Marshall Islands",
          "Mauritania",
          "Mauritius",
          "Mexico",
          "Monaco",
          "Mongolia",
          "Montenegro",
          "Morocco",
          "Mozambique",
          "Myanmar",
          "Namibia",
          "Nauru",
          "Nepal",
          "Netherlands",
          "New Zealand",
          "Nicaragua",
          "Niger",
          "Nigeria",
          "North Macedonia",
          "Norway",
          "Oman",
          "Pakistan",
          "Palau",
          "Panama",
          "Papua New Guinea",
          "Paraguay",
          "Peru",
          "Philippines",
          "Poland",
          "Portugal",
          "Qatar",
          "Romania",
          "Russian Federation",
          "Rwanda",
          "Saint Kitts and Nevis",
          "Saint Lucia",
          "Saint Vincent and the Grenadines",
          "Samoa",
          "San Marino",
          "Sao Tome and Principe",
          "Saudi Arabia",
          "Senegal",
          "Serbia",
          "Seychelles",
          "Sierra Leone",
          "Singapore",
          "Slovenia",
          "Solomon Islands",
          "Somalia",
          "South Africa",
          "Spain",
          "Sri Lanka",
          "Sudan",
          "Suriname",
          "Sweden",
          "Switzerland",
          "Syrian Arab Republic",
          "Tajikistan",
          "Tanzania",
          "Thailand",
          "Timor-Leste",
          "Togo",
          "Tonga",
          "Trinidad and Tobago",
          "Tunisia",
          "Turkey",
          "Turkmenistan",
          "Tuvalu",
          "Uganda",
          "Ukraine",
          "United Arab Emirates",
          "United Kingdom",
          "United States",
          "Uruguay",
          "Uzbekistan",
          "Vanuatu",
          "Yemen",
          "Zambia",
          "Zimbabwe"
         ],
         "type": "choropleth",
         "z": [
          "0.478",
          "0.796",
          "0.745",
          "0.858",
          "0.586",
          "0.788",
          "0.842",
          "0.759",
          "0.951",
          "0.916",
          "0.745",
          "0.812",
          "0.875",
          "0.661",
          "0.79",
          "0.808",
          "0.937",
          "0.683",
          "0.525",
          "0.666",
          "0.692",
          "0.78",
          "0.693",
          "0.754",
          "0.829",
          "0.795",
          "0.449",
          "0.426",
          "0.593",
          "0.576",
          "0.936",
          "0.404",
          "0.394",
          "0.855",
          "0.768",
          "0.752",
          "0.558",
          "0.571",
          "0.479",
          "0.809",
          "0.858",
          "0.764",
          "0.896",
          "0.948",
          "0.509",
          "0.72",
          "0.767",
          "0.74",
          "0.731",
          "0.675",
          "0.596",
          "0.492",
          "0.89",
          "0.498",
          "0.73",
          "0.94",
          "0.903",
          "0.706",
          "0.5",
          "0.802",
          "0.942",
          "0.632",
          "0.887",
          "0.795",
          "0.627",
          "0.465",
          "0.483",
          "0.714",
          "0.535",
          "0.621",
          "0.952",
          "0.846",
          "0.959",
          "0.633",
          "0.705",
          "0.774",
          "0.686",
          "0.945",
          "0.919",
          "0.895",
          "0.709",
          "0.925",
          "0.72",
          "0.811",
          "0.575",
          "0.624",
          "0.925",
          "0.831",
          "0.607",
          "0.863",
          "0.706",
          "0.514",
          "0.481",
          "0.935",
          "0.875",
          "0.93",
          "0.501",
          "0.512",
          "0.803",
          "0.747",
          "0.428",
          "0.918",
          "0.639",
          "0.556",
          "0.802",
          "0.758",
          "..",
          "0.739",
          "0.832",
          "0.683",
          "0.446",
          "0.585",
          "0.615",
          "..",
          "0.602",
          "0.941",
          "0.937",
          "0.667",
          "0.4",
          "0.535",
          "0.77",
          "0.961",
          "0.816",
          "0.544",
          "0.767",
          "0.805",
          "0.558",
          "0.717",
          "0.762",
          "0.699",
          "0.876",
          "0.866",
          "0.855",
          "0.821",
          "0.822",
          "0.534",
          "0.777",
          "0.715",
          "0.751",
          "0.707",
          "0.853",
          "0.618",
          "0.875",
          "0.511",
          "0.802",
          "0.785",
          "0.477",
          "0.939",
          "0.918",
          "0.564",
          "..",
          "0.713",
          "0.905",
          "0.782",
          "0.508",
          "0.73",
          "0.947",
          "0.962",
          "0.577",
          "0.685",
          "0.549",
          "0.8",
          "0.607",
          "0.539",
          "0.745",
          "0.81",
          "0.731",
          "0.838",
          "0.745",
          "0.641",
          "0.525",
          "0.773",
          "0.911",
          "0.929",
          "0.921",
          "0.809",
          "0.727",
          "0.607",
          "0.455",
          "0.565",
          "0.593"
         ],
         "zauto": true
        }
       ],
       "layout": {
        "font": {
         "color": "#525252",
         "family": "Heebo",
         "size": 18
        },
        "height": 600,
        "template": {
         "data": {
          "bar": [
           {
            "error_x": {
             "color": "#2a3f5f"
            },
            "error_y": {
             "color": "#2a3f5f"
            },
            "marker": {
             "line": {
              "color": "#E5ECF6",
              "width": 0.5
             },
             "pattern": {
              "fillmode": "overlay",
              "size": 10,
              "solidity": 0.2
             }
            },
            "type": "bar"
           }
          ],
          "barpolar": [
           {
            "marker": {
             "line": {
              "color": "#E5ECF6",
              "width": 0.5
             },
             "pattern": {
              "fillmode": "overlay",
              "size": 10,
              "solidity": 0.2
             }
            },
            "type": "barpolar"
           }
          ],
          "carpet": [
           {
            "aaxis": {
             "endlinecolor": "#2a3f5f",
             "gridcolor": "white",
             "linecolor": "white",
             "minorgridcolor": "white",
             "startlinecolor": "#2a3f5f"
            },
            "baxis": {
             "endlinecolor": "#2a3f5f",
             "gridcolor": "white",
             "linecolor": "white",
             "minorgridcolor": "white",
             "startlinecolor": "#2a3f5f"
            },
            "type": "carpet"
           }
          ],
          "choropleth": [
           {
            "colorbar": {
             "outlinewidth": 0,
             "ticks": ""
            },
            "type": "choropleth"
           }
          ],
          "contour": [
           {
            "colorbar": {
             "outlinewidth": 0,
             "ticks": ""
            },
            "colorscale": [
             [
              0,
              "#0d0887"
             ],
             [
              0.1111111111111111,
              "#46039f"
             ],
             [
              0.2222222222222222,
              "#7201a8"
             ],
             [
              0.3333333333333333,
              "#9c179e"
             ],
             [
              0.4444444444444444,
              "#bd3786"
             ],
             [
              0.5555555555555556,
              "#d8576b"
             ],
             [
              0.6666666666666666,
              "#ed7953"
             ],
             [
              0.7777777777777778,
              "#fb9f3a"
             ],
             [
              0.8888888888888888,
              "#fdca26"
             ],
             [
              1,
              "#f0f921"
             ]
            ],
            "type": "contour"
           }
          ],
          "contourcarpet": [
           {
            "colorbar": {
             "outlinewidth": 0,
             "ticks": ""
            },
            "type": "contourcarpet"
           }
          ],
          "heatmap": [
           {
            "colorbar": {
             "outlinewidth": 0,
             "ticks": ""
            },
            "colorscale": [
             [
              0,
              "#0d0887"
             ],
             [
              0.1111111111111111,
              "#46039f"
             ],
             [
              0.2222222222222222,
              "#7201a8"
             ],
             [
              0.3333333333333333,
              "#9c179e"
             ],
             [
              0.4444444444444444,
              "#bd3786"
             ],
             [
              0.5555555555555556,
              "#d8576b"
             ],
             [
              0.6666666666666666,
              "#ed7953"
             ],
             [
              0.7777777777777778,
              "#fb9f3a"
             ],
             [
              0.8888888888888888,
              "#fdca26"
             ],
             [
              1,
              "#f0f921"
             ]
            ],
            "type": "heatmap"
           }
          ],
          "heatmapgl": [
           {
            "colorbar": {
             "outlinewidth": 0,
             "ticks": ""
            },
            "colorscale": [
             [
              0,
              "#0d0887"
             ],
             [
              0.1111111111111111,
              "#46039f"
             ],
             [
              0.2222222222222222,
              "#7201a8"
             ],
             [
              0.3333333333333333,
              "#9c179e"
             ],
             [
              0.4444444444444444,
              "#bd3786"
             ],
             [
              0.5555555555555556,
              "#d8576b"
             ],
             [
              0.6666666666666666,
              "#ed7953"
             ],
             [
              0.7777777777777778,
              "#fb9f3a"
             ],
             [
              0.8888888888888888,
              "#fdca26"
             ],
             [
              1,
              "#f0f921"
             ]
            ],
            "type": "heatmapgl"
           }
          ],
          "histogram": [
           {
            "marker": {
             "pattern": {
              "fillmode": "overlay",
              "size": 10,
              "solidity": 0.2
             }
            },
            "type": "histogram"
           }
          ],
          "histogram2d": [
           {
            "colorbar": {
             "outlinewidth": 0,
             "ticks": ""
            },
            "colorscale": [
             [
              0,
              "#0d0887"
             ],
             [
              0.1111111111111111,
              "#46039f"
             ],
             [
              0.2222222222222222,
              "#7201a8"
             ],
             [
              0.3333333333333333,
              "#9c179e"
             ],
             [
              0.4444444444444444,
              "#bd3786"
             ],
             [
              0.5555555555555556,
              "#d8576b"
             ],
             [
              0.6666666666666666,
              "#ed7953"
             ],
             [
              0.7777777777777778,
              "#fb9f3a"
             ],
             [
              0.8888888888888888,
              "#fdca26"
             ],
             [
              1,
              "#f0f921"
             ]
            ],
            "type": "histogram2d"
           }
          ],
          "histogram2dcontour": [
           {
            "colorbar": {
             "outlinewidth": 0,
             "ticks": ""
            },
            "colorscale": [
             [
              0,
              "#0d0887"
             ],
             [
              0.1111111111111111,
              "#46039f"
             ],
             [
              0.2222222222222222,
              "#7201a8"
             ],
             [
              0.3333333333333333,
              "#9c179e"
             ],
             [
              0.4444444444444444,
              "#bd3786"
             ],
             [
              0.5555555555555556,
              "#d8576b"
             ],
             [
              0.6666666666666666,
              "#ed7953"
             ],
             [
              0.7777777777777778,
              "#fb9f3a"
             ],
             [
              0.8888888888888888,
              "#fdca26"
             ],
             [
              1,
              "#f0f921"
             ]
            ],
            "type": "histogram2dcontour"
           }
          ],
          "mesh3d": [
           {
            "colorbar": {
             "outlinewidth": 0,
             "ticks": ""
            },
            "type": "mesh3d"
           }
          ],
          "parcoords": [
           {
            "line": {
             "colorbar": {
              "outlinewidth": 0,
              "ticks": ""
             }
            },
            "type": "parcoords"
           }
          ],
          "pie": [
           {
            "automargin": true,
            "type": "pie"
           }
          ],
          "scatter": [
           {
            "fillpattern": {
             "fillmode": "overlay",
             "size": 10,
             "solidity": 0.2
            },
            "type": "scatter"
           }
          ],
          "scatter3d": [
           {
            "line": {
             "colorbar": {
              "outlinewidth": 0,
              "ticks": ""
             }
            },
            "marker": {
             "colorbar": {
              "outlinewidth": 0,
              "ticks": ""
             }
            },
            "type": "scatter3d"
           }
          ],
          "scattercarpet": [
           {
            "marker": {
             "colorbar": {
              "outlinewidth": 0,
              "ticks": ""
             }
            },
            "type": "scattercarpet"
           }
          ],
          "scattergeo": [
           {
            "marker": {
             "colorbar": {
              "outlinewidth": 0,
              "ticks": ""
             }
            },
            "type": "scattergeo"
           }
          ],
          "scattergl": [
           {
            "marker": {
             "colorbar": {
              "outlinewidth": 0,
              "ticks": ""
             }
            },
            "type": "scattergl"
           }
          ],
          "scattermapbox": [
           {
            "marker": {
             "colorbar": {
              "outlinewidth": 0,
              "ticks": ""
             }
            },
            "type": "scattermapbox"
           }
          ],
          "scatterpolar": [
           {
            "marker": {
             "colorbar": {
              "outlinewidth": 0,
              "ticks": ""
             }
            },
            "type": "scatterpolar"
           }
          ],
          "scatterpolargl": [
           {
            "marker": {
             "colorbar": {
              "outlinewidth": 0,
              "ticks": ""
             }
            },
            "type": "scatterpolargl"
           }
          ],
          "scatterternary": [
           {
            "marker": {
             "colorbar": {
              "outlinewidth": 0,
              "ticks": ""
             }
            },
            "type": "scatterternary"
           }
          ],
          "surface": [
           {
            "colorbar": {
             "outlinewidth": 0,
             "ticks": ""
            },
            "colorscale": [
             [
              0,
              "#0d0887"
             ],
             [
              0.1111111111111111,
              "#46039f"
             ],
             [
              0.2222222222222222,
              "#7201a8"
             ],
             [
              0.3333333333333333,
              "#9c179e"
             ],
             [
              0.4444444444444444,
              "#bd3786"
             ],
             [
              0.5555555555555556,
              "#d8576b"
             ],
             [
              0.6666666666666666,
              "#ed7953"
             ],
             [
              0.7777777777777778,
              "#fb9f3a"
             ],
             [
              0.8888888888888888,
              "#fdca26"
             ],
             [
              1,
              "#f0f921"
             ]
            ],
            "type": "surface"
           }
          ],
          "table": [
           {
            "cells": {
             "fill": {
              "color": "#EBF0F8"
             },
             "line": {
              "color": "white"
             }
            },
            "header": {
             "fill": {
              "color": "#C8D4E3"
             },
             "line": {
              "color": "white"
             }
            },
            "type": "table"
           }
          ]
         },
         "layout": {
          "annotationdefaults": {
           "arrowcolor": "#2a3f5f",
           "arrowhead": 0,
           "arrowwidth": 1
          },
          "autotypenumbers": "strict",
          "coloraxis": {
           "colorbar": {
            "outlinewidth": 0,
            "ticks": ""
           }
          },
          "colorscale": {
           "diverging": [
            [
             0,
             "#8e0152"
            ],
            [
             0.1,
             "#c51b7d"
            ],
            [
             0.2,
             "#de77ae"
            ],
            [
             0.3,
             "#f1b6da"
            ],
            [
             0.4,
             "#fde0ef"
            ],
            [
             0.5,
             "#f7f7f7"
            ],
            [
             0.6,
             "#e6f5d0"
            ],
            [
             0.7,
             "#b8e186"
            ],
            [
             0.8,
             "#7fbc41"
            ],
            [
             0.9,
             "#4d9221"
            ],
            [
             1,
             "#276419"
            ]
           ],
           "sequential": [
            [
             0,
             "#0d0887"
            ],
            [
             0.1111111111111111,
             "#46039f"
            ],
            [
             0.2222222222222222,
             "#7201a8"
            ],
            [
             0.3333333333333333,
             "#9c179e"
            ],
            [
             0.4444444444444444,
             "#bd3786"
            ],
            [
             0.5555555555555556,
             "#d8576b"
            ],
            [
             0.6666666666666666,
             "#ed7953"
            ],
            [
             0.7777777777777778,
             "#fb9f3a"
            ],
            [
             0.8888888888888888,
             "#fdca26"
            ],
            [
             1,
             "#f0f921"
            ]
           ],
           "sequentialminus": [
            [
             0,
             "#0d0887"
            ],
            [
             0.1111111111111111,
             "#46039f"
            ],
            [
             0.2222222222222222,
             "#7201a8"
            ],
            [
             0.3333333333333333,
             "#9c179e"
            ],
            [
             0.4444444444444444,
             "#bd3786"
            ],
            [
             0.5555555555555556,
             "#d8576b"
            ],
            [
             0.6666666666666666,
             "#ed7953"
            ],
            [
             0.7777777777777778,
             "#fb9f3a"
            ],
            [
             0.8888888888888888,
             "#fdca26"
            ],
            [
             1,
             "#f0f921"
            ]
           ]
          },
          "colorway": [
           "#636efa",
           "#EF553B",
           "#00cc96",
           "#ab63fa",
           "#FFA15A",
           "#19d3f3",
           "#FF6692",
           "#B6E880",
           "#FF97FF",
           "#FECB52"
          ],
          "font": {
           "color": "#2a3f5f"
          },
          "geo": {
           "bgcolor": "white",
           "lakecolor": "white",
           "landcolor": "#E5ECF6",
           "showlakes": true,
           "showland": true,
           "subunitcolor": "white"
          },
          "hoverlabel": {
           "align": "left"
          },
          "hovermode": "closest",
          "mapbox": {
           "style": "light"
          },
          "paper_bgcolor": "white",
          "plot_bgcolor": "#E5ECF6",
          "polar": {
           "angularaxis": {
            "gridcolor": "white",
            "linecolor": "white",
            "ticks": ""
           },
           "bgcolor": "#E5ECF6",
           "radialaxis": {
            "gridcolor": "white",
            "linecolor": "white",
            "ticks": ""
           }
          },
          "scene": {
           "xaxis": {
            "backgroundcolor": "#E5ECF6",
            "gridcolor": "white",
            "gridwidth": 2,
            "linecolor": "white",
            "showbackground": true,
            "ticks": "",
            "zerolinecolor": "white"
           },
           "yaxis": {
            "backgroundcolor": "#E5ECF6",
            "gridcolor": "white",
            "gridwidth": 2,
            "linecolor": "white",
            "showbackground": true,
            "ticks": "",
            "zerolinecolor": "white"
           },
           "zaxis": {
            "backgroundcolor": "#E5ECF6",
            "gridcolor": "white",
            "gridwidth": 2,
            "linecolor": "white",
            "showbackground": true,
            "ticks": "",
            "zerolinecolor": "white"
           }
          },
          "shapedefaults": {
           "line": {
            "color": "#2a3f5f"
           }
          },
          "ternary": {
           "aaxis": {
            "gridcolor": "white",
            "linecolor": "white",
            "ticks": ""
           },
           "baxis": {
            "gridcolor": "white",
            "linecolor": "white",
            "ticks": ""
           },
           "bgcolor": "#E5ECF6",
           "caxis": {
            "gridcolor": "white",
            "linecolor": "white",
            "ticks": ""
           }
          },
          "title": {
           "x": 0.05
          },
          "xaxis": {
           "automargin": true,
           "gridcolor": "white",
           "linecolor": "white",
           "ticks": "",
           "title": {
            "standoff": 15
           },
           "zerolinecolor": "white",
           "zerolinewidth": 2
          },
          "yaxis": {
           "automargin": true,
           "gridcolor": "white",
           "linecolor": "white",
           "ticks": "",
           "title": {
            "standoff": 15
           },
           "zerolinecolor": "white",
           "zerolinewidth": 2
          }
         }
        },
        "title": {
         "font": {
          "color": "#525252",
          "size": 26
         },
         "text": "<b>Components of the Human Development Index per country</b><br>Use the drop-down menu to select a component"
        },
        "updatemenus": [
         {
          "active": 0,
          "buttons": [
           {
            "args": [
             {
              "z": [
               [
                "0.478",
                "0.796",
                "0.745",
                "0.858",
                "0.586",
                "0.788",
                "0.842",
                "0.759",
                "0.951",
                "0.916",
                "0.745",
                "0.812",
                "0.875",
                "0.661",
                "0.79",
                "0.808",
                "0.937",
                "0.683",
                "0.525",
                "0.666",
                "0.692",
                "0.78",
                "0.693",
                "0.754",
                "0.829",
                "0.795",
                "0.449",
                "0.426",
                "0.593",
                "0.576",
                "0.936",
                "0.404",
                "0.394",
                "0.855",
                "0.768",
                "0.752",
                "0.558",
                "0.571",
                "0.479",
                "0.809",
                "0.858",
                "0.764",
                "0.896",
                "0.948",
                "0.509",
                "0.72",
                "0.767",
                "0.74",
                "0.731",
                "0.675",
                "0.596",
                "0.492",
                "0.89",
                "0.498",
                "0.73",
                "0.94",
                "0.903",
                "0.706",
                "0.5",
                "0.802",
                "0.942",
                "0.632",
                "0.887",
                "0.795",
                "0.627",
                "0.465",
                "0.483",
                "0.714",
                "0.535",
                "0.621",
                "0.952",
                "0.846",
                "0.959",
                "0.633",
                "0.705",
                "0.774",
                "0.686",
                "0.945",
                "0.919",
                "0.895",
                "0.709",
                "0.925",
                "0.72",
                "0.811",
                "0.575",
                "0.624",
                "0.925",
                "0.831",
                "0.607",
                "0.863",
                "0.706",
                "0.514",
                "0.481",
                "0.935",
                "0.875",
                "0.93",
                "0.501",
                "0.512",
                "0.803",
                "0.747",
                "0.428",
                "0.918",
                "0.639",
                "0.556",
                "0.802",
                "0.758",
                "..",
                "0.739",
                "0.832",
                "0.683",
                "0.446",
                "0.585",
                "0.615",
                "..",
                "0.602",
                "0.941",
                "0.937",
                "0.667",
                "0.4",
                "0.535",
                "0.77",
                "0.961",
                "0.816",
                "0.544",
                "0.767",
                "0.805",
                "0.558",
                "0.717",
                "0.762",
                "0.699",
                "0.876",
                "0.866",
                "0.855",
                "0.821",
                "0.822",
                "0.534",
                "0.777",
                "0.715",
                "0.751",
                "0.707",
                "0.853",
                "0.618",
                "0.875",
                "0.511",
                "0.802",
                "0.785",
                "0.477",
                "0.939",
                "0.918",
                "0.564",
                "..",
                "0.713",
                "0.905",
                "0.782",
                "0.508",
                "0.73",
                "0.947",
                "0.962",
                "0.577",
                "0.685",
                "0.549",
                "0.8",
                "0.607",
                "0.539",
                "0.745",
                "0.81",
                "0.731",
                "0.838",
                "0.745",
                "0.641",
                "0.525",
                "0.773",
                "0.911",
                "0.929",
                "0.921",
                "0.809",
                "0.727",
                "0.607",
                "0.455",
                "0.565",
                "0.593"
               ]
              ]
             }
            ],
            "label": "Human Development Index (HDI) ",
            "method": "update"
           },
           {
            "args": [
             {
              "z": [
               [
                62,
                76.5,
                76.4,
                80.4,
                61.6,
                78.5,
                75.4,
                72,
                84.5,
                81.6,
                69.4,
                71.6,
                78.8,
                72.4,
                77.6,
                72.4,
                81.9,
                70.5,
                59.8,
                71.8,
                63.6,
                75.3,
                61.1,
                72.8,
                74.6,
                71.8,
                59.3,
                61.7,
                69.6,
                60.3,
                82.7,
                53.9,
                52.5,
                78.9,
                78.2,
                72.8,
                63.4,
                63.5,
                59.2,
                77,
                77.6,
                73.7,
                81.2,
                81.4,
                62.3,
                72.8,
                72.6,
                73.7,
                70.2,
                70.7,
                60.6,
                66.5,
                77.1,
                65,
                67.1,
                82,
                82.5,
                65.8,
                62.1,
                71.7,
                80.6,
                63.8,
                80.1,
                74.9,
                69.2,
                58.9,
                59.7,
                65.7,
                63.2,
                70.1,
                85.5,
                74.5,
                82.7,
                67.2,
                67.6,
                73.9,
                70.4,
                82,
                82.3,
                82.9,
                70.5,
                84.8,
                74.3,
                69.4,
                61.4,
                67.4,
                83.7,
                78.7,
                68.1,
                73.6,
                75,
                53.1,
                60.7,
                83.3,
                73.7,
                82.6,
                64.5,
                62.9,
                74.9,
                79.9,
                58.9,
                83.8,
                65.3,
                64.4,
                73.6,
                70.2,
                85.9,
                71,
                76.3,
                74,
                59.3,
                65.7,
                59.3,
                63.6,
                68.4,
                81.7,
                82.5,
                73.8,
                61.6,
                52.7,
                73.8,
                83.2,
                72.5,
                66.1,
                66,
                76.2,
                65.4,
                70.3,
                72.4,
                69.3,
                76.5,
                81,
                79.3,
                74.2,
                69.4,
                66.1,
                71.7,
                71.1,
                69.6,
                72.8,
                80.9,
                67.6,
                76.9,
                67.1,
                74.2,
                71.3,
                60.1,
                82.8,
                80.7,
                70.3,
                55.3,
                62.3,
                83,
                76.4,
                65.3,
                70.3,
                83,
                84,
                72.1,
                71.6,
                66.2,
                78.7,
                67.7,
                61.6,
                71,
                73,
                73.8,
                76,
                69.3,
                64.5,
                62.7,
                71.6,
                78.7,
                80.7,
                77.2,
                75.4,
                70.9,
                70.4,
                63.8,
                61.2,
                59.3
               ]
              ]
             }
            ],
            "label": "Life expectancy at birth",
            "method": "update"
           },
           {
            "args": [
             {
              "z": [
               [
                "10.3",
                "14.4",
                "14.6",
                "13.3",
                "12.2",
                "14.2",
                "17.9",
                "13.1",
                "21.1",
                "16",
                "13.5",
                "12.9",
                "16.3",
                "12.4",
                "15.7",
                "15.2",
                "19.6",
                "13",
                "10.8",
                "13.2",
                "14.9",
                "13.8",
                "12.3",
                "15.6",
                "14",
                "13.9",
                "9.1",
                "10.7",
                "11.5",
                "13.1",
                "16.4",
                "8",
                "8",
                "16.7",
                "14.2",
                "14.4",
                "11.9",
                "12.3",
                "9.8",
                "16.5",
                "15.1",
                "14.4",
                "15.6",
                "18.7",
                "7.4",
                "13.3",
                "14.5",
                "14.6",
                "13.8",
                "12.7",
                "9.7",
                "8.1",
                "15.9",
                "9.7",
                "14.7",
                "19.1",
                "15.8",
                "13",
                "9.4",
                "15.6",
                "17",
                "12",
                "20",
                "18.7",
                "10.6",
                "9.8",
                "10.6",
                "12.5",
                "9.7",
                "10.1",
                "17.3",
                "15",
                "19.2",
                "11.9",
                "13.7",
                "14.6",
                "12.1",
                "18.9",
                "16.1",
                "16.2",
                "13.4",
                "15.2",
                "10.6",
                "15.8",
                "10.7",
                "11.8",
                "16.5",
                "15.3",
                "10.1",
                "16.2",
                "11.3",
                "12",
                "10.4",
                "15.2",
                "16.3",
                "14.4",
                "10.1",
                "12.7",
                "13.3",
                "12.6",
                "7.4",
                "16.8",
                "10.2",
                "9.4",
                "15.2",
                "14.9",
                "..",
                "15",
                "15.1",
                "14.2",
                "10.2",
                "10.9",
                "11.9",
                "11.7",
                "12.9",
                "18.7",
                "20.3",
                "12.6",
                "7",
                "10.1",
                "13.6",
                "18.2",
                "14.6",
                "8.7",
                "15.8",
                "13.1",
                "10.4",
                "13",
                "15.4",
                "13.1",
                "16",
                "16.9",
                "12.6",
                "14.2",
                "15.8",
                "11.2",
                "15.4",
                "12.9",
                "14.7",
                "12.4",
                "12.3",
                "13.4",
                "16.1",
                "9",
                "14.4",
                "13.9",
                "9.6",
                "16.5",
                "17.7",
                "10.3",
                "..",
                "13.6",
                "17.9",
                "14.1",
                "7.9",
                "13",
                "19.4",
                "16.5",
                "9.2",
                "11.7",
                "9.2",
                "15.9",
                "12.6",
                "13",
                "16",
                "14.5",
                "15.4",
                "18.3",
                "13.2",
                "9.4",
                "10.1",
                "15",
                "15.7",
                "17.3",
                "16.3",
                "16.8",
                "12.5",
                "11.5",
                "9.1",
                "10.9",
                "12.1"
               ]
              ]
             }
            ],
            "label": "Expected years of schooling",
            "method": "update"
           },
           {
            "args": [
             {
              "z": [
               [
                "1824",
                "14131",
                "10800",
                "51167",
                "5466",
                "16792",
                "20925",
                "13158",
                "49238",
                "53619",
                "14257",
                "30486",
                "39497",
                "5472",
                "12306",
                "18849",
                "52293",
                "6309",
                "3409",
                "9438",
                "8111",
                "15242",
                "16198",
                "14370",
                "64490",
                "23079",
                "2118",
                "732",
                "4079",
                "3621",
                "46808",
                "966",
                "1364",
                "24563",
                "17504",
                "14384",
                "3142",
                "2889",
                "1076",
                "19974",
                "30132",
                "7879",
                "38188",
                "60365",
                "5025",
                "11488",
                "17990",
                "10312",
                "11732",
                "8296",
                "12074",
                "1729",
                "38048",
                "2361",
                "9980",
                "49452",
                "45937",
                "13367",
                "2172",
                "14664",
                "54534",
                "5745",
                "29002",
                "13484",
                "8723",
                "2481",
                "1908",
                "22465",
                "2848",
                "5298",
                "62607",
                "32789",
                "55782",
                "6590",
                "11466",
                "13001",
                "9977",
                "76169",
                "41524",
                "42840",
                "8834",
                "42274",
                "9924",
                "23943",
                "4474",
                "4063",
                "44501",
                "52920",
                "7700",
                "32803",
                "9526",
                "2700",
                "1289",
                "146830",
                "37931",
                "84649",
                "1484",
                "1466",
                "26658",
                "15448",
                "2133",
                "38884",
                "4620",
                "5075",
                "22025",
                "17896",
                "..",
                "10588",
                "20839",
                "7303",
                "1198",
                "3851",
                "8634",
                "17730",
                "3877",
                "55979",
                "44057",
                "5625",
                "1240",
                "4790",
                "15918",
                "64660",
                "27054",
                "4624",
                "13819",
                "26957",
                "4009",
                "12349",
                "12246",
                "8920",
                "33034",
                "33155",
                "87134",
                "30027",
                "27166",
                "2210",
                "23358",
                "12048",
                "11961",
                "5308",
                "52654",
                "4021",
                "46112",
                "3344",
                "19123",
                "25831",
                "1622",
                "90919",
                "39746",
                "2482",
                "1018",
                "12948",
                "38354",
                "12578",
                "3575",
                "12672",
                "54489",
                "66933",
                "4192",
                "4548",
                "2664",
                "17030",
                "4461",
                "2167",
                "6822",
                "23392",
                "10258",
                "31033",
                "13021",
                "6351",
                "2181",
                "13256",
                "62574",
                "45225",
                "64765",
                "21269",
                "7917",
                "3085",
                "1314",
                "3218",
                "3810"
               ]
              ]
             }
            ],
            "label": "Gross national income (GNI) per capita",
            "method": "update"
           }
          ],
          "direction": "down",
          "showactive": true,
          "xanchor": "auto"
         }
        ],
        "xaxis": {
         "anchor": "y",
         "domain": [
          0,
          1
         ]
        },
        "yaxis": {
         "anchor": "x",
         "domain": [
          0,
          1
         ]
        }
       }
      }
     },
     "metadata": {},
     "output_type": "display_data"
    }
   ],
   "source": [
    "column_names = [\"Human Development Index (HDI) \", \"Life expectancy at birth\",\n",
    "                \"Expected years of schooling\", \"Gross national income (GNI) per capita\"]\n",
    "\n",
    "fig = make_subplots(rows=1, cols=1)\n",
    "fig.update_layout(height=600)\n",
    "\n",
    "dropdown = go.layout.Updatemenu(\n",
    "    buttons=[\n",
    "        {'label': column, 'method': 'update', 'args': [{'z': [dataset[column]]}]} for column in column_names\n",
    "    ],\n",
    "    direction='down',\n",
    "    active=0,\n",
    "    showactive=True,\n",
    "    xanchor=\"auto\"\n",
    ")\n",
    "\n",
    "fig.update_layout(\n",
    "    updatemenus=[dropdown],\n",
    "    title=f\"<b>Components of the Human Development Index per country</b><br>Use the drop-down menu to select a component\",\n",
    "    title_font_color='#525252',\n",
    "    title_font_size=26,\n",
    "    font=dict(family='Heebo', size=18, color='#525252'),\n",
    ")\n",
    "\n",
    "fig.add_trace(\n",
    "    go.Choropleth(\n",
    "        locations=dataset['ISO-code'],\n",
    "        z=dataset[column_names[0]],\n",
    "        text=dataset['Country'],\n",
    "        colorscale='inferno',\n",
    "        autocolorscale=False,\n",
    "        reversescale=True,\n",
    "        marker_line_color='darkgray',\n",
    "        marker_line_width=0.5,\n",
    "        zauto=True\n",
    "    )\n",
    ")\n",
    "\n",
    "fig.update_traces(hovertemplate='Country: %{text}<br>%{z}<extra></extra>')\n",
    "fig.show()"
   ]
  },
  {
   "attachments": {},
   "cell_type": "markdown",
   "id": "2363f719",
   "metadata": {},
   "source": [
    "This first figure shows the Human Development Index per country of the world. As visible in the figure, countries in Western Europe, North America and Oceania have a very high HDI, whereas countries in Africa have a lower HDI. However, the dataset does not contain information about some countries. These are white in the figure."
   ]
  },
  {
   "cell_type": "code",
   "execution_count": 27,
   "id": "dec67371",
   "metadata": {},
   "outputs": [
    {
     "data": {
      "application/vnd.plotly.v1+json": {
       "config": {
        "plotlyServerURL": "https://plot.ly"
       },
       "data": [
        {
         "alignmentgroup": "True",
         "hovertemplate": "Country=%{x}<br>TonsPerCapita=%{y}<extra></extra>",
         "legendgroup": "",
         "marker": {
          "color": "#636efa",
          "pattern": {
           "shape": ""
          }
         },
         "name": "",
         "offsetgroup": "",
         "orientation": "v",
         "showlegend": false,
         "textposition": "auto",
         "type": "bar",
         "x": [
          "Switzerland",
          "Norway",
          "Iceland",
          "Hong Kong",
          "Australia",
          "Denmark",
          "Sweden",
          "Ireland",
          "Germany",
          "Netherlands",
          "Finland",
          "Singapore",
          "Belgium",
          "New Zealand",
          "Canada",
          "Liechtenstein",
          "Luxembourg",
          "United Kingdom",
          "Japan",
          "Korea",
          "United States",
          "Israel",
          "Slovenia",
          "Malta",
          "Austria",
          "United Arab Emirates",
          "Spain",
          "France",
          "Cyprus",
          "Italy",
          "Estonia",
          "Greece",
          "Poland",
          "Lithuania",
          "Bahrain",
          "Saudi Arabia",
          "Portugal",
          "Latvia",
          "Croatia",
          "Andorra",
          "Chile",
          "Qatar",
          "San Marino",
          "Hungary",
          "Argentina",
          "Turkey",
          "Montenegro",
          "Kuwait",
          "Brunei Darussalam",
          "Russian Federation",
          "Romania",
          "Oman",
          "Bahamas",
          "Kazakhstan",
          "Trinidad and Tobago",
          "Uruguay",
          "Costa Rica",
          "Belarus",
          "Panama",
          "Malaysia",
          "Georgia",
          "Mauritius",
          "Serbia",
          "Thailand",
          "Albania",
          "Bulgaria",
          "Grenada",
          "Barbados",
          "Antigua and Barbuda",
          "Seychelles",
          "Sri Lanka",
          "Bosnia and Herzegovina",
          "Saint Kitts and Nevis",
          "Iran",
          "Ukraine",
          "North Macedonia",
          "China",
          "Dominican Republic",
          "Palau",
          "Cuba",
          "Peru",
          "Armenia",
          "Mexico",
          "Brazil",
          "Colombia",
          "Saint Vincent and the Grenadines",
          "Maldives",
          "Tonga",
          "Algeria",
          "Turkmenistan",
          "Azerbaijan",
          "Ecuador",
          "Mongolia",
          "Egypt",
          "Tunisia",
          "Fiji",
          "Suriname",
          "Uzbekistan",
          "Jordan",
          "Dominica",
          "Paraguay",
          "Saint Lucia",
          "Guyana",
          "South Africa",
          "Jamaica",
          "Samoa",
          "Gabon",
          "Lebanon",
          "Indonesia",
          "Philippines",
          "Botswana",
          "Bolivia",
          "Iraq",
          "Tajikistan",
          "Belize",
          "Morocco",
          "El Salvador",
          "Nicaragua",
          "Bhutan",
          "Bangladesh",
          "Tuvalu",
          "Marshall Islands",
          "India",
          "Ghana",
          "Guatemala",
          "Kiribati",
          "Honduras",
          "Sao Tome and Principe",
          "Namibia",
          "Timor-Leste",
          "Lao People's Democratic Republic",
          "Vanuatu",
          "Nepal",
          "Equatorial Guinea",
          "Zimbabwe",
          "Cambodia",
          "Angola",
          "Myanmar",
          "Syrian Arab Republic",
          "Cameroon",
          "Kenya",
          "Congo",
          "Zambia",
          "Solomon Islands",
          "Comoros",
          "Papua New Guinea",
          "Mauritania",
          "Tanzania",
          "Pakistan",
          "Togo",
          "Nigeria",
          "Haiti",
          "Rwanda",
          "Uganda",
          "Benin",
          "Lesotho",
          "Malawi",
          "Senegal",
          "Djibouti",
          "Sudan",
          "Madagascar",
          "Gambia",
          "Ethiopia",
          "Eritrea",
          "Guinea-Bissau",
          "Liberia",
          "Congo",
          "Afghanistan",
          "Sierra Leone",
          "Guinea",
          "Yemen",
          "Burkina Faso",
          "Mozambique",
          "Mali",
          "Burundi",
          "Central African Republic",
          "Niger",
          "Chad",
          "Monaco",
          "Nauru",
          "Somalia"
         ],
         "xaxis": "x",
         "y": [
          4.35860986463416,
          6.72159668026454,
          4.53818056761232,
          null,
          15.2534842144406,
          5.10733483053002,
          3.40520330654476,
          7.24532561598917,
          7.9116327565745,
          8.43713249228562,
          7.37227538509629,
          8.30683384386162,
          8.09545320820473,
          6.83015343830334,
          15.4306867089188,
          3.85634842263916,
          15.3051366046184,
          5.22054271474254,
          8.54099642273341,
          null,
          14.6734069066187,
          6.91962668433841,
          6.51211342736133,
          3.29046823605033,
          7.29356796007171,
          20.502131158379,
          5.09130433611131,
          4.45948233425117,
          5.85366965160526,
          5.31129216603885,
          7.66856231601826,
          5.59589060644222,
          7.77369965738609,
          4.19818355363391,
          22.2573732354965,
          14.619510641057,
          4.33963238155587,
          3.95501776027238,
          4.06451947763153,
          6.57359548354139,
          4.79894282854815,
          32.7608483080326,
          null,
          4.74686630762979,
          3.74054556792816,
          null,
          4.18164455619361,
          20.8615433113418,
          15.9484805318139,
          11.7972031697435,
          3.81734687725071,
          16.517625915536,
          null,
          11.4568243697509,
          11.307374231474,
          1.8930355158909,
          1.62022778104258,
          6.1224715114762,
          3.15277002040386,
          7.72059339068809,
          2.7184844956979,
          3.29751420347931,
          6.61548529315423,
          3.74558237088436,
          1.69196805679788,
          5.61130176334883,
          2.64821876731528,
          4.46131058605182,
          5.60265748993128,
          6.26786171574904,
          1.09078567169656,
          6.26858423708555,
          null,
          null,
          3.93662418026611,
          3.99798911153978,
          7.60593715481142,
          2.50262776236684,
          14.0488948425988,
          2.28961683784588,
          1.72875979581452,
          2.18733447682445,
          3.59167752319055,
          2.05067522030747,
          1.61472979894597,
          null,
          4.18149959960992,
          1.55215290945298,
          4.01002515655643,
          11.8320608207949,
          3.54219847943239,
          2.26556094590901,
          7.13831390006899,
          null,
          2.48216620464866,
          1.77728057138813,
          4.41266964406189,
          3.47546109555142,
          2.3019188436558,
          2.34921879375035,
          1.2578357268409,
          null,
          3.56330430057853,
          7.56863986304694,
          2.98332523625751,
          1.39402090559449,
          2.33883319176827,
          4.83343990140277,
          2.29925841210138,
          1.3174265336933,
          2.90134584042418,
          1.8969264216844,
          4.19980069060561,
          1.00863199894013,
          1.64432850589188,
          1.96887937134246,
          1.24164499411406,
          0.785738252717168,
          1.37310266737376,
          0.548203063745619,
          1.00401606425703,
          4.01314612770524,
          1.77592336065614,
          0.635759648172769,
          1.16315163563343,
          0.699447042441706,
          1.02618490587598,
          0.67754276580972,
          1.72317672697785,
          0.480616788942534,
          null,
          0.692500755574828,
          0.466425105894405,
          3.44603552665723,
          0.765887347954438,
          0.998127685367231,
          0.779292238004638,
          0.692270988660452,
          1.279424761886,
          0.365719311524116,
          0.437312382670169,
          null,
          0.370169936286202,
          0.529635122142007,
          0.404811210312193,
          0.794551859966051,
          0.9008293853187,
          0.208008410661582,
          0.853455151001409,
          0.286955359237684,
          0.567021903283868,
          0.297241022260954,
          0.103842079658883,
          0.136489535980747,
          0.593981795938373,
          0.345868404665135,
          0.077048499213217,
          0.663505112656688,
          0.391082259304987,
          0.477025250662743,
          0.149654957550419,
          null,
          0.160876309494148,
          0.250170200336228,
          0.167879837012429,
          0.237097588524958,
          null,
          0.16085016113134,
          0.111708613630116,
          0.307092838157974,
          null,
          0.23882618443359,
          0.247480691728196,
          0.283642715782006,
          0.0606930385071358,
          0.0465703419483987,
          0.0916654854525537,
          0.139376119327835,
          null,
          5.2917903066271,
          0.0434069819101074
         ],
         "yaxis": "y"
        }
       ],
       "layout": {
        "barmode": "relative",
        "legend": {
         "tracegroupgap": 0
        },
        "margin": {
         "t": 60
        },
        "template": {
         "data": {
          "bar": [
           {
            "error_x": {
             "color": "#2a3f5f"
            },
            "error_y": {
             "color": "#2a3f5f"
            },
            "marker": {
             "line": {
              "color": "#E5ECF6",
              "width": 0.5
             },
             "pattern": {
              "fillmode": "overlay",
              "size": 10,
              "solidity": 0.2
             }
            },
            "type": "bar"
           }
          ],
          "barpolar": [
           {
            "marker": {
             "line": {
              "color": "#E5ECF6",
              "width": 0.5
             },
             "pattern": {
              "fillmode": "overlay",
              "size": 10,
              "solidity": 0.2
             }
            },
            "type": "barpolar"
           }
          ],
          "carpet": [
           {
            "aaxis": {
             "endlinecolor": "#2a3f5f",
             "gridcolor": "white",
             "linecolor": "white",
             "minorgridcolor": "white",
             "startlinecolor": "#2a3f5f"
            },
            "baxis": {
             "endlinecolor": "#2a3f5f",
             "gridcolor": "white",
             "linecolor": "white",
             "minorgridcolor": "white",
             "startlinecolor": "#2a3f5f"
            },
            "type": "carpet"
           }
          ],
          "choropleth": [
           {
            "colorbar": {
             "outlinewidth": 0,
             "ticks": ""
            },
            "type": "choropleth"
           }
          ],
          "contour": [
           {
            "colorbar": {
             "outlinewidth": 0,
             "ticks": ""
            },
            "colorscale": [
             [
              0,
              "#0d0887"
             ],
             [
              0.1111111111111111,
              "#46039f"
             ],
             [
              0.2222222222222222,
              "#7201a8"
             ],
             [
              0.3333333333333333,
              "#9c179e"
             ],
             [
              0.4444444444444444,
              "#bd3786"
             ],
             [
              0.5555555555555556,
              "#d8576b"
             ],
             [
              0.6666666666666666,
              "#ed7953"
             ],
             [
              0.7777777777777778,
              "#fb9f3a"
             ],
             [
              0.8888888888888888,
              "#fdca26"
             ],
             [
              1,
              "#f0f921"
             ]
            ],
            "type": "contour"
           }
          ],
          "contourcarpet": [
           {
            "colorbar": {
             "outlinewidth": 0,
             "ticks": ""
            },
            "type": "contourcarpet"
           }
          ],
          "heatmap": [
           {
            "colorbar": {
             "outlinewidth": 0,
             "ticks": ""
            },
            "colorscale": [
             [
              0,
              "#0d0887"
             ],
             [
              0.1111111111111111,
              "#46039f"
             ],
             [
              0.2222222222222222,
              "#7201a8"
             ],
             [
              0.3333333333333333,
              "#9c179e"
             ],
             [
              0.4444444444444444,
              "#bd3786"
             ],
             [
              0.5555555555555556,
              "#d8576b"
             ],
             [
              0.6666666666666666,
              "#ed7953"
             ],
             [
              0.7777777777777778,
              "#fb9f3a"
             ],
             [
              0.8888888888888888,
              "#fdca26"
             ],
             [
              1,
              "#f0f921"
             ]
            ],
            "type": "heatmap"
           }
          ],
          "heatmapgl": [
           {
            "colorbar": {
             "outlinewidth": 0,
             "ticks": ""
            },
            "colorscale": [
             [
              0,
              "#0d0887"
             ],
             [
              0.1111111111111111,
              "#46039f"
             ],
             [
              0.2222222222222222,
              "#7201a8"
             ],
             [
              0.3333333333333333,
              "#9c179e"
             ],
             [
              0.4444444444444444,
              "#bd3786"
             ],
             [
              0.5555555555555556,
              "#d8576b"
             ],
             [
              0.6666666666666666,
              "#ed7953"
             ],
             [
              0.7777777777777778,
              "#fb9f3a"
             ],
             [
              0.8888888888888888,
              "#fdca26"
             ],
             [
              1,
              "#f0f921"
             ]
            ],
            "type": "heatmapgl"
           }
          ],
          "histogram": [
           {
            "marker": {
             "pattern": {
              "fillmode": "overlay",
              "size": 10,
              "solidity": 0.2
             }
            },
            "type": "histogram"
           }
          ],
          "histogram2d": [
           {
            "colorbar": {
             "outlinewidth": 0,
             "ticks": ""
            },
            "colorscale": [
             [
              0,
              "#0d0887"
             ],
             [
              0.1111111111111111,
              "#46039f"
             ],
             [
              0.2222222222222222,
              "#7201a8"
             ],
             [
              0.3333333333333333,
              "#9c179e"
             ],
             [
              0.4444444444444444,
              "#bd3786"
             ],
             [
              0.5555555555555556,
              "#d8576b"
             ],
             [
              0.6666666666666666,
              "#ed7953"
             ],
             [
              0.7777777777777778,
              "#fb9f3a"
             ],
             [
              0.8888888888888888,
              "#fdca26"
             ],
             [
              1,
              "#f0f921"
             ]
            ],
            "type": "histogram2d"
           }
          ],
          "histogram2dcontour": [
           {
            "colorbar": {
             "outlinewidth": 0,
             "ticks": ""
            },
            "colorscale": [
             [
              0,
              "#0d0887"
             ],
             [
              0.1111111111111111,
              "#46039f"
             ],
             [
              0.2222222222222222,
              "#7201a8"
             ],
             [
              0.3333333333333333,
              "#9c179e"
             ],
             [
              0.4444444444444444,
              "#bd3786"
             ],
             [
              0.5555555555555556,
              "#d8576b"
             ],
             [
              0.6666666666666666,
              "#ed7953"
             ],
             [
              0.7777777777777778,
              "#fb9f3a"
             ],
             [
              0.8888888888888888,
              "#fdca26"
             ],
             [
              1,
              "#f0f921"
             ]
            ],
            "type": "histogram2dcontour"
           }
          ],
          "mesh3d": [
           {
            "colorbar": {
             "outlinewidth": 0,
             "ticks": ""
            },
            "type": "mesh3d"
           }
          ],
          "parcoords": [
           {
            "line": {
             "colorbar": {
              "outlinewidth": 0,
              "ticks": ""
             }
            },
            "type": "parcoords"
           }
          ],
          "pie": [
           {
            "automargin": true,
            "type": "pie"
           }
          ],
          "scatter": [
           {
            "fillpattern": {
             "fillmode": "overlay",
             "size": 10,
             "solidity": 0.2
            },
            "type": "scatter"
           }
          ],
          "scatter3d": [
           {
            "line": {
             "colorbar": {
              "outlinewidth": 0,
              "ticks": ""
             }
            },
            "marker": {
             "colorbar": {
              "outlinewidth": 0,
              "ticks": ""
             }
            },
            "type": "scatter3d"
           }
          ],
          "scattercarpet": [
           {
            "marker": {
             "colorbar": {
              "outlinewidth": 0,
              "ticks": ""
             }
            },
            "type": "scattercarpet"
           }
          ],
          "scattergeo": [
           {
            "marker": {
             "colorbar": {
              "outlinewidth": 0,
              "ticks": ""
             }
            },
            "type": "scattergeo"
           }
          ],
          "scattergl": [
           {
            "marker": {
             "colorbar": {
              "outlinewidth": 0,
              "ticks": ""
             }
            },
            "type": "scattergl"
           }
          ],
          "scattermapbox": [
           {
            "marker": {
             "colorbar": {
              "outlinewidth": 0,
              "ticks": ""
             }
            },
            "type": "scattermapbox"
           }
          ],
          "scatterpolar": [
           {
            "marker": {
             "colorbar": {
              "outlinewidth": 0,
              "ticks": ""
             }
            },
            "type": "scatterpolar"
           }
          ],
          "scatterpolargl": [
           {
            "marker": {
             "colorbar": {
              "outlinewidth": 0,
              "ticks": ""
             }
            },
            "type": "scatterpolargl"
           }
          ],
          "scatterternary": [
           {
            "marker": {
             "colorbar": {
              "outlinewidth": 0,
              "ticks": ""
             }
            },
            "type": "scatterternary"
           }
          ],
          "surface": [
           {
            "colorbar": {
             "outlinewidth": 0,
             "ticks": ""
            },
            "colorscale": [
             [
              0,
              "#0d0887"
             ],
             [
              0.1111111111111111,
              "#46039f"
             ],
             [
              0.2222222222222222,
              "#7201a8"
             ],
             [
              0.3333333333333333,
              "#9c179e"
             ],
             [
              0.4444444444444444,
              "#bd3786"
             ],
             [
              0.5555555555555556,
              "#d8576b"
             ],
             [
              0.6666666666666666,
              "#ed7953"
             ],
             [
              0.7777777777777778,
              "#fb9f3a"
             ],
             [
              0.8888888888888888,
              "#fdca26"
             ],
             [
              1,
              "#f0f921"
             ]
            ],
            "type": "surface"
           }
          ],
          "table": [
           {
            "cells": {
             "fill": {
              "color": "#EBF0F8"
             },
             "line": {
              "color": "white"
             }
            },
            "header": {
             "fill": {
              "color": "#C8D4E3"
             },
             "line": {
              "color": "white"
             }
            },
            "type": "table"
           }
          ]
         },
         "layout": {
          "annotationdefaults": {
           "arrowcolor": "#2a3f5f",
           "arrowhead": 0,
           "arrowwidth": 1
          },
          "autotypenumbers": "strict",
          "coloraxis": {
           "colorbar": {
            "outlinewidth": 0,
            "ticks": ""
           }
          },
          "colorscale": {
           "diverging": [
            [
             0,
             "#8e0152"
            ],
            [
             0.1,
             "#c51b7d"
            ],
            [
             0.2,
             "#de77ae"
            ],
            [
             0.3,
             "#f1b6da"
            ],
            [
             0.4,
             "#fde0ef"
            ],
            [
             0.5,
             "#f7f7f7"
            ],
            [
             0.6,
             "#e6f5d0"
            ],
            [
             0.7,
             "#b8e186"
            ],
            [
             0.8,
             "#7fbc41"
            ],
            [
             0.9,
             "#4d9221"
            ],
            [
             1,
             "#276419"
            ]
           ],
           "sequential": [
            [
             0,
             "#0d0887"
            ],
            [
             0.1111111111111111,
             "#46039f"
            ],
            [
             0.2222222222222222,
             "#7201a8"
            ],
            [
             0.3333333333333333,
             "#9c179e"
            ],
            [
             0.4444444444444444,
             "#bd3786"
            ],
            [
             0.5555555555555556,
             "#d8576b"
            ],
            [
             0.6666666666666666,
             "#ed7953"
            ],
            [
             0.7777777777777778,
             "#fb9f3a"
            ],
            [
             0.8888888888888888,
             "#fdca26"
            ],
            [
             1,
             "#f0f921"
            ]
           ],
           "sequentialminus": [
            [
             0,
             "#0d0887"
            ],
            [
             0.1111111111111111,
             "#46039f"
            ],
            [
             0.2222222222222222,
             "#7201a8"
            ],
            [
             0.3333333333333333,
             "#9c179e"
            ],
            [
             0.4444444444444444,
             "#bd3786"
            ],
            [
             0.5555555555555556,
             "#d8576b"
            ],
            [
             0.6666666666666666,
             "#ed7953"
            ],
            [
             0.7777777777777778,
             "#fb9f3a"
            ],
            [
             0.8888888888888888,
             "#fdca26"
            ],
            [
             1,
             "#f0f921"
            ]
           ]
          },
          "colorway": [
           "#636efa",
           "#EF553B",
           "#00cc96",
           "#ab63fa",
           "#FFA15A",
           "#19d3f3",
           "#FF6692",
           "#B6E880",
           "#FF97FF",
           "#FECB52"
          ],
          "font": {
           "color": "#2a3f5f"
          },
          "geo": {
           "bgcolor": "white",
           "lakecolor": "white",
           "landcolor": "#E5ECF6",
           "showlakes": true,
           "showland": true,
           "subunitcolor": "white"
          },
          "hoverlabel": {
           "align": "left"
          },
          "hovermode": "closest",
          "mapbox": {
           "style": "light"
          },
          "paper_bgcolor": "white",
          "plot_bgcolor": "#E5ECF6",
          "polar": {
           "angularaxis": {
            "gridcolor": "white",
            "linecolor": "white",
            "ticks": ""
           },
           "bgcolor": "#E5ECF6",
           "radialaxis": {
            "gridcolor": "white",
            "linecolor": "white",
            "ticks": ""
           }
          },
          "scene": {
           "xaxis": {
            "backgroundcolor": "#E5ECF6",
            "gridcolor": "white",
            "gridwidth": 2,
            "linecolor": "white",
            "showbackground": true,
            "ticks": "",
            "zerolinecolor": "white"
           },
           "yaxis": {
            "backgroundcolor": "#E5ECF6",
            "gridcolor": "white",
            "gridwidth": 2,
            "linecolor": "white",
            "showbackground": true,
            "ticks": "",
            "zerolinecolor": "white"
           },
           "zaxis": {
            "backgroundcolor": "#E5ECF6",
            "gridcolor": "white",
            "gridwidth": 2,
            "linecolor": "white",
            "showbackground": true,
            "ticks": "",
            "zerolinecolor": "white"
           }
          },
          "shapedefaults": {
           "line": {
            "color": "#2a3f5f"
           }
          },
          "ternary": {
           "aaxis": {
            "gridcolor": "white",
            "linecolor": "white",
            "ticks": ""
           },
           "baxis": {
            "gridcolor": "white",
            "linecolor": "white",
            "ticks": ""
           },
           "bgcolor": "#E5ECF6",
           "caxis": {
            "gridcolor": "white",
            "linecolor": "white",
            "ticks": ""
           }
          },
          "title": {
           "x": 0.05
          },
          "xaxis": {
           "automargin": true,
           "gridcolor": "white",
           "linecolor": "white",
           "ticks": "",
           "title": {
            "standoff": 15
           },
           "zerolinecolor": "white",
           "zerolinewidth": 2
          },
          "yaxis": {
           "automargin": true,
           "gridcolor": "white",
           "linecolor": "white",
           "ticks": "",
           "title": {
            "standoff": 15
           },
           "zerolinecolor": "white",
           "zerolinewidth": 2
          }
         }
        },
        "xaxis": {
         "anchor": "y",
         "categoryarray": [
          "Chad",
          "Niger",
          "Central African Republic",
          "Burundi",
          "Mali",
          "Mozambique",
          "Burkina Faso",
          "Yemen",
          "Guinea",
          "Sierra Leone",
          "Afghanistan",
          "Congo",
          "Liberia",
          "Guinea-Bissau",
          "Eritrea",
          "Ethiopia",
          "Gambia",
          "Madagascar",
          "Sudan",
          "Djibouti",
          "Senegal",
          "Malawi",
          "Lesotho",
          "Uganda",
          "Benin",
          "Rwanda",
          "Nigeria",
          "Haiti",
          "Togo",
          "Pakistan",
          "Tanzania",
          "Mauritania",
          "Papua New Guinea",
          "Comoros",
          "Solomon Islands",
          "Zambia",
          "Congo",
          "Kenya",
          "Cameroon",
          "Syrian Arab Republic",
          "Myanmar",
          "Angola",
          "Cambodia",
          "Zimbabwe",
          "Equatorial Guinea",
          "Nepal",
          "Lao People's Democratic Republic",
          "Vanuatu",
          "Timor-Leste",
          "Namibia",
          "Sao Tome and Principe",
          "Honduras",
          "Kiribati",
          "Guatemala",
          "Ghana",
          "India",
          "Marshall Islands",
          "Tuvalu",
          "Bangladesh",
          "Bhutan",
          "Nicaragua",
          "El Salvador",
          "Morocco",
          "Belize",
          "Tajikistan",
          "Iraq",
          "Bolivia",
          "Botswana",
          "Philippines",
          "Indonesia",
          "Lebanon",
          "Gabon",
          "Samoa",
          "Jamaica",
          "South Africa",
          "Guyana",
          "Saint Lucia",
          "Paraguay",
          "Jordan",
          "Dominica",
          "Uzbekistan",
          "Suriname",
          "Fiji",
          "Tunisia",
          "Egypt",
          "Mongolia",
          "Ecuador",
          "Azerbaijan",
          "Turkmenistan",
          "Algeria",
          "Tonga",
          "Maldives",
          "Saint Vincent and the Grenadines",
          "Colombia",
          "Brazil",
          "Mexico",
          "Armenia",
          "Peru",
          "Cuba",
          "Palau",
          "Dominican Republic",
          "China",
          "North Macedonia",
          "Ukraine",
          "Iran",
          "Saint Kitts and Nevis",
          "Bosnia and Herzegovina",
          "Sri Lanka",
          "Seychelles",
          "Antigua and Barbuda",
          "Barbados",
          "Bulgaria",
          "Grenada",
          "Albania",
          "Thailand",
          "Serbia",
          "Mauritius",
          "Georgia",
          "Malaysia",
          "Panama",
          "Belarus",
          "Costa Rica",
          "Uruguay",
          "Trinidad and Tobago",
          "Kazakhstan",
          "Bahamas",
          "Oman",
          "Romania",
          "Russian Federation",
          "Brunei Darussalam",
          "Kuwait",
          "Montenegro",
          "Turkey",
          "Argentina",
          "Hungary",
          "San Marino",
          "Qatar",
          "Chile",
          "Andorra",
          "Croatia",
          "Latvia",
          "Portugal",
          "Saudi Arabia",
          "Bahrain",
          "Lithuania",
          "Poland",
          "Greece",
          "Estonia",
          "Italy",
          "Cyprus",
          "France",
          "Spain",
          "United Arab Emirates",
          "Austria",
          "Malta",
          "Slovenia",
          "Israel",
          "United States",
          "Japan",
          "Korea",
          "United Kingdom",
          "Luxembourg",
          "Liechtenstein",
          "Canada",
          "New Zealand",
          "Belgium",
          "Singapore",
          "Finland",
          "Netherlands",
          "Germany",
          "Ireland",
          "Sweden",
          "Denmark",
          "Australia",
          "Hong Kong",
          "Iceland",
          "Norway",
          "Switzerland",
          "Monaco",
          "Nauru",
          "Somalia"
         ],
         "categoryorder": "array",
         "domain": [
          0,
          1
         ],
         "title": {
          "text": "Tonnes per capita per country, countries are sorted on HDI, from low to high"
         }
        },
        "yaxis": {
         "anchor": "x",
         "domain": [
          0,
          1
         ],
         "title": {
          "text": "CO2 Emissions in tons per capita"
         }
        }
       }
      }
     },
     "metadata": {},
     "output_type": "display_data"
    }
   ],
   "source": [
    "fig = px.bar(dataset, x='Country', y='TonsPerCapita')\n",
    "desired_order = dataset.sort_values('Human Development Index (HDI) ')['Country'].to_list()\n",
    "fig.update_xaxes(categoryorder='array', categoryarray=desired_order, title=\"Tonnes per capita per country, countries are sorted on HDI, from low to high\")\n",
    "fig.update_yaxes(title=\"CO2 Emissions in tons per capita\")\n",
    "fig.show()"
   ]
  },
  {
   "attachments": {},
   "cell_type": "markdown",
   "id": "0d7ef20e",
   "metadata": {},
   "source": [
    "The plot above displays countries and their emissions represented in tons per capita, the countries are sorted on HDI, ascending from left to right. In the plot it can be seen that the emissions increase towards the right end of the chart, where the countries with a higer HDI sit. From this figure a conclusion can be drawn; the higher the HDI of a country is, the higher its emissions per capita. This conclusion is backed up by the following article from the IMF: https://www.imf.org/en/Publications/fandd/issues/2021/09/climate-change-and-inequality-guivarch-mejean-taconet"
   ]
  },
  {
   "cell_type": "code",
   "execution_count": 26,
   "id": "b9d75c97",
   "metadata": {},
   "outputs": [
    {
     "data": {
      "application/vnd.plotly.v1+json": {
       "config": {
        "plotlyServerURL": "https://plot.ly"
       },
       "data": [
        {
         "hovertemplate": "Human Development Index (HDI) =%{x}<br>TonsPerCapita=%{y}<extra></extra>",
         "legendgroup": "",
         "marker": {
          "color": "#636efa",
          "symbol": "circle"
         },
         "mode": "markers",
         "name": "",
         "orientation": "v",
         "showlegend": false,
         "type": "scatter",
         "x": [
          0.962,
          0.961,
          0.959,
          0.952,
          0.951,
          0.948,
          0.947,
          0.945,
          0.942,
          0.941,
          0.94,
          0.939,
          0.937,
          0.937,
          0.936,
          0.935,
          0.93,
          0.929,
          0.925,
          0.925,
          0.921,
          0.919,
          0.918,
          0.918,
          0.916,
          0.911,
          0.905,
          0.903,
          0.896,
          0.895,
          0.89,
          0.887,
          0.876,
          0.875,
          0.875,
          0.875,
          0.866,
          0.863,
          0.858,
          0.858,
          0.855,
          0.855,
          0.853,
          0.846,
          0.842,
          0.838,
          0.832,
          0.831,
          0.829,
          0.822,
          0.821,
          0.816,
          0.812,
          0.811,
          0.81,
          0.809,
          0.809,
          0.808,
          0.805,
          0.803,
          0.802,
          0.802,
          0.802,
          0.8,
          0.796,
          0.795,
          0.795,
          0.79,
          0.788,
          0.785,
          0.782,
          0.78,
          0.777,
          0.774,
          0.773,
          0.77,
          0.768,
          0.767,
          0.767,
          0.764,
          0.762,
          0.759,
          0.758,
          0.754,
          0.752,
          0.751,
          0.747,
          0.745,
          0.745,
          0.745,
          0.745,
          0.74,
          0.739,
          0.731,
          0.731,
          0.73,
          0.73,
          0.727,
          0.72,
          0.72,
          0.717,
          0.715,
          0.714,
          0.713,
          0.709,
          0.707,
          0.706,
          0.706,
          0.705,
          0.699,
          0.693,
          0.692,
          0.686,
          0.685,
          0.683,
          0.683,
          0.675,
          0.667,
          0.666,
          0.661,
          0.641,
          0.639,
          0.633,
          0.632,
          0.627,
          0.624,
          0.621,
          0.618,
          0.615,
          0.607,
          0.607,
          0.607,
          0.602,
          0.596,
          0.593,
          0.593,
          0.586,
          0.585,
          0.577,
          0.576,
          0.575,
          0.571,
          0.565,
          0.564,
          0.558,
          0.558,
          0.556,
          0.549,
          0.544,
          0.539,
          0.535,
          0.535,
          0.534,
          0.525,
          0.525,
          0.514,
          0.512,
          0.511,
          0.509,
          0.508,
          0.501,
          0.5,
          0.498,
          0.492,
          0.483,
          0.481,
          0.479,
          0.478,
          0.477,
          0.465,
          0.455,
          0.449,
          0.446,
          0.428,
          0.426,
          0.404,
          0.4,
          0.394,
          null,
          null,
          null
         ],
         "xaxis": "x",
         "y": [
          4.35860986463416,
          6.72159668026454,
          4.53818056761232,
          null,
          15.2534842144406,
          5.10733483053002,
          3.40520330654476,
          7.24532561598917,
          7.9116327565745,
          8.43713249228562,
          7.37227538509629,
          8.30683384386162,
          8.09545320820473,
          6.83015343830334,
          15.4306867089188,
          3.85634842263916,
          15.3051366046184,
          5.22054271474254,
          8.54099642273341,
          null,
          14.6734069066187,
          6.91962668433841,
          6.51211342736133,
          3.29046823605033,
          7.29356796007171,
          20.502131158379,
          5.09130433611131,
          4.45948233425117,
          5.85366965160526,
          5.31129216603885,
          7.66856231601826,
          5.59589060644222,
          7.77369965738609,
          4.19818355363391,
          22.2573732354965,
          14.619510641057,
          4.33963238155587,
          3.95501776027238,
          4.06451947763153,
          6.57359548354139,
          4.79894282854815,
          32.7608483080326,
          null,
          4.74686630762979,
          3.74054556792816,
          null,
          4.18164455619361,
          20.8615433113418,
          15.9484805318139,
          11.7972031697435,
          3.81734687725071,
          16.517625915536,
          null,
          11.4568243697509,
          11.307374231474,
          1.8930355158909,
          1.62022778104258,
          6.1224715114762,
          3.15277002040386,
          7.72059339068809,
          2.7184844956979,
          3.29751420347931,
          6.61548529315423,
          3.74558237088436,
          1.69196805679788,
          5.61130176334883,
          2.64821876731528,
          4.46131058605182,
          5.60265748993128,
          6.26786171574904,
          1.09078567169656,
          6.26858423708555,
          null,
          null,
          3.93662418026611,
          3.99798911153978,
          7.60593715481142,
          2.50262776236684,
          14.0488948425988,
          2.28961683784588,
          1.72875979581452,
          2.18733447682445,
          3.59167752319055,
          2.05067522030747,
          1.61472979894597,
          null,
          4.18149959960992,
          1.55215290945298,
          4.01002515655643,
          11.8320608207949,
          3.54219847943239,
          2.26556094590901,
          7.13831390006899,
          null,
          2.48216620464866,
          1.77728057138813,
          4.41266964406189,
          3.47546109555142,
          2.3019188436558,
          2.34921879375035,
          1.2578357268409,
          null,
          3.56330430057853,
          7.56863986304694,
          2.98332523625751,
          1.39402090559449,
          2.33883319176827,
          4.83343990140277,
          2.29925841210138,
          1.3174265336933,
          2.90134584042418,
          1.8969264216844,
          4.19980069060561,
          1.00863199894013,
          1.64432850589188,
          1.96887937134246,
          1.24164499411406,
          0.785738252717168,
          1.37310266737376,
          0.548203063745619,
          1.00401606425703,
          4.01314612770524,
          1.77592336065614,
          0.635759648172769,
          1.16315163563343,
          0.699447042441706,
          1.02618490587598,
          0.67754276580972,
          1.72317672697785,
          0.480616788942534,
          null,
          0.692500755574828,
          0.466425105894405,
          3.44603552665723,
          0.765887347954438,
          0.998127685367231,
          0.779292238004638,
          0.692270988660452,
          1.279424761886,
          0.365719311524116,
          0.437312382670169,
          null,
          0.370169936286202,
          0.529635122142007,
          0.404811210312193,
          0.794551859966051,
          0.9008293853187,
          0.208008410661582,
          0.853455151001409,
          0.286955359237684,
          0.567021903283868,
          0.297241022260954,
          0.103842079658883,
          0.136489535980747,
          0.593981795938373,
          0.345868404665135,
          0.077048499213217,
          0.663505112656688,
          0.391082259304987,
          0.477025250662743,
          0.149654957550419,
          null,
          0.160876309494148,
          0.250170200336228,
          0.167879837012429,
          0.237097588524958,
          null,
          0.16085016113134,
          0.111708613630116,
          0.307092838157974,
          null,
          0.23882618443359,
          0.247480691728196,
          0.283642715782006,
          0.0606930385071358,
          0.0465703419483987,
          0.0916654854525537,
          0.139376119327835,
          null,
          5.2917903066271,
          0.0434069819101074
         ],
         "yaxis": "y"
        },
        {
         "hovertemplate": "<b>LOWESS trendline</b><br><br>Human Development Index (HDI) =%{x}<br>TonsPerCapita=%{y} <b>(trend)</b><extra></extra>",
         "legendgroup": "",
         "line": {
          "color": "black"
         },
         "marker": {
          "color": "#636efa",
          "symbol": "circle"
         },
         "mode": "lines",
         "name": "",
         "showlegend": false,
         "type": "scatter",
         "x": [
          0.394,
          0.4,
          0.404,
          0.426,
          0.428,
          0.446,
          0.449,
          0.465,
          0.477,
          0.478,
          0.481,
          0.483,
          0.492,
          0.498,
          0.501,
          0.508,
          0.509,
          0.511,
          0.512,
          0.514,
          0.525,
          0.525,
          0.534,
          0.535,
          0.535,
          0.539,
          0.544,
          0.549,
          0.556,
          0.558,
          0.558,
          0.564,
          0.565,
          0.575,
          0.576,
          0.577,
          0.585,
          0.586,
          0.593,
          0.593,
          0.596,
          0.602,
          0.607,
          0.607,
          0.615,
          0.618,
          0.621,
          0.624,
          0.627,
          0.632,
          0.633,
          0.639,
          0.641,
          0.661,
          0.666,
          0.667,
          0.675,
          0.683,
          0.683,
          0.685,
          0.686,
          0.692,
          0.693,
          0.699,
          0.705,
          0.706,
          0.706,
          0.707,
          0.709,
          0.713,
          0.714,
          0.717,
          0.72,
          0.72,
          0.727,
          0.73,
          0.73,
          0.731,
          0.739,
          0.74,
          0.745,
          0.745,
          0.745,
          0.745,
          0.747,
          0.752,
          0.754,
          0.758,
          0.759,
          0.762,
          0.764,
          0.767,
          0.767,
          0.768,
          0.77,
          0.773,
          0.78,
          0.782,
          0.785,
          0.788,
          0.79,
          0.795,
          0.795,
          0.796,
          0.8,
          0.802,
          0.802,
          0.802,
          0.803,
          0.805,
          0.808,
          0.809,
          0.809,
          0.81,
          0.811,
          0.816,
          0.821,
          0.822,
          0.829,
          0.831,
          0.832,
          0.842,
          0.846,
          0.855,
          0.855,
          0.858,
          0.858,
          0.863,
          0.866,
          0.875,
          0.875,
          0.875,
          0.876,
          0.887,
          0.89,
          0.895,
          0.896,
          0.903,
          0.905,
          0.911,
          0.916,
          0.918,
          0.918,
          0.919,
          0.921,
          0.925,
          0.929,
          0.93,
          0.935,
          0.936,
          0.937,
          0.937,
          0.939,
          0.94,
          0.941,
          0.942,
          0.945,
          0.947,
          0.948,
          0.951,
          0.959,
          0.961,
          0.962
         ],
         "xaxis": "x",
         "y": [
          -0.3465197429453928,
          -0.31072167586773847,
          -0.28667594986313105,
          -0.1517612789861446,
          -0.13926826098541417,
          -0.025097087702877278,
          -0.00576676579813002,
          0.09874994120862432,
          0.17864952534869105,
          0.1853637389229159,
          0.20555653425025913,
          0.21905974542456788,
          0.2802229221397255,
          0.3213489263301852,
          0.3420132837630847,
          0.390485179705287,
          0.39743837215101935,
          0.4113658920979573,
          0.4183401494081588,
          0.43230947464910163,
          0.5096282283620223,
          0.5096282283620223,
          0.5734933200999948,
          0.5806231769852047,
          0.5806231769852047,
          0.6092119728575837,
          0.6451110140069476,
          0.6812069980810788,
          0.7321213549773904,
          0.7467626041012262,
          0.7467626041012262,
          0.7909911657602203,
          0.7984132867612865,
          0.873696705054019,
          0.8813564263858933,
          0.889045556632755,
          0.9518284539306033,
          0.95986336575026,
          1.017543790754671,
          1.017543790754671,
          1.0430907270760978,
          1.098358992866097,
          1.1489395828577293,
          1.1489395828577293,
          1.222786179660889,
          1.252574909127269,
          1.281179358733425,
          1.310059015689409,
          1.3392245991041276,
          1.3914753176582852,
          1.4014024747473806,
          1.464888798181087,
          1.4900664868781361,
          1.7280069463800736,
          1.7891306318957758,
          1.8034674985168841,
          1.9106677088901918,
          2.018351121205858,
          2.018351121205858,
          2.0463808272425372,
          2.0587519278950506,
          2.1393728522243545,
          2.1520846922841197,
          2.239310611075705,
          2.320337068244046,
          2.33461714901891,
          2.33461714901891,
          2.3480999286257154,
          2.377693396345343,
          2.4386589201671565,
          2.4524737159968137,
          2.4963981992254585,
          2.5394402521126307,
          2.5394402521126307,
          2.643579767202515,
          2.69096606757119,
          2.69096606757119,
          2.706870159835768,
          2.832105433977961,
          2.8484284650974816,
          2.926345244899343,
          2.926345244899343,
          2.926345244899343,
          2.926345244899343,
          2.958616562392111,
          3.03866085017677,
          3.0718482457622884,
          3.1377093162477006,
          3.1540164105618733,
          3.2048997609915837,
          3.238584570425471,
          3.289448564040101,
          3.289448564040101,
          3.3059875390434894,
          3.339656103948114,
          3.390123656473325,
          3.509212467549885,
          3.543574317252659,
          3.595756285481583,
          3.64834435007642,
          3.68438436160933,
          3.774776812605444,
          3.774776812605444,
          3.791885743355913,
          3.8740875818891345,
          3.9089005730778084,
          3.9089005730778084,
          3.9089005730778084,
          3.9262907336802235,
          3.961044028593996,
          4.013139443998944,
          4.030509850996377,
          4.030509850996377,
          4.047891672489959,
          4.069747038400882,
          4.166725260108679,
          4.27734100142532,
          4.299171150512741,
          4.448521439081041,
          4.490174604212611,
          4.5108583096409465,
          4.713753646681218,
          4.7935159677075845,
          4.971404630470423,
          4.971404630470423,
          5.03039587605373,
          5.03039587605373,
          5.128524002937452,
          5.18732736937961,
          5.363648057748621,
          5.363648057748621,
          5.363648057748621,
          5.38324549250091,
          5.599126882609789,
          5.658137254543415,
          5.756645365095561,
          5.776371476775053,
          5.914692146465494,
          5.954290816833043,
          6.073310816367102,
          6.172770821917674,
          6.212629480148361,
          6.212629480148361,
          6.232575097202561,
          6.272499091406573,
          6.3524781074310885,
          6.432629896870047,
          6.452694007756028,
          6.553167587167945,
          6.573292555713151,
          6.59342756798007,
          6.59342756798007,
          6.633727673251314,
          6.653892551701245,
          6.674067046191188,
          6.694250845833779,
          6.754853481665484,
          6.7952926928718735,
          6.815521901744373,
          6.8762423741850425,
          7.0383403755800975,
          7.078890075929329,
          7.099167131884789
         ],
         "yaxis": "y"
        }
       ],
       "layout": {
        "legend": {
         "tracegroupgap": 0
        },
        "margin": {
         "t": 60
        },
        "template": {
         "data": {
          "bar": [
           {
            "error_x": {
             "color": "#2a3f5f"
            },
            "error_y": {
             "color": "#2a3f5f"
            },
            "marker": {
             "line": {
              "color": "#E5ECF6",
              "width": 0.5
             },
             "pattern": {
              "fillmode": "overlay",
              "size": 10,
              "solidity": 0.2
             }
            },
            "type": "bar"
           }
          ],
          "barpolar": [
           {
            "marker": {
             "line": {
              "color": "#E5ECF6",
              "width": 0.5
             },
             "pattern": {
              "fillmode": "overlay",
              "size": 10,
              "solidity": 0.2
             }
            },
            "type": "barpolar"
           }
          ],
          "carpet": [
           {
            "aaxis": {
             "endlinecolor": "#2a3f5f",
             "gridcolor": "white",
             "linecolor": "white",
             "minorgridcolor": "white",
             "startlinecolor": "#2a3f5f"
            },
            "baxis": {
             "endlinecolor": "#2a3f5f",
             "gridcolor": "white",
             "linecolor": "white",
             "minorgridcolor": "white",
             "startlinecolor": "#2a3f5f"
            },
            "type": "carpet"
           }
          ],
          "choropleth": [
           {
            "colorbar": {
             "outlinewidth": 0,
             "ticks": ""
            },
            "type": "choropleth"
           }
          ],
          "contour": [
           {
            "colorbar": {
             "outlinewidth": 0,
             "ticks": ""
            },
            "colorscale": [
             [
              0,
              "#0d0887"
             ],
             [
              0.1111111111111111,
              "#46039f"
             ],
             [
              0.2222222222222222,
              "#7201a8"
             ],
             [
              0.3333333333333333,
              "#9c179e"
             ],
             [
              0.4444444444444444,
              "#bd3786"
             ],
             [
              0.5555555555555556,
              "#d8576b"
             ],
             [
              0.6666666666666666,
              "#ed7953"
             ],
             [
              0.7777777777777778,
              "#fb9f3a"
             ],
             [
              0.8888888888888888,
              "#fdca26"
             ],
             [
              1,
              "#f0f921"
             ]
            ],
            "type": "contour"
           }
          ],
          "contourcarpet": [
           {
            "colorbar": {
             "outlinewidth": 0,
             "ticks": ""
            },
            "type": "contourcarpet"
           }
          ],
          "heatmap": [
           {
            "colorbar": {
             "outlinewidth": 0,
             "ticks": ""
            },
            "colorscale": [
             [
              0,
              "#0d0887"
             ],
             [
              0.1111111111111111,
              "#46039f"
             ],
             [
              0.2222222222222222,
              "#7201a8"
             ],
             [
              0.3333333333333333,
              "#9c179e"
             ],
             [
              0.4444444444444444,
              "#bd3786"
             ],
             [
              0.5555555555555556,
              "#d8576b"
             ],
             [
              0.6666666666666666,
              "#ed7953"
             ],
             [
              0.7777777777777778,
              "#fb9f3a"
             ],
             [
              0.8888888888888888,
              "#fdca26"
             ],
             [
              1,
              "#f0f921"
             ]
            ],
            "type": "heatmap"
           }
          ],
          "heatmapgl": [
           {
            "colorbar": {
             "outlinewidth": 0,
             "ticks": ""
            },
            "colorscale": [
             [
              0,
              "#0d0887"
             ],
             [
              0.1111111111111111,
              "#46039f"
             ],
             [
              0.2222222222222222,
              "#7201a8"
             ],
             [
              0.3333333333333333,
              "#9c179e"
             ],
             [
              0.4444444444444444,
              "#bd3786"
             ],
             [
              0.5555555555555556,
              "#d8576b"
             ],
             [
              0.6666666666666666,
              "#ed7953"
             ],
             [
              0.7777777777777778,
              "#fb9f3a"
             ],
             [
              0.8888888888888888,
              "#fdca26"
             ],
             [
              1,
              "#f0f921"
             ]
            ],
            "type": "heatmapgl"
           }
          ],
          "histogram": [
           {
            "marker": {
             "pattern": {
              "fillmode": "overlay",
              "size": 10,
              "solidity": 0.2
             }
            },
            "type": "histogram"
           }
          ],
          "histogram2d": [
           {
            "colorbar": {
             "outlinewidth": 0,
             "ticks": ""
            },
            "colorscale": [
             [
              0,
              "#0d0887"
             ],
             [
              0.1111111111111111,
              "#46039f"
             ],
             [
              0.2222222222222222,
              "#7201a8"
             ],
             [
              0.3333333333333333,
              "#9c179e"
             ],
             [
              0.4444444444444444,
              "#bd3786"
             ],
             [
              0.5555555555555556,
              "#d8576b"
             ],
             [
              0.6666666666666666,
              "#ed7953"
             ],
             [
              0.7777777777777778,
              "#fb9f3a"
             ],
             [
              0.8888888888888888,
              "#fdca26"
             ],
             [
              1,
              "#f0f921"
             ]
            ],
            "type": "histogram2d"
           }
          ],
          "histogram2dcontour": [
           {
            "colorbar": {
             "outlinewidth": 0,
             "ticks": ""
            },
            "colorscale": [
             [
              0,
              "#0d0887"
             ],
             [
              0.1111111111111111,
              "#46039f"
             ],
             [
              0.2222222222222222,
              "#7201a8"
             ],
             [
              0.3333333333333333,
              "#9c179e"
             ],
             [
              0.4444444444444444,
              "#bd3786"
             ],
             [
              0.5555555555555556,
              "#d8576b"
             ],
             [
              0.6666666666666666,
              "#ed7953"
             ],
             [
              0.7777777777777778,
              "#fb9f3a"
             ],
             [
              0.8888888888888888,
              "#fdca26"
             ],
             [
              1,
              "#f0f921"
             ]
            ],
            "type": "histogram2dcontour"
           }
          ],
          "mesh3d": [
           {
            "colorbar": {
             "outlinewidth": 0,
             "ticks": ""
            },
            "type": "mesh3d"
           }
          ],
          "parcoords": [
           {
            "line": {
             "colorbar": {
              "outlinewidth": 0,
              "ticks": ""
             }
            },
            "type": "parcoords"
           }
          ],
          "pie": [
           {
            "automargin": true,
            "type": "pie"
           }
          ],
          "scatter": [
           {
            "fillpattern": {
             "fillmode": "overlay",
             "size": 10,
             "solidity": 0.2
            },
            "type": "scatter"
           }
          ],
          "scatter3d": [
           {
            "line": {
             "colorbar": {
              "outlinewidth": 0,
              "ticks": ""
             }
            },
            "marker": {
             "colorbar": {
              "outlinewidth": 0,
              "ticks": ""
             }
            },
            "type": "scatter3d"
           }
          ],
          "scattercarpet": [
           {
            "marker": {
             "colorbar": {
              "outlinewidth": 0,
              "ticks": ""
             }
            },
            "type": "scattercarpet"
           }
          ],
          "scattergeo": [
           {
            "marker": {
             "colorbar": {
              "outlinewidth": 0,
              "ticks": ""
             }
            },
            "type": "scattergeo"
           }
          ],
          "scattergl": [
           {
            "marker": {
             "colorbar": {
              "outlinewidth": 0,
              "ticks": ""
             }
            },
            "type": "scattergl"
           }
          ],
          "scattermapbox": [
           {
            "marker": {
             "colorbar": {
              "outlinewidth": 0,
              "ticks": ""
             }
            },
            "type": "scattermapbox"
           }
          ],
          "scatterpolar": [
           {
            "marker": {
             "colorbar": {
              "outlinewidth": 0,
              "ticks": ""
             }
            },
            "type": "scatterpolar"
           }
          ],
          "scatterpolargl": [
           {
            "marker": {
             "colorbar": {
              "outlinewidth": 0,
              "ticks": ""
             }
            },
            "type": "scatterpolargl"
           }
          ],
          "scatterternary": [
           {
            "marker": {
             "colorbar": {
              "outlinewidth": 0,
              "ticks": ""
             }
            },
            "type": "scatterternary"
           }
          ],
          "surface": [
           {
            "colorbar": {
             "outlinewidth": 0,
             "ticks": ""
            },
            "colorscale": [
             [
              0,
              "#0d0887"
             ],
             [
              0.1111111111111111,
              "#46039f"
             ],
             [
              0.2222222222222222,
              "#7201a8"
             ],
             [
              0.3333333333333333,
              "#9c179e"
             ],
             [
              0.4444444444444444,
              "#bd3786"
             ],
             [
              0.5555555555555556,
              "#d8576b"
             ],
             [
              0.6666666666666666,
              "#ed7953"
             ],
             [
              0.7777777777777778,
              "#fb9f3a"
             ],
             [
              0.8888888888888888,
              "#fdca26"
             ],
             [
              1,
              "#f0f921"
             ]
            ],
            "type": "surface"
           }
          ],
          "table": [
           {
            "cells": {
             "fill": {
              "color": "#EBF0F8"
             },
             "line": {
              "color": "white"
             }
            },
            "header": {
             "fill": {
              "color": "#C8D4E3"
             },
             "line": {
              "color": "white"
             }
            },
            "type": "table"
           }
          ]
         },
         "layout": {
          "annotationdefaults": {
           "arrowcolor": "#2a3f5f",
           "arrowhead": 0,
           "arrowwidth": 1
          },
          "autotypenumbers": "strict",
          "coloraxis": {
           "colorbar": {
            "outlinewidth": 0,
            "ticks": ""
           }
          },
          "colorscale": {
           "diverging": [
            [
             0,
             "#8e0152"
            ],
            [
             0.1,
             "#c51b7d"
            ],
            [
             0.2,
             "#de77ae"
            ],
            [
             0.3,
             "#f1b6da"
            ],
            [
             0.4,
             "#fde0ef"
            ],
            [
             0.5,
             "#f7f7f7"
            ],
            [
             0.6,
             "#e6f5d0"
            ],
            [
             0.7,
             "#b8e186"
            ],
            [
             0.8,
             "#7fbc41"
            ],
            [
             0.9,
             "#4d9221"
            ],
            [
             1,
             "#276419"
            ]
           ],
           "sequential": [
            [
             0,
             "#0d0887"
            ],
            [
             0.1111111111111111,
             "#46039f"
            ],
            [
             0.2222222222222222,
             "#7201a8"
            ],
            [
             0.3333333333333333,
             "#9c179e"
            ],
            [
             0.4444444444444444,
             "#bd3786"
            ],
            [
             0.5555555555555556,
             "#d8576b"
            ],
            [
             0.6666666666666666,
             "#ed7953"
            ],
            [
             0.7777777777777778,
             "#fb9f3a"
            ],
            [
             0.8888888888888888,
             "#fdca26"
            ],
            [
             1,
             "#f0f921"
            ]
           ],
           "sequentialminus": [
            [
             0,
             "#0d0887"
            ],
            [
             0.1111111111111111,
             "#46039f"
            ],
            [
             0.2222222222222222,
             "#7201a8"
            ],
            [
             0.3333333333333333,
             "#9c179e"
            ],
            [
             0.4444444444444444,
             "#bd3786"
            ],
            [
             0.5555555555555556,
             "#d8576b"
            ],
            [
             0.6666666666666666,
             "#ed7953"
            ],
            [
             0.7777777777777778,
             "#fb9f3a"
            ],
            [
             0.8888888888888888,
             "#fdca26"
            ],
            [
             1,
             "#f0f921"
            ]
           ]
          },
          "colorway": [
           "#636efa",
           "#EF553B",
           "#00cc96",
           "#ab63fa",
           "#FFA15A",
           "#19d3f3",
           "#FF6692",
           "#B6E880",
           "#FF97FF",
           "#FECB52"
          ],
          "font": {
           "color": "#2a3f5f"
          },
          "geo": {
           "bgcolor": "white",
           "lakecolor": "white",
           "landcolor": "#E5ECF6",
           "showlakes": true,
           "showland": true,
           "subunitcolor": "white"
          },
          "hoverlabel": {
           "align": "left"
          },
          "hovermode": "closest",
          "mapbox": {
           "style": "light"
          },
          "paper_bgcolor": "white",
          "plot_bgcolor": "#E5ECF6",
          "polar": {
           "angularaxis": {
            "gridcolor": "white",
            "linecolor": "white",
            "ticks": ""
           },
           "bgcolor": "#E5ECF6",
           "radialaxis": {
            "gridcolor": "white",
            "linecolor": "white",
            "ticks": ""
           }
          },
          "scene": {
           "xaxis": {
            "backgroundcolor": "#E5ECF6",
            "gridcolor": "white",
            "gridwidth": 2,
            "linecolor": "white",
            "showbackground": true,
            "ticks": "",
            "zerolinecolor": "white"
           },
           "yaxis": {
            "backgroundcolor": "#E5ECF6",
            "gridcolor": "white",
            "gridwidth": 2,
            "linecolor": "white",
            "showbackground": true,
            "ticks": "",
            "zerolinecolor": "white"
           },
           "zaxis": {
            "backgroundcolor": "#E5ECF6",
            "gridcolor": "white",
            "gridwidth": 2,
            "linecolor": "white",
            "showbackground": true,
            "ticks": "",
            "zerolinecolor": "white"
           }
          },
          "shapedefaults": {
           "line": {
            "color": "#2a3f5f"
           }
          },
          "ternary": {
           "aaxis": {
            "gridcolor": "white",
            "linecolor": "white",
            "ticks": ""
           },
           "baxis": {
            "gridcolor": "white",
            "linecolor": "white",
            "ticks": ""
           },
           "bgcolor": "#E5ECF6",
           "caxis": {
            "gridcolor": "white",
            "linecolor": "white",
            "ticks": ""
           }
          },
          "title": {
           "x": 0.05
          },
          "xaxis": {
           "automargin": true,
           "gridcolor": "white",
           "linecolor": "white",
           "ticks": "",
           "title": {
            "standoff": 15
           },
           "zerolinecolor": "white",
           "zerolinewidth": 2
          },
          "yaxis": {
           "automargin": true,
           "gridcolor": "white",
           "linecolor": "white",
           "ticks": "",
           "title": {
            "standoff": 15
           },
           "zerolinecolor": "white",
           "zerolinewidth": 2
          }
         }
        },
        "xaxis": {
         "anchor": "y",
         "domain": [
          0,
          1
         ],
         "title": {
          "text": "Human Development Index (HDI) "
         }
        },
        "yaxis": {
         "anchor": "x",
         "domain": [
          0,
          1
         ],
         "title": {
          "text": "CO2 Emissions in tons per capita"
         }
        }
       }
      }
     },
     "metadata": {},
     "output_type": "display_data"
    }
   ],
   "source": [
    "dataset['Human Development Index (HDI) '] = pd.to_numeric(dataset['Human Development Index (HDI) '], errors='coerce')\n",
    "\n",
    "dataset.sort_values('Human Development Index (HDI) ', ascending=False, inplace=True)\n",
    "\n",
    "fig = px.scatter(dataset, x=\"Human Development Index (HDI) \", y=\"TonsPerCapita\", trendline=\"lowess\", trendline_color_override=\"black\")\n",
    "fig.update_yaxes(title=\"CO2 Emissions in tons per capita\")\n",
    "fig.show()"
   ]
  },
  {
   "attachments": {},
   "cell_type": "markdown",
   "id": "32d1d673",
   "metadata": {},
   "source": [
    "There is a correlation between tons of CO2 per capita and HDI, but of course correlation does not imply causation. It could be that high tons of CO2 per capita and a high HDI are caused by a large Gross National Income (GNI).\n",
    "\n",
    "One factor to consider is the energy mix used by a country. Countries with a higher GNI might rely heavily on industries that produce significant greenhouse gas emissions, such as manufacturing or fossil fuel extraction. This can result in higher CO2 emissions per capita. However, it's worth noting that countries with high GNI can also invest in cleaner technologies and renewable energy sources, which can mitigate their carbon footprint.\n",
    "\n",
    "Moreover, countries with a higher GNI typically have more financial resources available per person. These countries can allocate greater investments towards the overall development of their nation, including improvements in healthcare, education, infrastructure, and other factors that contribute to a higher HDI.\n",
    "\n",
    "It is important to recognize that the relationship between CO2 emissions per capita, HDI, and GNI is complex and multifaceted. Other factors, such as environmental policies, technological advancements, social priorities, and cultural norms, also influence this relationship. Therefore, a comprehensive understanding requires a careful analysis of these various factors to uncover the underlying dynamics and identify effective strategies for sustainable development.\n",
    "\n",
    "improve this text - ChatGPT"
   ]
  },
  {
   "cell_type": "code",
   "execution_count": 10,
   "id": "27244607",
   "metadata": {},
   "outputs": [
    {
     "data": {
      "application/vnd.plotly.v1+json": {
       "config": {
        "plotlyServerURL": "https://plot.ly"
       },
       "data": [
        {
         "hovertemplate": "Gross national income (GNI) per capita=%{x}<br>Human Development Index (HDI) =%{y}<extra></extra>",
         "legendgroup": "",
         "marker": {
          "color": "#636efa",
          "symbol": "circle"
         },
         "mode": "markers",
         "name": "",
         "orientation": "v",
         "showlegend": false,
         "type": "scatter",
         "x": [
          66933,
          64660,
          55782,
          62607,
          49238,
          60365,
          54489,
          76169,
          54534,
          55979,
          49452,
          90919,
          44057,
          52293,
          46808,
          146830,
          84649,
          45225,
          42274,
          44501,
          64765,
          41524,
          38884,
          39746,
          53619,
          62574,
          38354,
          45937,
          38188,
          42840,
          38048,
          29002,
          33034,
          46112,
          39497,
          37931,
          33155,
          32803,
          30132,
          51167,
          24563,
          87134,
          52654,
          32789,
          20925,
          31033,
          20839,
          52920,
          64490,
          27166,
          30027,
          27054,
          30486,
          23943,
          23392,
          19974,
          21269,
          18849,
          26957,
          26658,
          14664,
          22025,
          19123,
          17030,
          14131,
          13484,
          23079,
          12306,
          16792,
          25831,
          12578,
          15242,
          23358,
          13001,
          13256,
          15918,
          17504,
          13819,
          17990,
          7879,
          12246,
          13158,
          17896,
          14370,
          14384,
          11961,
          15448,
          14257,
          13021,
          10800,
          6822,
          10312,
          10588,
          11732,
          10258,
          9980,
          12672,
          7917,
          9924,
          11488,
          12349,
          12048,
          22465,
          12948,
          8834,
          5308,
          13367,
          9526,
          11466,
          8920,
          16198,
          8111,
          9977,
          4548,
          6309,
          7303,
          8296,
          5625,
          9438,
          5472,
          6351,
          4620,
          6590,
          5745,
          8723,
          4063,
          5298,
          4021,
          8634,
          4461,
          7700,
          3085,
          3877,
          12074,
          3810,
          4079,
          5466,
          3851,
          4192,
          3621,
          4474,
          2889,
          3218,
          2482,
          4009,
          3142,
          5075,
          2664,
          4624,
          2167,
          4790,
          2848,
          2210,
          2181,
          3409,
          2700,
          1466,
          3344,
          5025,
          3575,
          1484,
          2172,
          2361,
          1729,
          1908,
          1289,
          1076,
          1824,
          1622,
          2481,
          1314,
          2118,
          1198,
          2133,
          732,
          966,
          1240,
          1364,
          1,
          17730,
          1018
         ],
         "xaxis": "x",
         "y": [
          0.962,
          0.961,
          0.959,
          0.952,
          0.951,
          0.948,
          0.947,
          0.945,
          0.942,
          0.941,
          0.94,
          0.939,
          0.937,
          0.937,
          0.936,
          0.935,
          0.93,
          0.929,
          0.925,
          0.925,
          0.921,
          0.919,
          0.918,
          0.918,
          0.916,
          0.911,
          0.905,
          0.903,
          0.896,
          0.895,
          0.89,
          0.887,
          0.876,
          0.875,
          0.875,
          0.875,
          0.866,
          0.863,
          0.858,
          0.858,
          0.855,
          0.855,
          0.853,
          0.846,
          0.842,
          0.838,
          0.832,
          0.831,
          0.829,
          0.822,
          0.821,
          0.816,
          0.812,
          0.811,
          0.81,
          0.809,
          0.809,
          0.808,
          0.805,
          0.803,
          0.802,
          0.802,
          0.802,
          0.8,
          0.796,
          0.795,
          0.795,
          0.79,
          0.788,
          0.785,
          0.782,
          0.78,
          0.777,
          0.774,
          0.773,
          0.77,
          0.768,
          0.767,
          0.767,
          0.764,
          0.762,
          0.759,
          0.758,
          0.754,
          0.752,
          0.751,
          0.747,
          0.745,
          0.745,
          0.745,
          0.745,
          0.74,
          0.739,
          0.731,
          0.731,
          0.73,
          0.73,
          0.727,
          0.72,
          0.72,
          0.717,
          0.715,
          0.714,
          0.713,
          0.709,
          0.707,
          0.706,
          0.706,
          0.705,
          0.699,
          0.693,
          0.692,
          0.686,
          0.685,
          0.683,
          0.683,
          0.675,
          0.667,
          0.666,
          0.661,
          0.641,
          0.639,
          0.633,
          0.632,
          0.627,
          0.624,
          0.621,
          0.618,
          0.615,
          0.607,
          0.607,
          0.607,
          0.602,
          0.596,
          0.593,
          0.593,
          0.586,
          0.585,
          0.577,
          0.576,
          0.575,
          0.571,
          0.565,
          0.564,
          0.558,
          0.558,
          0.556,
          0.549,
          0.544,
          0.539,
          0.535,
          0.535,
          0.534,
          0.525,
          0.525,
          0.514,
          0.512,
          0.511,
          0.509,
          0.508,
          0.501,
          0.5,
          0.498,
          0.492,
          0.483,
          0.481,
          0.479,
          0.478,
          0.477,
          0.465,
          0.455,
          0.449,
          0.446,
          0.428,
          0.426,
          0.404,
          0.4,
          0.394,
          null,
          null,
          null
         ],
         "yaxis": "y"
        },
        {
         "hovertemplate": "<b>LOWESS trendline</b><br><br>Gross national income (GNI) per capita=%{x}<br>Human Development Index (HDI) =%{y} <b>(trend)</b><extra></extra>",
         "legendgroup": "",
         "marker": {
          "color": "#636efa",
          "symbol": "circle"
         },
         "mode": "lines",
         "name": "",
         "showlegend": false,
         "type": "scatter",
         "x": [
          732,
          966,
          1076,
          1198,
          1240,
          1289,
          1314,
          1364,
          1466,
          1484,
          1622,
          1729,
          1824,
          1908,
          2118,
          2133,
          2167,
          2172,
          2181,
          2210,
          2361,
          2481,
          2482,
          2664,
          2700,
          2848,
          2889,
          3085,
          3142,
          3218,
          3344,
          3409,
          3575,
          3621,
          3810,
          3851,
          3877,
          4009,
          4021,
          4063,
          4079,
          4192,
          4461,
          4474,
          4548,
          4620,
          4624,
          4790,
          5025,
          5075,
          5298,
          5308,
          5466,
          5472,
          5625,
          5745,
          6309,
          6351,
          6590,
          6822,
          7303,
          7700,
          7879,
          7917,
          8111,
          8296,
          8634,
          8723,
          8834,
          8920,
          9438,
          9526,
          9924,
          9977,
          9980,
          10258,
          10312,
          10588,
          10800,
          11466,
          11488,
          11732,
          11961,
          12048,
          12074,
          12246,
          12306,
          12349,
          12578,
          12672,
          12948,
          13001,
          13021,
          13158,
          13256,
          13367,
          13484,
          13819,
          14131,
          14257,
          14370,
          14384,
          14664,
          15242,
          15448,
          15918,
          16198,
          16792,
          17030,
          17504,
          17896,
          17990,
          18849,
          19123,
          19974,
          20839,
          20925,
          21269,
          22025,
          22465,
          23079,
          23358,
          23392,
          23943,
          24563,
          25831,
          26658,
          26957,
          27054,
          27166,
          29002,
          30027,
          30132,
          30486,
          31033,
          32789,
          32803,
          33034,
          33155,
          37931,
          38048,
          38188,
          38354,
          38884,
          39497,
          39746,
          41524,
          42274,
          42840,
          44057,
          44501,
          45225,
          45937,
          46112,
          46808,
          49238,
          49452,
          51167,
          52293,
          52654,
          52920,
          53619,
          54489,
          54534,
          55782,
          55979,
          60365,
          62574,
          62607,
          64490,
          64660,
          64765,
          66933,
          76169,
          84649,
          87134,
          90919,
          146830
         ],
         "xaxis": "x",
         "y": [
          0.4862987699191323,
          0.49176360942440595,
          0.49432705999617355,
          0.49716599906361103,
          0.49814231968945255,
          0.49928069808413944,
          0.4998612282383252,
          0.5010217303574526,
          0.5033868471046203,
          0.5038038993736449,
          0.5069981013245509,
          0.509470874630233,
          0.5116634868509794,
          0.5135999988213368,
          0.5184322269800766,
          0.5187768943731027,
          0.5195578991623496,
          0.5196727246165354,
          0.5198793922481926,
          0.520545162467038,
          0.5240078669247848,
          0.5267550761191938,
          0.526777952552852,
          0.5309368479361496,
          0.5317584090675856,
          0.5351322577153015,
          0.5360658682304779,
          0.5405228727053482,
          0.5418171696437801,
          0.5435416035468029,
          0.5463973014150947,
          0.54786891675772,
          0.5516224385306759,
          0.5526613758510617,
          0.5569247138264123,
          0.5578484467226313,
          0.5584340245490298,
          0.5614045348188971,
          0.5616743816851018,
          0.5626185855982351,
          0.5629781761213901,
          0.5655161221474921,
          0.57154614602897,
          0.5718371473753249,
          0.5734928958505394,
          0.5751027189652089,
          0.5751921196101107,
          0.5788990918481501,
          0.5841363751644767,
          0.5852490977262266,
          0.5902050576168185,
          0.5904270392376456,
          0.5939314088489451,
          0.5940643771718049,
          0.597452370072962,
          0.6001059716737163,
          0.6125339985394889,
          0.6134565212240491,
          0.6186979853005122,
          0.6237722924980303,
          0.6342469942177874,
          0.6428416334665962,
          0.6467003305481465,
          0.64751810709549,
          0.6516852109863039,
          0.6556462461432729,
          0.6628486590979474,
          0.6647372830798424,
          0.6670879398380277,
          0.6689054130224338,
          0.6797791749915059,
          0.6816132509722429,
          0.6898554475351927,
          0.6909459437319984,
          0.6910076154473739,
          0.6966943839912293,
          0.6977916855037456,
          0.7033504654017543,
          0.707543301317282,
          0.718176529485422,
          0.7185732718365926,
          0.7218782091898197,
          0.7249759101038707,
          0.7260668840636328,
          0.7263907383665688,
          0.7287668506606859,
          0.7295809229321356,
          0.7301994559627568,
          0.7328794467735137,
          0.7339956219945614,
          0.7370182655610406,
          0.7376371700440641,
          0.7378423870154659,
          0.739220379981453,
          0.7401783468833307,
          0.7412387160382801,
          0.7423319776144094,
          0.7455838907249664,
          0.7483144747387084,
          0.7495235263240634,
          0.7507147107344772,
          0.7508842745194927,
          0.7533222172813628,
          0.7574996986570274,
          0.7590081784017154,
          0.7620413442643322,
          0.7641511421155136,
          0.7677955329704031,
          0.7691893504697436,
          0.7719413337482797,
          0.7744437147528305,
          0.7749610521386248,
          0.7796205510011351,
          0.7811093141183647,
          0.7858321908692771,
          0.7909356065148576,
          0.7914421919227437,
          0.7934568021632821,
          0.7977944905972044,
          0.8003282644081833,
          0.8038823398427938,
          0.8055057461534431,
          0.8057025424557287,
          0.8089215784658387,
          0.812552088517405,
          0.8199037982383923,
          0.8245273413254828,
          0.826174704653435,
          0.826702638966369,
          0.8273103397930747,
          0.8371325540350391,
          0.8421850442250209,
          0.8426672613235242,
          0.8444684168780466,
          0.8468555017490796,
          0.8538722786633925,
          0.8539263184861097,
          0.8548172090704783,
          0.8552834109606301,
          0.873211101153051,
          0.8735979003751558,
          0.874058983863275,
          0.8746035230507122,
          0.8763302760297479,
          0.8783148926343771,
          0.8791197812605898,
          0.8851898905728938,
          0.8876064432448529,
          0.8894215989392732,
          0.8932884331257994,
          0.8946871379454586,
          0.89695589914687,
          0.8991859906435189,
          0.8997267706538821,
          0.9018903767538239,
          0.9088815308907096,
          0.9094387239130609,
          0.913524448757226,
          0.9158608459285283,
          0.9165626574423699,
          0.9170674081823676,
          0.9183507169098366,
          0.9198788485917848,
          0.9199562397797042,
          0.9220566237367499,
          0.9223819480602446,
          0.9294905887902056,
          0.9330778214945961,
          0.9331315981295839,
          0.9362070999529981,
          0.936485264782028,
          0.9366570985740719,
          0.9402065044246338,
          0.9550194355608833,
          0.9608701904277198,
          0.9600953482432595,
          0.9583958770710858,
          0.9660419730449596
         ],
         "yaxis": "y"
        }
       ],
       "layout": {
        "legend": {
         "tracegroupgap": 0
        },
        "margin": {
         "t": 60
        },
        "template": {
         "data": {
          "bar": [
           {
            "error_x": {
             "color": "#2a3f5f"
            },
            "error_y": {
             "color": "#2a3f5f"
            },
            "marker": {
             "line": {
              "color": "#E5ECF6",
              "width": 0.5
             },
             "pattern": {
              "fillmode": "overlay",
              "size": 10,
              "solidity": 0.2
             }
            },
            "type": "bar"
           }
          ],
          "barpolar": [
           {
            "marker": {
             "line": {
              "color": "#E5ECF6",
              "width": 0.5
             },
             "pattern": {
              "fillmode": "overlay",
              "size": 10,
              "solidity": 0.2
             }
            },
            "type": "barpolar"
           }
          ],
          "carpet": [
           {
            "aaxis": {
             "endlinecolor": "#2a3f5f",
             "gridcolor": "white",
             "linecolor": "white",
             "minorgridcolor": "white",
             "startlinecolor": "#2a3f5f"
            },
            "baxis": {
             "endlinecolor": "#2a3f5f",
             "gridcolor": "white",
             "linecolor": "white",
             "minorgridcolor": "white",
             "startlinecolor": "#2a3f5f"
            },
            "type": "carpet"
           }
          ],
          "choropleth": [
           {
            "colorbar": {
             "outlinewidth": 0,
             "ticks": ""
            },
            "type": "choropleth"
           }
          ],
          "contour": [
           {
            "colorbar": {
             "outlinewidth": 0,
             "ticks": ""
            },
            "colorscale": [
             [
              0,
              "#0d0887"
             ],
             [
              0.1111111111111111,
              "#46039f"
             ],
             [
              0.2222222222222222,
              "#7201a8"
             ],
             [
              0.3333333333333333,
              "#9c179e"
             ],
             [
              0.4444444444444444,
              "#bd3786"
             ],
             [
              0.5555555555555556,
              "#d8576b"
             ],
             [
              0.6666666666666666,
              "#ed7953"
             ],
             [
              0.7777777777777778,
              "#fb9f3a"
             ],
             [
              0.8888888888888888,
              "#fdca26"
             ],
             [
              1,
              "#f0f921"
             ]
            ],
            "type": "contour"
           }
          ],
          "contourcarpet": [
           {
            "colorbar": {
             "outlinewidth": 0,
             "ticks": ""
            },
            "type": "contourcarpet"
           }
          ],
          "heatmap": [
           {
            "colorbar": {
             "outlinewidth": 0,
             "ticks": ""
            },
            "colorscale": [
             [
              0,
              "#0d0887"
             ],
             [
              0.1111111111111111,
              "#46039f"
             ],
             [
              0.2222222222222222,
              "#7201a8"
             ],
             [
              0.3333333333333333,
              "#9c179e"
             ],
             [
              0.4444444444444444,
              "#bd3786"
             ],
             [
              0.5555555555555556,
              "#d8576b"
             ],
             [
              0.6666666666666666,
              "#ed7953"
             ],
             [
              0.7777777777777778,
              "#fb9f3a"
             ],
             [
              0.8888888888888888,
              "#fdca26"
             ],
             [
              1,
              "#f0f921"
             ]
            ],
            "type": "heatmap"
           }
          ],
          "heatmapgl": [
           {
            "colorbar": {
             "outlinewidth": 0,
             "ticks": ""
            },
            "colorscale": [
             [
              0,
              "#0d0887"
             ],
             [
              0.1111111111111111,
              "#46039f"
             ],
             [
              0.2222222222222222,
              "#7201a8"
             ],
             [
              0.3333333333333333,
              "#9c179e"
             ],
             [
              0.4444444444444444,
              "#bd3786"
             ],
             [
              0.5555555555555556,
              "#d8576b"
             ],
             [
              0.6666666666666666,
              "#ed7953"
             ],
             [
              0.7777777777777778,
              "#fb9f3a"
             ],
             [
              0.8888888888888888,
              "#fdca26"
             ],
             [
              1,
              "#f0f921"
             ]
            ],
            "type": "heatmapgl"
           }
          ],
          "histogram": [
           {
            "marker": {
             "pattern": {
              "fillmode": "overlay",
              "size": 10,
              "solidity": 0.2
             }
            },
            "type": "histogram"
           }
          ],
          "histogram2d": [
           {
            "colorbar": {
             "outlinewidth": 0,
             "ticks": ""
            },
            "colorscale": [
             [
              0,
              "#0d0887"
             ],
             [
              0.1111111111111111,
              "#46039f"
             ],
             [
              0.2222222222222222,
              "#7201a8"
             ],
             [
              0.3333333333333333,
              "#9c179e"
             ],
             [
              0.4444444444444444,
              "#bd3786"
             ],
             [
              0.5555555555555556,
              "#d8576b"
             ],
             [
              0.6666666666666666,
              "#ed7953"
             ],
             [
              0.7777777777777778,
              "#fb9f3a"
             ],
             [
              0.8888888888888888,
              "#fdca26"
             ],
             [
              1,
              "#f0f921"
             ]
            ],
            "type": "histogram2d"
           }
          ],
          "histogram2dcontour": [
           {
            "colorbar": {
             "outlinewidth": 0,
             "ticks": ""
            },
            "colorscale": [
             [
              0,
              "#0d0887"
             ],
             [
              0.1111111111111111,
              "#46039f"
             ],
             [
              0.2222222222222222,
              "#7201a8"
             ],
             [
              0.3333333333333333,
              "#9c179e"
             ],
             [
              0.4444444444444444,
              "#bd3786"
             ],
             [
              0.5555555555555556,
              "#d8576b"
             ],
             [
              0.6666666666666666,
              "#ed7953"
             ],
             [
              0.7777777777777778,
              "#fb9f3a"
             ],
             [
              0.8888888888888888,
              "#fdca26"
             ],
             [
              1,
              "#f0f921"
             ]
            ],
            "type": "histogram2dcontour"
           }
          ],
          "mesh3d": [
           {
            "colorbar": {
             "outlinewidth": 0,
             "ticks": ""
            },
            "type": "mesh3d"
           }
          ],
          "parcoords": [
           {
            "line": {
             "colorbar": {
              "outlinewidth": 0,
              "ticks": ""
             }
            },
            "type": "parcoords"
           }
          ],
          "pie": [
           {
            "automargin": true,
            "type": "pie"
           }
          ],
          "scatter": [
           {
            "fillpattern": {
             "fillmode": "overlay",
             "size": 10,
             "solidity": 0.2
            },
            "type": "scatter"
           }
          ],
          "scatter3d": [
           {
            "line": {
             "colorbar": {
              "outlinewidth": 0,
              "ticks": ""
             }
            },
            "marker": {
             "colorbar": {
              "outlinewidth": 0,
              "ticks": ""
             }
            },
            "type": "scatter3d"
           }
          ],
          "scattercarpet": [
           {
            "marker": {
             "colorbar": {
              "outlinewidth": 0,
              "ticks": ""
             }
            },
            "type": "scattercarpet"
           }
          ],
          "scattergeo": [
           {
            "marker": {
             "colorbar": {
              "outlinewidth": 0,
              "ticks": ""
             }
            },
            "type": "scattergeo"
           }
          ],
          "scattergl": [
           {
            "marker": {
             "colorbar": {
              "outlinewidth": 0,
              "ticks": ""
             }
            },
            "type": "scattergl"
           }
          ],
          "scattermapbox": [
           {
            "marker": {
             "colorbar": {
              "outlinewidth": 0,
              "ticks": ""
             }
            },
            "type": "scattermapbox"
           }
          ],
          "scatterpolar": [
           {
            "marker": {
             "colorbar": {
              "outlinewidth": 0,
              "ticks": ""
             }
            },
            "type": "scatterpolar"
           }
          ],
          "scatterpolargl": [
           {
            "marker": {
             "colorbar": {
              "outlinewidth": 0,
              "ticks": ""
             }
            },
            "type": "scatterpolargl"
           }
          ],
          "scatterternary": [
           {
            "marker": {
             "colorbar": {
              "outlinewidth": 0,
              "ticks": ""
             }
            },
            "type": "scatterternary"
           }
          ],
          "surface": [
           {
            "colorbar": {
             "outlinewidth": 0,
             "ticks": ""
            },
            "colorscale": [
             [
              0,
              "#0d0887"
             ],
             [
              0.1111111111111111,
              "#46039f"
             ],
             [
              0.2222222222222222,
              "#7201a8"
             ],
             [
              0.3333333333333333,
              "#9c179e"
             ],
             [
              0.4444444444444444,
              "#bd3786"
             ],
             [
              0.5555555555555556,
              "#d8576b"
             ],
             [
              0.6666666666666666,
              "#ed7953"
             ],
             [
              0.7777777777777778,
              "#fb9f3a"
             ],
             [
              0.8888888888888888,
              "#fdca26"
             ],
             [
              1,
              "#f0f921"
             ]
            ],
            "type": "surface"
           }
          ],
          "table": [
           {
            "cells": {
             "fill": {
              "color": "#EBF0F8"
             },
             "line": {
              "color": "white"
             }
            },
            "header": {
             "fill": {
              "color": "#C8D4E3"
             },
             "line": {
              "color": "white"
             }
            },
            "type": "table"
           }
          ]
         },
         "layout": {
          "annotationdefaults": {
           "arrowcolor": "#2a3f5f",
           "arrowhead": 0,
           "arrowwidth": 1
          },
          "autotypenumbers": "strict",
          "coloraxis": {
           "colorbar": {
            "outlinewidth": 0,
            "ticks": ""
           }
          },
          "colorscale": {
           "diverging": [
            [
             0,
             "#8e0152"
            ],
            [
             0.1,
             "#c51b7d"
            ],
            [
             0.2,
             "#de77ae"
            ],
            [
             0.3,
             "#f1b6da"
            ],
            [
             0.4,
             "#fde0ef"
            ],
            [
             0.5,
             "#f7f7f7"
            ],
            [
             0.6,
             "#e6f5d0"
            ],
            [
             0.7,
             "#b8e186"
            ],
            [
             0.8,
             "#7fbc41"
            ],
            [
             0.9,
             "#4d9221"
            ],
            [
             1,
             "#276419"
            ]
           ],
           "sequential": [
            [
             0,
             "#0d0887"
            ],
            [
             0.1111111111111111,
             "#46039f"
            ],
            [
             0.2222222222222222,
             "#7201a8"
            ],
            [
             0.3333333333333333,
             "#9c179e"
            ],
            [
             0.4444444444444444,
             "#bd3786"
            ],
            [
             0.5555555555555556,
             "#d8576b"
            ],
            [
             0.6666666666666666,
             "#ed7953"
            ],
            [
             0.7777777777777778,
             "#fb9f3a"
            ],
            [
             0.8888888888888888,
             "#fdca26"
            ],
            [
             1,
             "#f0f921"
            ]
           ],
           "sequentialminus": [
            [
             0,
             "#0d0887"
            ],
            [
             0.1111111111111111,
             "#46039f"
            ],
            [
             0.2222222222222222,
             "#7201a8"
            ],
            [
             0.3333333333333333,
             "#9c179e"
            ],
            [
             0.4444444444444444,
             "#bd3786"
            ],
            [
             0.5555555555555556,
             "#d8576b"
            ],
            [
             0.6666666666666666,
             "#ed7953"
            ],
            [
             0.7777777777777778,
             "#fb9f3a"
            ],
            [
             0.8888888888888888,
             "#fdca26"
            ],
            [
             1,
             "#f0f921"
            ]
           ]
          },
          "colorway": [
           "#636efa",
           "#EF553B",
           "#00cc96",
           "#ab63fa",
           "#FFA15A",
           "#19d3f3",
           "#FF6692",
           "#B6E880",
           "#FF97FF",
           "#FECB52"
          ],
          "font": {
           "color": "#2a3f5f"
          },
          "geo": {
           "bgcolor": "white",
           "lakecolor": "white",
           "landcolor": "#E5ECF6",
           "showlakes": true,
           "showland": true,
           "subunitcolor": "white"
          },
          "hoverlabel": {
           "align": "left"
          },
          "hovermode": "closest",
          "mapbox": {
           "style": "light"
          },
          "paper_bgcolor": "white",
          "plot_bgcolor": "#E5ECF6",
          "polar": {
           "angularaxis": {
            "gridcolor": "white",
            "linecolor": "white",
            "ticks": ""
           },
           "bgcolor": "#E5ECF6",
           "radialaxis": {
            "gridcolor": "white",
            "linecolor": "white",
            "ticks": ""
           }
          },
          "scene": {
           "xaxis": {
            "backgroundcolor": "#E5ECF6",
            "gridcolor": "white",
            "gridwidth": 2,
            "linecolor": "white",
            "showbackground": true,
            "ticks": "",
            "zerolinecolor": "white"
           },
           "yaxis": {
            "backgroundcolor": "#E5ECF6",
            "gridcolor": "white",
            "gridwidth": 2,
            "linecolor": "white",
            "showbackground": true,
            "ticks": "",
            "zerolinecolor": "white"
           },
           "zaxis": {
            "backgroundcolor": "#E5ECF6",
            "gridcolor": "white",
            "gridwidth": 2,
            "linecolor": "white",
            "showbackground": true,
            "ticks": "",
            "zerolinecolor": "white"
           }
          },
          "shapedefaults": {
           "line": {
            "color": "#2a3f5f"
           }
          },
          "ternary": {
           "aaxis": {
            "gridcolor": "white",
            "linecolor": "white",
            "ticks": ""
           },
           "baxis": {
            "gridcolor": "white",
            "linecolor": "white",
            "ticks": ""
           },
           "bgcolor": "#E5ECF6",
           "caxis": {
            "gridcolor": "white",
            "linecolor": "white",
            "ticks": ""
           }
          },
          "title": {
           "x": 0.05
          },
          "xaxis": {
           "automargin": true,
           "gridcolor": "white",
           "linecolor": "white",
           "ticks": "",
           "title": {
            "standoff": 15
           },
           "zerolinecolor": "white",
           "zerolinewidth": 2
          },
          "yaxis": {
           "automargin": true,
           "gridcolor": "white",
           "linecolor": "white",
           "ticks": "",
           "title": {
            "standoff": 15
           },
           "zerolinecolor": "white",
           "zerolinewidth": 2
          }
         }
        },
        "xaxis": {
         "anchor": "y",
         "domain": [
          0,
          1
         ],
         "title": {
          "text": "Gross national income (GNI) per capita"
         }
        },
        "yaxis": {
         "anchor": "x",
         "domain": [
          0,
          1
         ],
         "title": {
          "text": "Human Development Index (HDI) "
         }
        }
       }
      }
     },
     "metadata": {},
     "output_type": "display_data"
    },
    {
     "data": {
      "application/vnd.plotly.v1+json": {
       "config": {
        "plotlyServerURL": "https://plot.ly"
       },
       "data": [
        {
         "hovertemplate": "Gross national income (GNI) per capita=%{x}<br>TonsPerCapita=%{y}<extra></extra>",
         "legendgroup": "",
         "marker": {
          "color": "#636efa",
          "symbol": "circle"
         },
         "mode": "markers",
         "name": "",
         "orientation": "v",
         "showlegend": false,
         "type": "scatter",
         "x": [
          66933,
          64660,
          55782,
          62607,
          49238,
          60365,
          54489,
          76169,
          54534,
          55979,
          49452,
          90919,
          44057,
          52293,
          46808,
          146830,
          84649,
          45225,
          42274,
          44501,
          64765,
          41524,
          38884,
          39746,
          53619,
          62574,
          38354,
          45937,
          38188,
          42840,
          38048,
          29002,
          33034,
          46112,
          39497,
          37931,
          33155,
          32803,
          30132,
          51167,
          24563,
          87134,
          52654,
          32789,
          20925,
          31033,
          20839,
          52920,
          64490,
          27166,
          30027,
          27054,
          30486,
          23943,
          23392,
          19974,
          21269,
          18849,
          26957,
          26658,
          14664,
          22025,
          19123,
          17030,
          14131,
          13484,
          23079,
          12306,
          16792,
          25831,
          12578,
          15242,
          23358,
          13001,
          13256,
          15918,
          17504,
          13819,
          17990,
          7879,
          12246,
          13158,
          17896,
          14370,
          14384,
          11961,
          15448,
          14257,
          13021,
          10800,
          6822,
          10312,
          10588,
          11732,
          10258,
          9980,
          12672,
          7917,
          9924,
          11488,
          12349,
          12048,
          22465,
          12948,
          8834,
          5308,
          13367,
          9526,
          11466,
          8920,
          16198,
          8111,
          9977,
          4548,
          6309,
          7303,
          8296,
          5625,
          9438,
          5472,
          6351,
          4620,
          6590,
          5745,
          8723,
          4063,
          5298,
          4021,
          8634,
          4461,
          7700,
          3085,
          3877,
          12074,
          3810,
          4079,
          5466,
          3851,
          4192,
          3621,
          4474,
          2889,
          3218,
          2482,
          4009,
          3142,
          5075,
          2664,
          4624,
          2167,
          4790,
          2848,
          2210,
          2181,
          3409,
          2700,
          1466,
          3344,
          5025,
          3575,
          1484,
          2172,
          2361,
          1729,
          1908,
          1289,
          1076,
          1824,
          1622,
          2481,
          1314,
          2118,
          1198,
          2133,
          732,
          966,
          1240,
          1364,
          1,
          17730,
          1018
         ],
         "xaxis": "x",
         "y": [
          4.35860986463416,
          6.72159668026454,
          4.53818056761232,
          null,
          15.2534842144406,
          5.10733483053002,
          3.40520330654476,
          7.24532561598917,
          7.9116327565745,
          8.43713249228562,
          7.37227538509629,
          8.30683384386162,
          6.83015343830334,
          8.09545320820473,
          15.4306867089188,
          3.85634842263916,
          15.3051366046184,
          5.22054271474254,
          8.54099642273341,
          null,
          14.6734069066187,
          6.91962668433841,
          3.29046823605033,
          6.51211342736133,
          7.29356796007171,
          20.502131158379,
          5.09130433611131,
          4.45948233425117,
          5.85366965160526,
          5.31129216603885,
          7.66856231601826,
          5.59589060644222,
          7.77369965738609,
          14.619510641057,
          22.2573732354965,
          4.19818355363391,
          4.33963238155587,
          3.95501776027238,
          4.06451947763153,
          6.57359548354139,
          4.79894282854815,
          32.7608483080326,
          null,
          4.74686630762979,
          3.74054556792816,
          null,
          4.18164455619361,
          20.8615433113418,
          15.9484805318139,
          11.7972031697435,
          3.81734687725071,
          16.517625915536,
          null,
          11.4568243697509,
          11.307374231474,
          1.62022778104258,
          1.8930355158909,
          6.1224715114762,
          3.15277002040386,
          7.72059339068809,
          2.7184844956979,
          3.29751420347931,
          6.61548529315423,
          3.74558237088436,
          1.69196805679788,
          2.64821876731528,
          5.61130176334883,
          4.46131058605182,
          5.60265748993128,
          6.26786171574904,
          1.09078567169656,
          6.26858423708555,
          null,
          null,
          3.93662418026611,
          3.99798911153978,
          7.60593715481142,
          14.0488948425988,
          2.50262776236684,
          2.28961683784588,
          1.72875979581452,
          2.18733447682445,
          3.59167752319055,
          2.05067522030747,
          1.61472979894597,
          null,
          4.18149959960992,
          3.54219847943239,
          11.8320608207949,
          4.01002515655643,
          1.55215290945298,
          2.26556094590901,
          7.13831390006899,
          null,
          2.48216620464866,
          1.77728057138813,
          4.41266964406189,
          3.47546109555142,
          2.3019188436558,
          2.34921879375035,
          1.2578357268409,
          null,
          3.56330430057853,
          7.56863986304694,
          2.98332523625751,
          1.39402090559449,
          2.33883319176827,
          4.83343990140277,
          2.29925841210138,
          1.3174265336933,
          2.90134584042418,
          1.8969264216844,
          4.19980069060561,
          1.00863199894013,
          1.64432850589188,
          1.96887937134246,
          1.24164499411406,
          0.785738252717168,
          1.37310266737376,
          0.548203063745619,
          1.00401606425703,
          4.01314612770524,
          1.77592336065614,
          0.635759648172769,
          1.16315163563343,
          0.699447042441706,
          1.02618490587598,
          0.67754276580972,
          1.72317672697785,
          0.480616788942534,
          null,
          0.692500755574828,
          0.466425105894405,
          3.44603552665723,
          0.765887347954438,
          0.998127685367231,
          0.779292238004638,
          0.692270988660452,
          1.279424761886,
          0.365719311524116,
          0.437312382670169,
          null,
          0.370169936286202,
          0.529635122142007,
          0.794551859966051,
          0.404811210312193,
          0.9008293853187,
          0.208008410661582,
          0.853455151001409,
          0.286955359237684,
          0.567021903283868,
          0.297241022260954,
          0.103842079658883,
          0.136489535980747,
          0.593981795938373,
          0.345868404665135,
          0.077048499213217,
          0.663505112656688,
          0.391082259304987,
          0.477025250662743,
          0.149654957550419,
          null,
          0.160876309494148,
          0.250170200336228,
          0.167879837012429,
          0.237097588524958,
          null,
          0.16085016113134,
          0.111708613630116,
          0.307092838157974,
          null,
          0.23882618443359,
          0.247480691728196,
          0.283642715782006,
          0.0606930385071358,
          0.0465703419483987,
          0.0916654854525537,
          0.139376119327835,
          null,
          5.2917903066271,
          0.0434069819101074
         ],
         "yaxis": "y"
        },
        {
         "hovertemplate": "<b>LOWESS trendline</b><br><br>Gross national income (GNI) per capita=%{x}<br>TonsPerCapita=%{y} <b>(trend)</b><extra></extra>",
         "legendgroup": "",
         "marker": {
          "color": "#636efa",
          "symbol": "circle"
         },
         "mode": "lines",
         "name": "",
         "showlegend": false,
         "type": "scatter",
         "x": [
          732,
          966,
          1018,
          1198,
          1240,
          1289,
          1364,
          1466,
          1484,
          1622,
          1729,
          1824,
          1908,
          2118,
          2133,
          2167,
          2181,
          2210,
          2361,
          2481,
          2482,
          2664,
          2700,
          2848,
          3085,
          3142,
          3218,
          3344,
          3409,
          3575,
          3621,
          3810,
          3851,
          3877,
          4009,
          4021,
          4063,
          4079,
          4192,
          4461,
          4474,
          4548,
          4620,
          4624,
          4790,
          5025,
          5075,
          5298,
          5308,
          5466,
          5472,
          5625,
          5745,
          6309,
          6351,
          6590,
          6822,
          7303,
          7879,
          7917,
          8111,
          8296,
          8634,
          8723,
          8834,
          8920,
          9438,
          9526,
          9924,
          9977,
          9980,
          10258,
          10312,
          10588,
          10800,
          11466,
          11488,
          12074,
          12246,
          12306,
          12349,
          12578,
          12672,
          12948,
          13021,
          13158,
          13256,
          13367,
          13484,
          13819,
          14131,
          14257,
          14370,
          14384,
          14664,
          15242,
          15448,
          15918,
          16198,
          16792,
          17030,
          17504,
          17730,
          17896,
          17990,
          18849,
          19123,
          19974,
          20839,
          20925,
          21269,
          22025,
          22465,
          23079,
          23392,
          23943,
          24563,
          25831,
          26658,
          26957,
          27054,
          27166,
          29002,
          30027,
          30132,
          32789,
          32803,
          33034,
          33155,
          37931,
          38048,
          38188,
          38354,
          38884,
          39497,
          39746,
          41524,
          42274,
          42840,
          44057,
          45225,
          45937,
          46112,
          46808,
          49238,
          49452,
          51167,
          52293,
          52920,
          53619,
          54489,
          54534,
          55782,
          55979,
          60365,
          62574,
          64490,
          64660,
          64765,
          66933,
          76169,
          84649,
          87134,
          90919,
          146830
         ],
         "xaxis": "x",
         "y": [
          -0.06730831956975857,
          -0.011124300728044224,
          0.0013576097805250576,
          0.04455405023142314,
          0.05463087066566287,
          0.06638599785747853,
          0.08437605465120623,
          0.10883753965469743,
          0.11315365703828588,
          0.1462375176627408,
          0.17188143413763218,
          0.1946432077409345,
          0.2147643619681909,
          0.26504543534701536,
          0.26863570088661554,
          0.27677300447575265,
          0.28012340218021126,
          0.2870630309912509,
          0.3231862669496972,
          0.35188029780786767,
          0.3521193644661789,
          0.3956152719442482,
          0.40421543808973426,
          0.4395594366572633,
          0.4961152649361406,
          0.5097092802525532,
          0.5278296689098751,
          0.5578586414812965,
          0.5733434657300308,
          0.6128693760843862,
          0.6238171754400907,
          0.6687743005026651,
          0.6785217305052649,
          0.6847020601415033,
          0.7160674325237327,
          0.7189178550689227,
          0.7288930447045436,
          0.7326925879243367,
          0.7595184895000517,
          0.8233180862533175,
          0.8263991363362341,
          0.8439334799168603,
          0.8609874491092397,
          0.8619347035609137,
          0.9012281084696675,
          0.9567944552320612,
          0.9686079067587979,
          1.021256412769753,
          1.0236158196069711,
          1.060877185573135,
          1.0622915332810763,
          1.0983415854160425,
          1.1265949904450774,
          1.2591484981339547,
          1.2690047917927023,
          1.3250566252535254,
          1.3794139355117707,
          1.491973911413415,
          1.626603848650655,
          1.635482661876144,
          1.6808102360225072,
          1.7240358860678322,
          1.8030241676833745,
          1.8238283169147285,
          1.8497796903252293,
          1.869890409990497,
          1.9911321852027666,
          2.0117538625397153,
          2.1051480032094525,
          2.117603615485783,
          2.118308799240328,
          2.1837291064096256,
          2.1964541192095846,
          2.261580350801242,
          2.3115917497449905,
          2.463539292467871,
          2.468353111484762,
          2.592834255744137,
          2.6266393128238614,
          2.637794224315366,
          2.6460250539038226,
          2.688024818261991,
          2.7050554740591517,
          2.752688946420382,
          2.7649084221194085,
          2.787143606447554,
          2.8028114931539303,
          2.8204413030503064,
          2.8389280599263556,
          2.8942798071288816,
          2.9432858621531657,
          2.9648695412557955,
          2.9835680839572203,
          2.986168647337673,
          3.0343456872574572,
          3.126610989024203,
          3.159512810283486,
          3.2343807577922026,
          3.278970797617137,
          3.3697207907901925,
          3.403596462193672,
          3.4673926484421087,
          3.498788682556569,
          3.5200262793079182,
          3.5313190408035,
          3.621323060283481,
          3.6463267356930813,
          3.7208855574172506,
          3.8065631477152158,
          3.814070295438119,
          3.844886981816637,
          3.9129523233469627,
          3.95234795284326,
          4.010311401917196,
          4.04108693340107,
          4.0986242735435745,
          4.166710544398764,
          4.313196484625548,
          4.407402593172483,
          4.440850846744358,
          4.451625137456687,
          4.464035161211155,
          4.666281336961173,
          4.778501170731939,
          4.790036179177382,
          5.092446996266113,
          5.0940901863209485,
          5.121247838155142,
          5.1355034318886,
          5.698561492985744,
          5.712285466821041,
          5.728698809191539,
          5.74814865654825,
          5.810167747457952,
          5.881765718440828,
          5.910814237255026,
          6.11761618429468,
          6.20481724988041,
          6.27059413904244,
          6.411961797549149,
          6.54754218129583,
          6.629983517937144,
          6.650489570683226,
          6.733202645807147,
          7.045124051811134,
          7.074715524641787,
          7.322577798984888,
          7.4937036774638495,
          7.591099349635759,
          7.701037397546716,
          7.83940012828786,
          7.84659394646612,
          8.047168671907116,
          8.07897854533292,
          8.790800168436324,
          9.149331784447241,
          9.459904797176696,
          9.487449746375777,
          9.504462352553526,
          9.85577017932686,
          11.365861802571139,
          12.821163111431847,
          13.255666866049557,
          13.928087861360707,
          24.58946597841345
         ],
         "yaxis": "y"
        }
       ],
       "layout": {
        "legend": {
         "tracegroupgap": 0
        },
        "margin": {
         "t": 60
        },
        "template": {
         "data": {
          "bar": [
           {
            "error_x": {
             "color": "#2a3f5f"
            },
            "error_y": {
             "color": "#2a3f5f"
            },
            "marker": {
             "line": {
              "color": "#E5ECF6",
              "width": 0.5
             },
             "pattern": {
              "fillmode": "overlay",
              "size": 10,
              "solidity": 0.2
             }
            },
            "type": "bar"
           }
          ],
          "barpolar": [
           {
            "marker": {
             "line": {
              "color": "#E5ECF6",
              "width": 0.5
             },
             "pattern": {
              "fillmode": "overlay",
              "size": 10,
              "solidity": 0.2
             }
            },
            "type": "barpolar"
           }
          ],
          "carpet": [
           {
            "aaxis": {
             "endlinecolor": "#2a3f5f",
             "gridcolor": "white",
             "linecolor": "white",
             "minorgridcolor": "white",
             "startlinecolor": "#2a3f5f"
            },
            "baxis": {
             "endlinecolor": "#2a3f5f",
             "gridcolor": "white",
             "linecolor": "white",
             "minorgridcolor": "white",
             "startlinecolor": "#2a3f5f"
            },
            "type": "carpet"
           }
          ],
          "choropleth": [
           {
            "colorbar": {
             "outlinewidth": 0,
             "ticks": ""
            },
            "type": "choropleth"
           }
          ],
          "contour": [
           {
            "colorbar": {
             "outlinewidth": 0,
             "ticks": ""
            },
            "colorscale": [
             [
              0,
              "#0d0887"
             ],
             [
              0.1111111111111111,
              "#46039f"
             ],
             [
              0.2222222222222222,
              "#7201a8"
             ],
             [
              0.3333333333333333,
              "#9c179e"
             ],
             [
              0.4444444444444444,
              "#bd3786"
             ],
             [
              0.5555555555555556,
              "#d8576b"
             ],
             [
              0.6666666666666666,
              "#ed7953"
             ],
             [
              0.7777777777777778,
              "#fb9f3a"
             ],
             [
              0.8888888888888888,
              "#fdca26"
             ],
             [
              1,
              "#f0f921"
             ]
            ],
            "type": "contour"
           }
          ],
          "contourcarpet": [
           {
            "colorbar": {
             "outlinewidth": 0,
             "ticks": ""
            },
            "type": "contourcarpet"
           }
          ],
          "heatmap": [
           {
            "colorbar": {
             "outlinewidth": 0,
             "ticks": ""
            },
            "colorscale": [
             [
              0,
              "#0d0887"
             ],
             [
              0.1111111111111111,
              "#46039f"
             ],
             [
              0.2222222222222222,
              "#7201a8"
             ],
             [
              0.3333333333333333,
              "#9c179e"
             ],
             [
              0.4444444444444444,
              "#bd3786"
             ],
             [
              0.5555555555555556,
              "#d8576b"
             ],
             [
              0.6666666666666666,
              "#ed7953"
             ],
             [
              0.7777777777777778,
              "#fb9f3a"
             ],
             [
              0.8888888888888888,
              "#fdca26"
             ],
             [
              1,
              "#f0f921"
             ]
            ],
            "type": "heatmap"
           }
          ],
          "heatmapgl": [
           {
            "colorbar": {
             "outlinewidth": 0,
             "ticks": ""
            },
            "colorscale": [
             [
              0,
              "#0d0887"
             ],
             [
              0.1111111111111111,
              "#46039f"
             ],
             [
              0.2222222222222222,
              "#7201a8"
             ],
             [
              0.3333333333333333,
              "#9c179e"
             ],
             [
              0.4444444444444444,
              "#bd3786"
             ],
             [
              0.5555555555555556,
              "#d8576b"
             ],
             [
              0.6666666666666666,
              "#ed7953"
             ],
             [
              0.7777777777777778,
              "#fb9f3a"
             ],
             [
              0.8888888888888888,
              "#fdca26"
             ],
             [
              1,
              "#f0f921"
             ]
            ],
            "type": "heatmapgl"
           }
          ],
          "histogram": [
           {
            "marker": {
             "pattern": {
              "fillmode": "overlay",
              "size": 10,
              "solidity": 0.2
             }
            },
            "type": "histogram"
           }
          ],
          "histogram2d": [
           {
            "colorbar": {
             "outlinewidth": 0,
             "ticks": ""
            },
            "colorscale": [
             [
              0,
              "#0d0887"
             ],
             [
              0.1111111111111111,
              "#46039f"
             ],
             [
              0.2222222222222222,
              "#7201a8"
             ],
             [
              0.3333333333333333,
              "#9c179e"
             ],
             [
              0.4444444444444444,
              "#bd3786"
             ],
             [
              0.5555555555555556,
              "#d8576b"
             ],
             [
              0.6666666666666666,
              "#ed7953"
             ],
             [
              0.7777777777777778,
              "#fb9f3a"
             ],
             [
              0.8888888888888888,
              "#fdca26"
             ],
             [
              1,
              "#f0f921"
             ]
            ],
            "type": "histogram2d"
           }
          ],
          "histogram2dcontour": [
           {
            "colorbar": {
             "outlinewidth": 0,
             "ticks": ""
            },
            "colorscale": [
             [
              0,
              "#0d0887"
             ],
             [
              0.1111111111111111,
              "#46039f"
             ],
             [
              0.2222222222222222,
              "#7201a8"
             ],
             [
              0.3333333333333333,
              "#9c179e"
             ],
             [
              0.4444444444444444,
              "#bd3786"
             ],
             [
              0.5555555555555556,
              "#d8576b"
             ],
             [
              0.6666666666666666,
              "#ed7953"
             ],
             [
              0.7777777777777778,
              "#fb9f3a"
             ],
             [
              0.8888888888888888,
              "#fdca26"
             ],
             [
              1,
              "#f0f921"
             ]
            ],
            "type": "histogram2dcontour"
           }
          ],
          "mesh3d": [
           {
            "colorbar": {
             "outlinewidth": 0,
             "ticks": ""
            },
            "type": "mesh3d"
           }
          ],
          "parcoords": [
           {
            "line": {
             "colorbar": {
              "outlinewidth": 0,
              "ticks": ""
             }
            },
            "type": "parcoords"
           }
          ],
          "pie": [
           {
            "automargin": true,
            "type": "pie"
           }
          ],
          "scatter": [
           {
            "fillpattern": {
             "fillmode": "overlay",
             "size": 10,
             "solidity": 0.2
            },
            "type": "scatter"
           }
          ],
          "scatter3d": [
           {
            "line": {
             "colorbar": {
              "outlinewidth": 0,
              "ticks": ""
             }
            },
            "marker": {
             "colorbar": {
              "outlinewidth": 0,
              "ticks": ""
             }
            },
            "type": "scatter3d"
           }
          ],
          "scattercarpet": [
           {
            "marker": {
             "colorbar": {
              "outlinewidth": 0,
              "ticks": ""
             }
            },
            "type": "scattercarpet"
           }
          ],
          "scattergeo": [
           {
            "marker": {
             "colorbar": {
              "outlinewidth": 0,
              "ticks": ""
             }
            },
            "type": "scattergeo"
           }
          ],
          "scattergl": [
           {
            "marker": {
             "colorbar": {
              "outlinewidth": 0,
              "ticks": ""
             }
            },
            "type": "scattergl"
           }
          ],
          "scattermapbox": [
           {
            "marker": {
             "colorbar": {
              "outlinewidth": 0,
              "ticks": ""
             }
            },
            "type": "scattermapbox"
           }
          ],
          "scatterpolar": [
           {
            "marker": {
             "colorbar": {
              "outlinewidth": 0,
              "ticks": ""
             }
            },
            "type": "scatterpolar"
           }
          ],
          "scatterpolargl": [
           {
            "marker": {
             "colorbar": {
              "outlinewidth": 0,
              "ticks": ""
             }
            },
            "type": "scatterpolargl"
           }
          ],
          "scatterternary": [
           {
            "marker": {
             "colorbar": {
              "outlinewidth": 0,
              "ticks": ""
             }
            },
            "type": "scatterternary"
           }
          ],
          "surface": [
           {
            "colorbar": {
             "outlinewidth": 0,
             "ticks": ""
            },
            "colorscale": [
             [
              0,
              "#0d0887"
             ],
             [
              0.1111111111111111,
              "#46039f"
             ],
             [
              0.2222222222222222,
              "#7201a8"
             ],
             [
              0.3333333333333333,
              "#9c179e"
             ],
             [
              0.4444444444444444,
              "#bd3786"
             ],
             [
              0.5555555555555556,
              "#d8576b"
             ],
             [
              0.6666666666666666,
              "#ed7953"
             ],
             [
              0.7777777777777778,
              "#fb9f3a"
             ],
             [
              0.8888888888888888,
              "#fdca26"
             ],
             [
              1,
              "#f0f921"
             ]
            ],
            "type": "surface"
           }
          ],
          "table": [
           {
            "cells": {
             "fill": {
              "color": "#EBF0F8"
             },
             "line": {
              "color": "white"
             }
            },
            "header": {
             "fill": {
              "color": "#C8D4E3"
             },
             "line": {
              "color": "white"
             }
            },
            "type": "table"
           }
          ]
         },
         "layout": {
          "annotationdefaults": {
           "arrowcolor": "#2a3f5f",
           "arrowhead": 0,
           "arrowwidth": 1
          },
          "autotypenumbers": "strict",
          "coloraxis": {
           "colorbar": {
            "outlinewidth": 0,
            "ticks": ""
           }
          },
          "colorscale": {
           "diverging": [
            [
             0,
             "#8e0152"
            ],
            [
             0.1,
             "#c51b7d"
            ],
            [
             0.2,
             "#de77ae"
            ],
            [
             0.3,
             "#f1b6da"
            ],
            [
             0.4,
             "#fde0ef"
            ],
            [
             0.5,
             "#f7f7f7"
            ],
            [
             0.6,
             "#e6f5d0"
            ],
            [
             0.7,
             "#b8e186"
            ],
            [
             0.8,
             "#7fbc41"
            ],
            [
             0.9,
             "#4d9221"
            ],
            [
             1,
             "#276419"
            ]
           ],
           "sequential": [
            [
             0,
             "#0d0887"
            ],
            [
             0.1111111111111111,
             "#46039f"
            ],
            [
             0.2222222222222222,
             "#7201a8"
            ],
            [
             0.3333333333333333,
             "#9c179e"
            ],
            [
             0.4444444444444444,
             "#bd3786"
            ],
            [
             0.5555555555555556,
             "#d8576b"
            ],
            [
             0.6666666666666666,
             "#ed7953"
            ],
            [
             0.7777777777777778,
             "#fb9f3a"
            ],
            [
             0.8888888888888888,
             "#fdca26"
            ],
            [
             1,
             "#f0f921"
            ]
           ],
           "sequentialminus": [
            [
             0,
             "#0d0887"
            ],
            [
             0.1111111111111111,
             "#46039f"
            ],
            [
             0.2222222222222222,
             "#7201a8"
            ],
            [
             0.3333333333333333,
             "#9c179e"
            ],
            [
             0.4444444444444444,
             "#bd3786"
            ],
            [
             0.5555555555555556,
             "#d8576b"
            ],
            [
             0.6666666666666666,
             "#ed7953"
            ],
            [
             0.7777777777777778,
             "#fb9f3a"
            ],
            [
             0.8888888888888888,
             "#fdca26"
            ],
            [
             1,
             "#f0f921"
            ]
           ]
          },
          "colorway": [
           "#636efa",
           "#EF553B",
           "#00cc96",
           "#ab63fa",
           "#FFA15A",
           "#19d3f3",
           "#FF6692",
           "#B6E880",
           "#FF97FF",
           "#FECB52"
          ],
          "font": {
           "color": "#2a3f5f"
          },
          "geo": {
           "bgcolor": "white",
           "lakecolor": "white",
           "landcolor": "#E5ECF6",
           "showlakes": true,
           "showland": true,
           "subunitcolor": "white"
          },
          "hoverlabel": {
           "align": "left"
          },
          "hovermode": "closest",
          "mapbox": {
           "style": "light"
          },
          "paper_bgcolor": "white",
          "plot_bgcolor": "#E5ECF6",
          "polar": {
           "angularaxis": {
            "gridcolor": "white",
            "linecolor": "white",
            "ticks": ""
           },
           "bgcolor": "#E5ECF6",
           "radialaxis": {
            "gridcolor": "white",
            "linecolor": "white",
            "ticks": ""
           }
          },
          "scene": {
           "xaxis": {
            "backgroundcolor": "#E5ECF6",
            "gridcolor": "white",
            "gridwidth": 2,
            "linecolor": "white",
            "showbackground": true,
            "ticks": "",
            "zerolinecolor": "white"
           },
           "yaxis": {
            "backgroundcolor": "#E5ECF6",
            "gridcolor": "white",
            "gridwidth": 2,
            "linecolor": "white",
            "showbackground": true,
            "ticks": "",
            "zerolinecolor": "white"
           },
           "zaxis": {
            "backgroundcolor": "#E5ECF6",
            "gridcolor": "white",
            "gridwidth": 2,
            "linecolor": "white",
            "showbackground": true,
            "ticks": "",
            "zerolinecolor": "white"
           }
          },
          "shapedefaults": {
           "line": {
            "color": "#2a3f5f"
           }
          },
          "ternary": {
           "aaxis": {
            "gridcolor": "white",
            "linecolor": "white",
            "ticks": ""
           },
           "baxis": {
            "gridcolor": "white",
            "linecolor": "white",
            "ticks": ""
           },
           "bgcolor": "#E5ECF6",
           "caxis": {
            "gridcolor": "white",
            "linecolor": "white",
            "ticks": ""
           }
          },
          "title": {
           "x": 0.05
          },
          "xaxis": {
           "automargin": true,
           "gridcolor": "white",
           "linecolor": "white",
           "ticks": "",
           "title": {
            "standoff": 15
           },
           "zerolinecolor": "white",
           "zerolinewidth": 2
          },
          "yaxis": {
           "automargin": true,
           "gridcolor": "white",
           "linecolor": "white",
           "ticks": "",
           "title": {
            "standoff": 15
           },
           "zerolinecolor": "white",
           "zerolinewidth": 2
          }
         }
        },
        "xaxis": {
         "anchor": "y",
         "domain": [
          0,
          1
         ],
         "title": {
          "text": "Gross national income (GNI) per capita"
         }
        },
        "yaxis": {
         "anchor": "x",
         "domain": [
          0,
          1
         ],
         "title": {
          "text": "TonsPerCapita"
         }
        }
       }
      }
     },
     "metadata": {},
     "output_type": "display_data"
    }
   ],
   "source": [
    "dataset['Gross national income (GNI) per capita'].replace('..', '1', inplace=True)\n",
    "dataset['Gross national income (GNI) per capita'] = pd.to_numeric(dataset['Gross national income (GNI) per capita'])\n",
    "\n",
    "fig_hdi = px.scatter(dataset, x=\"Gross national income (GNI) per capita\", y=\"Human Development Index (HDI) \", trendline=\"lowess\")\n",
    "fig_tons = px.scatter(dataset, x=\"Gross national income (GNI) per capita\", y=\"Tons Per Capita\", trendline=\"lowess\")\n",
    "\n",
    "fig_hdi.show()\n",
    "fig_tons.show()"
   ]
  },
  {
   "cell_type": "code",
   "execution_count": 25,
   "id": "7376f18f",
   "metadata": {},
   "outputs": [
    {
     "data": {
      "application/vnd.plotly.v1+json": {
       "config": {
        "plotlyServerURL": "https://plot.ly"
       },
       "data": [
        {
         "alignmentgroup": "True",
         "hovertemplate": "HUMAN DEVELOPMENT=%{x}<br>CO2 Emissions=%{y}<extra></extra>",
         "legendgroup": "",
         "marker": {
          "color": "#636efa"
         },
         "name": "",
         "notched": false,
         "offsetgroup": "",
         "orientation": "v",
         "showlegend": false,
         "type": "box",
         "x": [
          "VERY HIGH ",
          "VERY HIGH ",
          "VERY HIGH ",
          "VERY HIGH ",
          "VERY HIGH ",
          "VERY HIGH ",
          "VERY HIGH ",
          "VERY HIGH ",
          "VERY HIGH ",
          "VERY HIGH ",
          "VERY HIGH ",
          "VERY HIGH ",
          "VERY HIGH ",
          "VERY HIGH ",
          "VERY HIGH ",
          "VERY HIGH ",
          "VERY HIGH ",
          "VERY HIGH ",
          "VERY HIGH ",
          "VERY HIGH ",
          "VERY HIGH ",
          "VERY HIGH ",
          "VERY HIGH ",
          "VERY HIGH ",
          "VERY HIGH ",
          "VERY HIGH ",
          "VERY HIGH ",
          "VERY HIGH ",
          "VERY HIGH ",
          "VERY HIGH ",
          "VERY HIGH ",
          "VERY HIGH ",
          "VERY HIGH ",
          "VERY HIGH ",
          "VERY HIGH ",
          "VERY HIGH ",
          "VERY HIGH ",
          "VERY HIGH ",
          "VERY HIGH ",
          "VERY HIGH ",
          "VERY HIGH ",
          "VERY HIGH ",
          "VERY HIGH ",
          "VERY HIGH ",
          "VERY HIGH ",
          "VERY HIGH ",
          "VERY HIGH ",
          "VERY HIGH ",
          "VERY HIGH ",
          "VERY HIGH ",
          "VERY HIGH ",
          "VERY HIGH ",
          "VERY HIGH ",
          "VERY HIGH ",
          "VERY HIGH ",
          "VERY HIGH ",
          "VERY HIGH ",
          "VERY HIGH ",
          "VERY HIGH ",
          "VERY HIGH ",
          "VERY HIGH ",
          "VERY HIGH ",
          "VERY HIGH ",
          "VERY HIGH ",
          "HIGH",
          "HIGH",
          "HIGH",
          "HIGH",
          "HIGH",
          "HIGH",
          "HIGH",
          "HIGH",
          "HIGH",
          "HIGH",
          "HIGH",
          "HIGH",
          "HIGH",
          "HIGH",
          "HIGH",
          "HIGH",
          "HIGH",
          "HIGH",
          "HIGH",
          "HIGH",
          "HIGH",
          "HIGH",
          "HIGH",
          "HIGH",
          "HIGH",
          "HIGH",
          "HIGH",
          "HIGH",
          "HIGH",
          "HIGH",
          "HIGH",
          "HIGH",
          "HIGH",
          "HIGH",
          "HIGH",
          "HIGH",
          "HIGH",
          "HIGH",
          "HIGH",
          "HIGH",
          "HIGH",
          "HIGH",
          "HIGH",
          "HIGH",
          "HIGH",
          "MEDIUM ",
          "MEDIUM ",
          "MEDIUM ",
          "MEDIUM ",
          "MEDIUM ",
          "MEDIUM ",
          "MEDIUM ",
          "MEDIUM ",
          "MEDIUM ",
          "MEDIUM ",
          "MEDIUM ",
          "MEDIUM ",
          "MEDIUM ",
          "MEDIUM ",
          "MEDIUM ",
          "MEDIUM ",
          "MEDIUM ",
          "MEDIUM ",
          "MEDIUM ",
          "MEDIUM ",
          "MEDIUM ",
          "MEDIUM ",
          "MEDIUM ",
          "MEDIUM ",
          "MEDIUM ",
          "MEDIUM ",
          "MEDIUM ",
          "MEDIUM ",
          "MEDIUM ",
          "MEDIUM ",
          "MEDIUM ",
          "MEDIUM ",
          "MEDIUM ",
          "MEDIUM ",
          "MEDIUM ",
          "MEDIUM ",
          "MEDIUM ",
          "MEDIUM ",
          "LOW",
          "LOW",
          "LOW",
          "LOW",
          "LOW",
          "LOW",
          "LOW",
          "LOW",
          "LOW",
          "LOW",
          "LOW",
          "LOW",
          "LOW",
          "LOW",
          "LOW",
          "LOW",
          "LOW",
          "LOW",
          "LOW",
          "LOW",
          "LOW",
          "LOW",
          "LOW",
          "LOW",
          "LOW",
          "LOW",
          "LOW",
          "LOW",
          "LOW",
          "LOW",
          "LOW"
         ],
         "x0": " ",
         "xaxis": "x",
         "y": [
          422.20594296019664,
          421.7821122059819,
          409.81407661558296,
          419.3572529801029,
          389.2680733720484,
          420.5745725800366,
          408.23111736887085,
          396.555916342464,
          406.8333578520713,
          391.8981693105448,
          390.50240568848017,
          396.9737401445949,
          430.0187910789606,
          427.6618065313307,
          380.6502799868565,
          384.42567701945865,
          396.5847234640783,
          359.1511933544256,
          436.0398066028176,
          396.4559802157869,
          393.9696651759608,
          403.4146882057546,
          358.6057201369261,
          413.7705515362152,
          360.27565411636255,
          388.84734770976615,
          416.0777822956924,
          407.3435337937283,
          427.0056238092192,
          403.1953774592218,
          359.079152617638,
          415.719429354106,
          378.5903529984706,
          427.3866891010737,
          398.5751676310744,
          389.9281996938101,
          422.4629142172232,
          402.4988175075324,
          416.2620480976784,
          404.9678418216642,
          388.510546498283,
          409.35192525647045,
          385.9845013519555,
          369.2528066483538,
          410.3533961326984,
          368.88671290545045,
          409.8791500565205,
          339.3139825905896,
          384.5234522419193,
          379.47195905225817,
          410.46140623321264,
          439.7864431360691,
          387.7491709611379,
          388.8254914733597,
          421.1176337345042,
          411.7972856413022,
          389.3017729610894,
          370.33936029935984,
          397.71394655968027,
          415.44930049695466,
          408.2209931798064,
          402.579143751813,
          396.5652122640135,
          379.2343925489078,
          407.6828425926466,
          401.236983944697,
          392.96077251846174,
          421.5425311607077,
          412.2551741705718,
          419.1696041659836,
          433.6191898568248,
          388.2642035791422,
          384.2501405292792,
          450.7095820527703,
          411.931685158007,
          389.13707416696127,
          417.1824746890558,
          384.287053720362,
          419.00233538959736,
          421.262580646659,
          353.26486081998985,
          411.0620994904888,
          387.4138604250322,
          347.0230487547133,
          391.4096296927895,
          386.685070853045,
          393.4294475835072,
          393.7501464406279,
          397.258405605879,
          404.6709137280588,
          394.9059598059912,
          383.51440986886246,
          381.7182859209139,
          376.23233048110586,
          388.1995598246405,
          387.2783945364367,
          416.4113735807183,
          400.65826002556025,
          378.692340826852,
          418.6066094322392,
          402.7100876595683,
          350.5872382968125,
          383.5852635651386,
          392.0050397648532,
          388.02600961898366,
          365.3894618173755,
          389.7658993421932,
          403.1021948607928,
          399.3864628867264,
          388.0315252227256,
          387.31249280986697,
          417.0313260589219,
          401.7498453052728,
          417.902542129477,
          388.8764380984079,
          414.3666126451766,
          382.8797133586151,
          420.6985236033792,
          381.71597744712375,
          394.5158726897871,
          443.447467439088,
          445.5166914311664,
          393.01184565667535,
          442.0460704120727,
          407.04790938664064,
          409.33007118060186,
          395.3417995069614,
          385.7693779553992,
          394.9169225329522,
          371.5273257939578,
          387.0356577590516,
          398.5294710321228,
          408.6241463212178,
          419.511860378856,
          389.69460876693176,
          404.8900945141299,
          410.9986851765769,
          423.9113811148055,
          364.602400408247,
          392.1956423880942,
          367.13668948485366,
          397.0180523877973,
          393.9965737614309,
          385.1240313455039,
          392.6603489127052,
          389.5520184878701,
          402.1904476227056,
          366.3365957998261,
          385.8617473955981,
          390.747232180286,
          396.4153137955926,
          388.3459307972406,
          403.3305802503574,
          434.2916627022807,
          370.5748429511713,
          393.4942663094239,
          402.06209357965935,
          422.5300971687794,
          391.6604023206171,
          410.6253487375026,
          373.8887145571334,
          426.2447867482192,
          401.0452408947325,
          407.763052006184,
          366.98760063818736,
          413.5142710178716,
          397.0180523877973,
          373.80737695014136,
          403.1716643660027,
          365.0713077612786,
          396.5076283004069,
          433.2209941869881,
          409.466586471244,
          409.7443118478192,
          413.8014890801183,
          396.0440141559805,
          423.0361887211643,
          381.53905310260177
         ],
         "y0": " ",
         "yaxis": "y"
        }
       ],
       "layout": {
        "boxmode": "group",
        "legend": {
         "tracegroupgap": 0
        },
        "margin": {
         "t": 60
        },
        "template": {
         "data": {
          "bar": [
           {
            "error_x": {
             "color": "#2a3f5f"
            },
            "error_y": {
             "color": "#2a3f5f"
            },
            "marker": {
             "line": {
              "color": "#E5ECF6",
              "width": 0.5
             },
             "pattern": {
              "fillmode": "overlay",
              "size": 10,
              "solidity": 0.2
             }
            },
            "type": "bar"
           }
          ],
          "barpolar": [
           {
            "marker": {
             "line": {
              "color": "#E5ECF6",
              "width": 0.5
             },
             "pattern": {
              "fillmode": "overlay",
              "size": 10,
              "solidity": 0.2
             }
            },
            "type": "barpolar"
           }
          ],
          "carpet": [
           {
            "aaxis": {
             "endlinecolor": "#2a3f5f",
             "gridcolor": "white",
             "linecolor": "white",
             "minorgridcolor": "white",
             "startlinecolor": "#2a3f5f"
            },
            "baxis": {
             "endlinecolor": "#2a3f5f",
             "gridcolor": "white",
             "linecolor": "white",
             "minorgridcolor": "white",
             "startlinecolor": "#2a3f5f"
            },
            "type": "carpet"
           }
          ],
          "choropleth": [
           {
            "colorbar": {
             "outlinewidth": 0,
             "ticks": ""
            },
            "type": "choropleth"
           }
          ],
          "contour": [
           {
            "colorbar": {
             "outlinewidth": 0,
             "ticks": ""
            },
            "colorscale": [
             [
              0,
              "#0d0887"
             ],
             [
              0.1111111111111111,
              "#46039f"
             ],
             [
              0.2222222222222222,
              "#7201a8"
             ],
             [
              0.3333333333333333,
              "#9c179e"
             ],
             [
              0.4444444444444444,
              "#bd3786"
             ],
             [
              0.5555555555555556,
              "#d8576b"
             ],
             [
              0.6666666666666666,
              "#ed7953"
             ],
             [
              0.7777777777777778,
              "#fb9f3a"
             ],
             [
              0.8888888888888888,
              "#fdca26"
             ],
             [
              1,
              "#f0f921"
             ]
            ],
            "type": "contour"
           }
          ],
          "contourcarpet": [
           {
            "colorbar": {
             "outlinewidth": 0,
             "ticks": ""
            },
            "type": "contourcarpet"
           }
          ],
          "heatmap": [
           {
            "colorbar": {
             "outlinewidth": 0,
             "ticks": ""
            },
            "colorscale": [
             [
              0,
              "#0d0887"
             ],
             [
              0.1111111111111111,
              "#46039f"
             ],
             [
              0.2222222222222222,
              "#7201a8"
             ],
             [
              0.3333333333333333,
              "#9c179e"
             ],
             [
              0.4444444444444444,
              "#bd3786"
             ],
             [
              0.5555555555555556,
              "#d8576b"
             ],
             [
              0.6666666666666666,
              "#ed7953"
             ],
             [
              0.7777777777777778,
              "#fb9f3a"
             ],
             [
              0.8888888888888888,
              "#fdca26"
             ],
             [
              1,
              "#f0f921"
             ]
            ],
            "type": "heatmap"
           }
          ],
          "heatmapgl": [
           {
            "colorbar": {
             "outlinewidth": 0,
             "ticks": ""
            },
            "colorscale": [
             [
              0,
              "#0d0887"
             ],
             [
              0.1111111111111111,
              "#46039f"
             ],
             [
              0.2222222222222222,
              "#7201a8"
             ],
             [
              0.3333333333333333,
              "#9c179e"
             ],
             [
              0.4444444444444444,
              "#bd3786"
             ],
             [
              0.5555555555555556,
              "#d8576b"
             ],
             [
              0.6666666666666666,
              "#ed7953"
             ],
             [
              0.7777777777777778,
              "#fb9f3a"
             ],
             [
              0.8888888888888888,
              "#fdca26"
             ],
             [
              1,
              "#f0f921"
             ]
            ],
            "type": "heatmapgl"
           }
          ],
          "histogram": [
           {
            "marker": {
             "pattern": {
              "fillmode": "overlay",
              "size": 10,
              "solidity": 0.2
             }
            },
            "type": "histogram"
           }
          ],
          "histogram2d": [
           {
            "colorbar": {
             "outlinewidth": 0,
             "ticks": ""
            },
            "colorscale": [
             [
              0,
              "#0d0887"
             ],
             [
              0.1111111111111111,
              "#46039f"
             ],
             [
              0.2222222222222222,
              "#7201a8"
             ],
             [
              0.3333333333333333,
              "#9c179e"
             ],
             [
              0.4444444444444444,
              "#bd3786"
             ],
             [
              0.5555555555555556,
              "#d8576b"
             ],
             [
              0.6666666666666666,
              "#ed7953"
             ],
             [
              0.7777777777777778,
              "#fb9f3a"
             ],
             [
              0.8888888888888888,
              "#fdca26"
             ],
             [
              1,
              "#f0f921"
             ]
            ],
            "type": "histogram2d"
           }
          ],
          "histogram2dcontour": [
           {
            "colorbar": {
             "outlinewidth": 0,
             "ticks": ""
            },
            "colorscale": [
             [
              0,
              "#0d0887"
             ],
             [
              0.1111111111111111,
              "#46039f"
             ],
             [
              0.2222222222222222,
              "#7201a8"
             ],
             [
              0.3333333333333333,
              "#9c179e"
             ],
             [
              0.4444444444444444,
              "#bd3786"
             ],
             [
              0.5555555555555556,
              "#d8576b"
             ],
             [
              0.6666666666666666,
              "#ed7953"
             ],
             [
              0.7777777777777778,
              "#fb9f3a"
             ],
             [
              0.8888888888888888,
              "#fdca26"
             ],
             [
              1,
              "#f0f921"
             ]
            ],
            "type": "histogram2dcontour"
           }
          ],
          "mesh3d": [
           {
            "colorbar": {
             "outlinewidth": 0,
             "ticks": ""
            },
            "type": "mesh3d"
           }
          ],
          "parcoords": [
           {
            "line": {
             "colorbar": {
              "outlinewidth": 0,
              "ticks": ""
             }
            },
            "type": "parcoords"
           }
          ],
          "pie": [
           {
            "automargin": true,
            "type": "pie"
           }
          ],
          "scatter": [
           {
            "fillpattern": {
             "fillmode": "overlay",
             "size": 10,
             "solidity": 0.2
            },
            "type": "scatter"
           }
          ],
          "scatter3d": [
           {
            "line": {
             "colorbar": {
              "outlinewidth": 0,
              "ticks": ""
             }
            },
            "marker": {
             "colorbar": {
              "outlinewidth": 0,
              "ticks": ""
             }
            },
            "type": "scatter3d"
           }
          ],
          "scattercarpet": [
           {
            "marker": {
             "colorbar": {
              "outlinewidth": 0,
              "ticks": ""
             }
            },
            "type": "scattercarpet"
           }
          ],
          "scattergeo": [
           {
            "marker": {
             "colorbar": {
              "outlinewidth": 0,
              "ticks": ""
             }
            },
            "type": "scattergeo"
           }
          ],
          "scattergl": [
           {
            "marker": {
             "colorbar": {
              "outlinewidth": 0,
              "ticks": ""
             }
            },
            "type": "scattergl"
           }
          ],
          "scattermapbox": [
           {
            "marker": {
             "colorbar": {
              "outlinewidth": 0,
              "ticks": ""
             }
            },
            "type": "scattermapbox"
           }
          ],
          "scatterpolar": [
           {
            "marker": {
             "colorbar": {
              "outlinewidth": 0,
              "ticks": ""
             }
            },
            "type": "scatterpolar"
           }
          ],
          "scatterpolargl": [
           {
            "marker": {
             "colorbar": {
              "outlinewidth": 0,
              "ticks": ""
             }
            },
            "type": "scatterpolargl"
           }
          ],
          "scatterternary": [
           {
            "marker": {
             "colorbar": {
              "outlinewidth": 0,
              "ticks": ""
             }
            },
            "type": "scatterternary"
           }
          ],
          "surface": [
           {
            "colorbar": {
             "outlinewidth": 0,
             "ticks": ""
            },
            "colorscale": [
             [
              0,
              "#0d0887"
             ],
             [
              0.1111111111111111,
              "#46039f"
             ],
             [
              0.2222222222222222,
              "#7201a8"
             ],
             [
              0.3333333333333333,
              "#9c179e"
             ],
             [
              0.4444444444444444,
              "#bd3786"
             ],
             [
              0.5555555555555556,
              "#d8576b"
             ],
             [
              0.6666666666666666,
              "#ed7953"
             ],
             [
              0.7777777777777778,
              "#fb9f3a"
             ],
             [
              0.8888888888888888,
              "#fdca26"
             ],
             [
              1,
              "#f0f921"
             ]
            ],
            "type": "surface"
           }
          ],
          "table": [
           {
            "cells": {
             "fill": {
              "color": "#EBF0F8"
             },
             "line": {
              "color": "white"
             }
            },
            "header": {
             "fill": {
              "color": "#C8D4E3"
             },
             "line": {
              "color": "white"
             }
            },
            "type": "table"
           }
          ]
         },
         "layout": {
          "annotationdefaults": {
           "arrowcolor": "#2a3f5f",
           "arrowhead": 0,
           "arrowwidth": 1
          },
          "autotypenumbers": "strict",
          "coloraxis": {
           "colorbar": {
            "outlinewidth": 0,
            "ticks": ""
           }
          },
          "colorscale": {
           "diverging": [
            [
             0,
             "#8e0152"
            ],
            [
             0.1,
             "#c51b7d"
            ],
            [
             0.2,
             "#de77ae"
            ],
            [
             0.3,
             "#f1b6da"
            ],
            [
             0.4,
             "#fde0ef"
            ],
            [
             0.5,
             "#f7f7f7"
            ],
            [
             0.6,
             "#e6f5d0"
            ],
            [
             0.7,
             "#b8e186"
            ],
            [
             0.8,
             "#7fbc41"
            ],
            [
             0.9,
             "#4d9221"
            ],
            [
             1,
             "#276419"
            ]
           ],
           "sequential": [
            [
             0,
             "#0d0887"
            ],
            [
             0.1111111111111111,
             "#46039f"
            ],
            [
             0.2222222222222222,
             "#7201a8"
            ],
            [
             0.3333333333333333,
             "#9c179e"
            ],
            [
             0.4444444444444444,
             "#bd3786"
            ],
            [
             0.5555555555555556,
             "#d8576b"
            ],
            [
             0.6666666666666666,
             "#ed7953"
            ],
            [
             0.7777777777777778,
             "#fb9f3a"
            ],
            [
             0.8888888888888888,
             "#fdca26"
            ],
            [
             1,
             "#f0f921"
            ]
           ],
           "sequentialminus": [
            [
             0,
             "#0d0887"
            ],
            [
             0.1111111111111111,
             "#46039f"
            ],
            [
             0.2222222222222222,
             "#7201a8"
            ],
            [
             0.3333333333333333,
             "#9c179e"
            ],
            [
             0.4444444444444444,
             "#bd3786"
            ],
            [
             0.5555555555555556,
             "#d8576b"
            ],
            [
             0.6666666666666666,
             "#ed7953"
            ],
            [
             0.7777777777777778,
             "#fb9f3a"
            ],
            [
             0.8888888888888888,
             "#fdca26"
            ],
            [
             1,
             "#f0f921"
            ]
           ]
          },
          "colorway": [
           "#636efa",
           "#EF553B",
           "#00cc96",
           "#ab63fa",
           "#FFA15A",
           "#19d3f3",
           "#FF6692",
           "#B6E880",
           "#FF97FF",
           "#FECB52"
          ],
          "font": {
           "color": "#2a3f5f"
          },
          "geo": {
           "bgcolor": "white",
           "lakecolor": "white",
           "landcolor": "#E5ECF6",
           "showlakes": true,
           "showland": true,
           "subunitcolor": "white"
          },
          "hoverlabel": {
           "align": "left"
          },
          "hovermode": "closest",
          "mapbox": {
           "style": "light"
          },
          "paper_bgcolor": "white",
          "plot_bgcolor": "#E5ECF6",
          "polar": {
           "angularaxis": {
            "gridcolor": "white",
            "linecolor": "white",
            "ticks": ""
           },
           "bgcolor": "#E5ECF6",
           "radialaxis": {
            "gridcolor": "white",
            "linecolor": "white",
            "ticks": ""
           }
          },
          "scene": {
           "xaxis": {
            "backgroundcolor": "#E5ECF6",
            "gridcolor": "white",
            "gridwidth": 2,
            "linecolor": "white",
            "showbackground": true,
            "ticks": "",
            "zerolinecolor": "white"
           },
           "yaxis": {
            "backgroundcolor": "#E5ECF6",
            "gridcolor": "white",
            "gridwidth": 2,
            "linecolor": "white",
            "showbackground": true,
            "ticks": "",
            "zerolinecolor": "white"
           },
           "zaxis": {
            "backgroundcolor": "#E5ECF6",
            "gridcolor": "white",
            "gridwidth": 2,
            "linecolor": "white",
            "showbackground": true,
            "ticks": "",
            "zerolinecolor": "white"
           }
          },
          "shapedefaults": {
           "line": {
            "color": "#2a3f5f"
           }
          },
          "ternary": {
           "aaxis": {
            "gridcolor": "white",
            "linecolor": "white",
            "ticks": ""
           },
           "baxis": {
            "gridcolor": "white",
            "linecolor": "white",
            "ticks": ""
           },
           "bgcolor": "#E5ECF6",
           "caxis": {
            "gridcolor": "white",
            "linecolor": "white",
            "ticks": ""
           }
          },
          "title": {
           "x": 0.05
          },
          "xaxis": {
           "automargin": true,
           "gridcolor": "white",
           "linecolor": "white",
           "ticks": "",
           "title": {
            "standoff": 15
           },
           "zerolinecolor": "white",
           "zerolinewidth": 2
          },
          "yaxis": {
           "automargin": true,
           "gridcolor": "white",
           "linecolor": "white",
           "ticks": "",
           "title": {
            "standoff": 15
           },
           "zerolinecolor": "white",
           "zerolinewidth": 2
          }
         }
        },
        "xaxis": {
         "anchor": "y",
         "categoryarray": [
          "LOW",
          "MEDIUM ",
          "HIGH",
          "VERY HIGH "
         ],
         "categoryorder": "array",
         "domain": [
          0,
          1
         ],
         "title": {
          "text": "Human Development"
         }
        },
        "yaxis": {
         "anchor": "x",
         "domain": [
          0,
          1
         ],
         "title": {
          "text": "CO2 Emissions in Mtons"
         }
        }
       }
      }
     },
     "metadata": {},
     "output_type": "display_data"
    }
   ],
   "source": [
    "filtered_dataset = dataset[dataset['HUMAN DEVELOPMENT'] != \"OTHER \"]\n",
    "fig = px.box(filtered_dataset, x=\"HUMAN DEVELOPMENT\", y=\"CO2 Emissions\")\n",
    "fig.update_xaxes(title=\"Human Development\")\n",
    "fig.update_yaxes(title=\"CO2 Emissions in Mtons\")\n",
    "fig.update_xaxes(categoryorder='array', categoryarray=[ 'LOW', 'MEDIUM ', 'HIGH', 'VERY HIGH '])\n",
    "fig.show()"
   ]
  }
 ],
 "metadata": {
  "kernelspec": {
   "display_name": "Python 3 (ipykernel)",
   "language": "python",
   "name": "python3"
  },
  "language_info": {
   "codemirror_mode": {
    "name": "ipython",
    "version": 3
   },
   "file_extension": ".py",
   "mimetype": "text/x-python",
   "name": "python",
   "nbconvert_exporter": "python",
   "pygments_lexer": "ipython3",
   "version": "3.11.4"
  }
 },
 "nbformat": 4,
 "nbformat_minor": 5
}
