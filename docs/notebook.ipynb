{
 "cells": [
  {
   "attachments": {},
   "cell_type": "markdown",
   "id": "387ba932",
   "metadata": {},
   "source": [
    "# Data Story Project - HDI & climate"
   ]
  },
  {
   "attachments": {},
   "cell_type": "markdown",
   "id": "9b5112a4",
   "metadata": {},
   "source": [
    "Lex Bolt: 13335022\n",
    "\n",
    "Coen de Graaf: 13041568 \n",
    "\n",
    "Lucas Groot: 14638274"
   ]
  },
  {
   "cell_type": "code",
   "execution_count": null,
   "id": "1e933fd9",
   "metadata": {},
   "outputs": [],
   "source": [
    "!pip install statsmodels\n",
    "\n",
    "import plotly.graph_objs as go\n",
    "import plotly.express as px\n",
    "import pandas as pd"
   ]
  },
  {
   "cell_type": "code",
   "execution_count": null,
   "id": "23fb9b76",
   "metadata": {},
   "outputs": [],
   "source": [
    "hdi_df = pd.read_csv(\"HumanDevelopmentData.csv\")\n",
    "climate_df = pd.read_csv(\"climate_change_data.csv\")"
   ]
  },
  {
   "attachments": {},
   "cell_type": "markdown",
   "id": "c36cd903",
   "metadata": {},
   "source": [
    "The Human Development Index (HDI) is a comprehensive measure that assesses the level of development in a country. It incorporates multiple dimensions, including health, knowledge, and standard of living. \n",
    "\n",
    "The HDI combines various indicators to provide a holistic view of development. It considers factors such as life expectancy at birth, mean years of schooling, expected years of schooling, and gross national income (GNI) per capita in purchasing power parity (PPP) terms in US dollars. By establishing minimum and maximum benchmarks for each dimension, known as \"goalposts,\" the HDI enables a comparative analysis of countries' progress.\n",
    "\n",
    "The HDI is expressed as a value between 0 and 1, with higher values indicating higher levels of human development. Its purpose is to draw the attention of policymakers, media, and non-governmental organizations, steering the focus away from purely economic statistics and towards human outcomes. It underscores the notion that people's well-being and capabilities should be the ultimate yardstick for assessing a country's development, rather than solely relying on economic growth.\n",
    "\n",
    "Moreover, the HDI serves as a tool to examine national policy decisions and explore variations in human development outcomes among countries with similar per capita income levels. For instance, two nations with comparable incomes per person may display significant disparities in life expectancy and literacy rates, leading to substantial differences in their HDI rankings. Such contrasts fuel discussions about government policies concerning healthcare and education, seeking to unravel the factors contributing to divergent outcomes.\n",
    "\n",
    "Additionally, the HDI sheds light on disparities within countries, including variations between provinces or states, as well as disparities across genders, ethnicities, and socioeconomic groups. By highlighting internal inequalities along these lines, it fosters national dialogues, encouraging countries to address and mitigate these disparities.\n",
    "\n",
    "https://www.who.int/data/nutrition/nlis/info/human-development-index \n",
    "\n",
    "ChatGPT - Improve this text"
   ]
  },
  {
   "cell_type": "code",
   "execution_count": null,
   "id": "38f0c5b7",
   "metadata": {},
   "outputs": [],
   "source": [
    "averages_climate_df = climate_df.groupby('Country').mean(True).reset_index()"
   ]
  },
  {
   "cell_type": "code",
   "execution_count": null,
   "id": "60247600",
   "metadata": {},
   "outputs": [],
   "source": [
    "hdi_climate_df = averages_climate_df.merge(hdi_df, how=\"inner\", on=\"Country\")"
   ]
  },
  {
   "cell_type": "code",
   "execution_count": null,
   "id": "8280ddba",
   "metadata": {},
   "outputs": [],
   "source": [
    "import plotly.subplots as sp\n",
    "import plotly.graph_objects as go\n",
    "\n",
    "hdi_climate_df['Human Development Index (HDI) '] = pd.to_numeric(hdi_climate_df['Human Development Index (HDI) '], errors='coerce')\n",
    "hdi_climate_df['Mean years of schooling'] = pd.to_numeric(hdi_climate_df['Mean years of schooling'], errors='coerce')\n",
    "\n",
    "# Assuming your DataFrame is named 'hdi_climate_df'\n",
    "fig_life_expectancy = px.scatter(hdi_climate_df, x=\"Human Development Index (HDI) \", y=\"Life expectancy at birth\", trendline=\"ols\")\n",
    "fig_schooling = px.scatter(hdi_climate_df, x=\"Human Development Index (HDI) \", y=\"Mean years of schooling\", trendline=\"ols\")\n",
    "\n",
    "# Create subplots with 1 row and 2 columns\n",
    "fig = sp.make_subplots(rows=1, cols=2)\n",
    "\n",
    "# Add the individual figures to the subplots\n",
    "fig.add_trace(go.Scatter(fig_life_expectancy.data[0]), row=1, col=1)\n",
    "fig.add_trace(go.Scatter(fig_schooling.data[0]), row=1, col=2)\n",
    "\n",
    "# Update the x-axis and y-axis names\n",
    "fig.update_xaxes(title_text=\"Human Development Index (HDI)\", row=1, col=1)\n",
    "fig.update_xaxes(title_text=\"Human Development Index (HDI)\", row=1, col=2)\n",
    "fig.update_yaxes(title_text=\"Life Expectancy at Birth\", row=1, col=1)\n",
    "fig.update_yaxes(title_text=\"Mean Years of Schooling\", row=1, col=2)\n",
    "\n",
    "# Show the subplots\n",
    "fig.show()"
   ]
  },
  {
   "cell_type": "code",
   "execution_count": null,
   "id": "4cff4276",
   "metadata": {},
   "outputs": [],
   "source": [
    "hdi_climate_df.head()"
   ]
  },
  {
   "cell_type": "code",
   "execution_count": null,
   "id": "7a6ed3a1",
   "metadata": {},
   "outputs": [],
   "source": [
    "hdi_climate_df = averages_climate_df.merge(hdi_df, how=\"inner\", on=\"Country\")"
   ]
  },
  {
   "cell_type": "code",
   "execution_count": null,
   "id": "c5c87fd3",
   "metadata": {
    "scrolled": true
   },
   "outputs": [],
   "source": [
    "hdi_climate_df.head()"
   ]
  },
  {
   "cell_type": "code",
   "execution_count": null,
   "id": "d578facc",
   "metadata": {},
   "outputs": [],
   "source": [
    "hdi_climate_df.corr(numeric_only=True)"
   ]
  }
 ],
 "metadata": {
  "kernelspec": {
   "display_name": "Python 3 (ipykernel)",
   "language": "python",
   "name": "python3"
  },
  "language_info": {
   "codemirror_mode": {
    "name": "ipython",
    "version": 3
   },
   "file_extension": ".py",
   "mimetype": "text/x-python",
   "name": "python",
   "nbconvert_exporter": "python",
   "pygments_lexer": "ipython3",
   "version": "3.10.6"
  }
 },
 "nbformat": 4,
 "nbformat_minor": 5
}
