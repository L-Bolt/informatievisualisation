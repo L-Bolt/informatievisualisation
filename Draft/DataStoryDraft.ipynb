{
 "cells": [
  {
   "attachments": {},
   "cell_type": "markdown",
   "id": "387ba932",
   "metadata": {},
   "source": [
    "# Data Story Project - HDI & climate"
   ]
  },
  {
   "attachments": {},
   "cell_type": "markdown",
   "id": "9b5112a4",
   "metadata": {},
   "source": [
    "Lex Bolt: 13335022\n",
    "\n",
    "Coen de Graaf: 13041568 \n",
    "\n",
    "Lucas Groot: 14638274"
   ]
  },
  {
   "cell_type": "code",
   "execution_count": 1,
   "id": "1e933fd9",
   "metadata": {},
   "outputs": [
    {
     "name": "stdout",
     "output_type": "stream",
     "text": [
      "Defaulting to user installation because normal site-packages is not writeable\n",
      "Collecting statsmodels\n",
      "  Downloading statsmodels-0.14.0-cp310-cp310-manylinux_2_17_x86_64.manylinux2014_x86_64.whl (10.1 MB)\n",
      "\u001b[2K     \u001b[38;2;114;156;31m━━━━━━━━━━━━━━━━━━━━━━━━━━━━━━━━━━━━━━━━\u001b[0m \u001b[32m10.1/10.1 MB\u001b[0m \u001b[31m7.8 MB/s\u001b[0m eta \u001b[36m0:00:00\u001b[0mm eta \u001b[36m0:00:01\u001b[0m:01\u001b[0m:01\u001b[0mm\n",
      "\u001b[?25hRequirement already satisfied: numpy>=1.18 in /home/coen/.local/lib/python3.10/site-packages (from statsmodels) (1.25.0)\n",
      "Requirement already satisfied: pandas>=1.0 in /home/coen/.local/lib/python3.10/site-packages (from statsmodels) (2.0.2)\n",
      "Collecting patsy>=0.5.2\n",
      "  Downloading patsy-0.5.3-py2.py3-none-any.whl (233 kB)\n",
      "\u001b[2K     \u001b[38;2;114;156;31m━━━━━━━━━━━━━━━━━━━━━━━━━━━━━━━━━━━━━━━\u001b[0m \u001b[32m233.8/233.8 KB\u001b[0m \u001b[31m2.3 MB/s\u001b[0m eta \u001b[36m0:00:00\u001b[0m MB/s\u001b[0m eta \u001b[36m0:00:01\u001b[0m\n",
      "\u001b[?25hRequirement already satisfied: packaging>=21.3 in /home/coen/.local/lib/python3.10/site-packages (from statsmodels) (23.1)\n",
      "Requirement already satisfied: scipy!=1.9.2,>=1.4 in /home/coen/.local/lib/python3.10/site-packages (from statsmodels) (1.10.1)\n",
      "Requirement already satisfied: python-dateutil>=2.8.2 in /home/coen/.local/lib/python3.10/site-packages (from pandas>=1.0->statsmodels) (2.8.2)\n",
      "Requirement already satisfied: tzdata>=2022.1 in /home/coen/.local/lib/python3.10/site-packages (from pandas>=1.0->statsmodels) (2023.3)\n",
      "Requirement already satisfied: pytz>=2020.1 in /usr/lib/python3/dist-packages (from pandas>=1.0->statsmodels) (2022.1)\n",
      "Requirement already satisfied: six in /usr/lib/python3/dist-packages (from patsy>=0.5.2->statsmodels) (1.16.0)\n",
      "Installing collected packages: patsy, statsmodels\n",
      "Successfully installed patsy-0.5.3 statsmodels-0.14.0\n"
     ]
    }
   ],
   "source": [
    "!pip install statsmodels\n",
    "\n",
    "import plotly.graph_objs as go\n",
    "import plotly.express as px\n",
    "import pandas as pd"
   ]
  },
  {
   "cell_type": "code",
   "execution_count": 2,
   "id": "23fb9b76",
   "metadata": {},
   "outputs": [],
   "source": [
    "hdi_df = pd.read_csv(\"HumanDevelopmentData.csv\")\n",
    "climate_df = pd.read_csv(\"climate_change_data.csv\")"
   ]
  },
  {
   "attachments": {},
   "cell_type": "markdown",
   "id": "c36cd903",
   "metadata": {},
   "source": [
    "The Human Development Index (HDI) is a comprehensive measure that assesses the level of development in a country. It incorporates multiple dimensions, including health, knowledge, and standard of living. \n",
    "\n",
    "The HDI combines various indicators to provide a holistic view of development. It considers factors such as life expectancy at birth, mean years of schooling, expected years of schooling, and gross national income (GNI) per capita in purchasing power parity (PPP) terms in US dollars. By establishing minimum and maximum benchmarks for each dimension, known as \"goalposts,\" the HDI enables a comparative analysis of countries' progress.\n",
    "\n",
    "The HDI is expressed as a value between 0 and 1, with higher values indicating higher levels of human development. Its purpose is to draw the attention of policymakers, media, and non-governmental organizations, steering the focus away from purely economic statistics and towards human outcomes. It underscores the notion that people's well-being and capabilities should be the ultimate yardstick for assessing a country's development, rather than solely relying on economic growth.\n",
    "\n",
    "Moreover, the HDI serves as a tool to examine national policy decisions and explore variations in human development outcomes among countries with similar per capita income levels. For instance, two nations with comparable incomes per person may display significant disparities in life expectancy and literacy rates, leading to substantial differences in their HDI rankings. Such contrasts fuel discussions about government policies concerning healthcare and education, seeking to unravel the factors contributing to divergent outcomes.\n",
    "\n",
    "Additionally, the HDI sheds light on disparities within countries, including variations between provinces or states, as well as disparities across genders, ethnicities, and socioeconomic groups. By highlighting internal inequalities along these lines, it fosters national dialogues, encouraging countries to address and mitigate these disparities.\n",
    "\n",
    "https://www.who.int/data/nutrition/nlis/info/human-development-index \n",
    "\n",
    "ChatGPT - Improve this text"
   ]
  },
  {
   "cell_type": "code",
   "execution_count": 6,
   "id": "38f0c5b7",
   "metadata": {},
   "outputs": [],
   "source": [
    "averages_climate_df = climate_df.groupby('Country').mean(True).reset_index()"
   ]
  },
  {
   "cell_type": "code",
   "execution_count": 7,
   "id": "60247600",
   "metadata": {},
   "outputs": [],
   "source": [
    "hdi_climate_df = averages_climate_df.merge(hdi_df, how=\"inner\", on=\"Country\")"
   ]
  },
  {
   "cell_type": "code",
   "execution_count": 8,
   "id": "8280ddba",
   "metadata": {},
   "outputs": [
    {
     "data": {
      "application/vnd.plotly.v1+json": {
       "config": {
        "plotlyServerURL": "https://plot.ly"
       },
       "data": [
        {
         "hovertemplate": "Human Development Index (HDI) =%{x}<br>Life expectancy at birth=%{y}<extra></extra>",
         "legendgroup": "",
         "marker": {
          "color": "#636efa",
          "symbol": "circle"
         },
         "mode": "markers",
         "name": "",
         "orientation": "v",
         "showlegend": false,
         "type": "scatter",
         "x": [
          0.478,
          0.796,
          0.745,
          0.858,
          0.586,
          0.788,
          0.842,
          0.759,
          0.951,
          0.916,
          0.745,
          0.812,
          0.875,
          0.661,
          0.79,
          0.808,
          0.937,
          0.683,
          0.525,
          0.666,
          0.78,
          0.693,
          0.754,
          0.829,
          0.795,
          0.449,
          0.426,
          0.593,
          0.576,
          0.936,
          0.404,
          0.394,
          0.855,
          0.768,
          0.752,
          0.558,
          0.571,
          0.809,
          0.858,
          0.764,
          0.896,
          0.948,
          0.509,
          0.72,
          0.767,
          0.74,
          0.731,
          0.675,
          0.596,
          0.492,
          0.89,
          0.498,
          0.73,
          0.94,
          0.903,
          0.706,
          0.5,
          0.802,
          0.942,
          0.632,
          0.887,
          0.795,
          0.627,
          0.465,
          0.483,
          0.714,
          0.535,
          0.621,
          0.846,
          0.959,
          0.633,
          0.705,
          0.686,
          0.945,
          0.919,
          0.895,
          0.709,
          0.925,
          0.72,
          0.811,
          0.575,
          0.624,
          0.831,
          0.607,
          0.863,
          0.706,
          0.514,
          0.481,
          0.935,
          0.875,
          0.93,
          0.501,
          0.512,
          0.803,
          0.747,
          0.428,
          0.918,
          0.639,
          0.556,
          0.802,
          0.758,
          null,
          0.739,
          0.832,
          0.683,
          0.446,
          0.585,
          0.615,
          null,
          0.602,
          0.941,
          0.937,
          0.667,
          0.4,
          0.535,
          0.77,
          0.961,
          0.816,
          0.544,
          0.767,
          0.805,
          0.558,
          0.717,
          0.762,
          0.699,
          0.876,
          0.866,
          0.855,
          0.821,
          0.822,
          0.534,
          0.777,
          0.715,
          0.751,
          0.707,
          0.853,
          0.618,
          0.875,
          0.511,
          0.802,
          0.785,
          0.477,
          0.939,
          0.918,
          0.564,
          null,
          0.713,
          0.905,
          0.782,
          0.508,
          0.73,
          0.947,
          0.962,
          0.577,
          0.685,
          0.8,
          0.607,
          0.539,
          0.745,
          0.81,
          0.731,
          0.745,
          0.641,
          0.525,
          0.773,
          0.911,
          0.929,
          0.809,
          0.727,
          0.607,
          0.455,
          0.565,
          0.593
         ],
         "xaxis": "x",
         "y": [
          62,
          76.5,
          76.4,
          80.4,
          61.6,
          78.5,
          75.4,
          72,
          84.5,
          81.6,
          69.4,
          71.6,
          78.8,
          72.4,
          77.6,
          72.4,
          81.9,
          70.5,
          59.8,
          71.8,
          75.3,
          61.1,
          72.8,
          74.6,
          71.8,
          59.3,
          61.7,
          69.6,
          60.3,
          82.7,
          53.9,
          52.5,
          78.9,
          78.2,
          72.8,
          63.4,
          63.5,
          77,
          77.6,
          73.7,
          81.2,
          81.4,
          62.3,
          72.8,
          72.6,
          73.7,
          70.2,
          70.7,
          60.6,
          66.5,
          77.1,
          65,
          67.1,
          82,
          82.5,
          65.8,
          62.1,
          71.7,
          80.6,
          63.8,
          80.1,
          74.9,
          69.2,
          58.9,
          59.7,
          65.7,
          63.2,
          70.1,
          74.5,
          82.7,
          67.2,
          67.6,
          70.4,
          82,
          82.3,
          82.9,
          70.5,
          84.8,
          74.3,
          69.4,
          61.4,
          67.4,
          78.7,
          68.1,
          73.6,
          75,
          53.1,
          60.7,
          83.3,
          73.7,
          82.6,
          64.5,
          62.9,
          74.9,
          79.9,
          58.9,
          83.8,
          65.3,
          64.4,
          73.6,
          70.2,
          85.9,
          71,
          76.3,
          74,
          59.3,
          65.7,
          59.3,
          63.6,
          68.4,
          81.7,
          82.5,
          73.8,
          61.6,
          52.7,
          73.8,
          83.2,
          72.5,
          66.1,
          66,
          76.2,
          65.4,
          70.3,
          72.4,
          69.3,
          76.5,
          81,
          79.3,
          74.2,
          69.4,
          66.1,
          71.7,
          71.1,
          69.6,
          72.8,
          80.9,
          67.6,
          76.9,
          67.1,
          74.2,
          71.3,
          60.1,
          82.8,
          80.7,
          70.3,
          55.3,
          62.3,
          83,
          76.4,
          65.3,
          70.3,
          83,
          84,
          72.1,
          71.6,
          78.7,
          67.7,
          61.6,
          71,
          73,
          73.8,
          69.3,
          64.5,
          62.7,
          71.6,
          78.7,
          80.7,
          75.4,
          70.9,
          70.4,
          63.8,
          61.2,
          59.3
         ],
         "yaxis": "y"
        },
        {
         "hovertemplate": "Human Development Index (HDI) =%{x}<br>Mean years of schooling=%{y}<extra></extra>",
         "legendgroup": "",
         "marker": {
          "color": "#636efa",
          "symbol": "circle"
         },
         "mode": "markers",
         "name": "",
         "orientation": "v",
         "showlegend": false,
         "type": "scatter",
         "x": [
          0.478,
          0.796,
          0.745,
          0.858,
          0.586,
          0.788,
          0.842,
          0.759,
          0.951,
          0.916,
          0.745,
          0.812,
          0.875,
          0.661,
          0.79,
          0.808,
          0.937,
          0.683,
          0.525,
          0.666,
          0.78,
          0.693,
          0.754,
          0.829,
          0.795,
          0.449,
          0.426,
          0.593,
          0.576,
          0.936,
          0.404,
          0.394,
          0.855,
          0.768,
          0.752,
          0.558,
          0.571,
          0.809,
          0.858,
          0.764,
          0.896,
          0.948,
          0.509,
          0.72,
          0.767,
          0.74,
          0.731,
          0.675,
          0.596,
          0.492,
          0.89,
          0.498,
          0.73,
          0.94,
          0.903,
          0.706,
          0.5,
          0.802,
          0.942,
          0.632,
          0.887,
          0.795,
          0.627,
          0.465,
          0.483,
          0.714,
          0.535,
          0.621,
          0.846,
          0.959,
          0.633,
          0.705,
          0.686,
          0.945,
          0.919,
          0.895,
          0.709,
          0.925,
          0.72,
          0.811,
          0.575,
          0.624,
          0.831,
          0.607,
          0.863,
          0.706,
          0.514,
          0.481,
          0.935,
          0.875,
          0.93,
          0.501,
          0.512,
          0.803,
          0.747,
          0.428,
          0.918,
          0.639,
          0.556,
          0.802,
          0.758,
          null,
          0.739,
          0.832,
          0.683,
          0.446,
          0.585,
          0.615,
          null,
          0.602,
          0.941,
          0.937,
          0.667,
          0.4,
          0.535,
          0.77,
          0.961,
          0.816,
          0.544,
          0.767,
          0.805,
          0.558,
          0.717,
          0.762,
          0.699,
          0.876,
          0.866,
          0.855,
          0.821,
          0.822,
          0.534,
          0.777,
          0.715,
          0.751,
          0.707,
          0.853,
          0.618,
          0.875,
          0.511,
          0.802,
          0.785,
          0.477,
          0.939,
          0.918,
          0.564,
          null,
          0.713,
          0.905,
          0.782,
          0.508,
          0.73,
          0.947,
          0.962,
          0.577,
          0.685,
          0.8,
          0.607,
          0.539,
          0.745,
          0.81,
          0.731,
          0.745,
          0.641,
          0.525,
          0.773,
          0.911,
          0.929,
          0.809,
          0.727,
          0.607,
          0.455,
          0.565,
          0.593
         ],
         "xaxis": "x2",
         "y": [
          3,
          11.3,
          8.1,
          10.6,
          5.4,
          9.3,
          11.1,
          11.3,
          12.7,
          12.3,
          10.5,
          12.6,
          11,
          7.4,
          9.9,
          12.1,
          12.4,
          8.8,
          4.3,
          5.2,
          10.5,
          10.3,
          8.1,
          9.2,
          11.4,
          2.1,
          3.1,
          5.1,
          6.2,
          13.8,
          4.3,
          2.6,
          10.9,
          7.6,
          8.9,
          5.1,
          6.2,
          8.8,
          12.2,
          12.5,
          12.4,
          13,
          4.1,
          8.1,
          9.3,
          8.8,
          9.6,
          7.2,
          5.9,
          4.9,
          13.5,
          3.2,
          10.9,
          12.9,
          11.6,
          9.4,
          4.6,
          12.8,
          14.1,
          8.3,
          11.4,
          9,
          5.7,
          2.2,
          3.6,
          8.6,
          5.6,
          7.1,
          12.2,
          13.8,
          6.7,
          8.6,
          7.9,
          11.6,
          13.3,
          10.7,
          9.2,
          13.4,
          10.4,
          12.3,
          6.7,
          8,
          7.3,
          5.4,
          13.3,
          8.7,
          6,
          5.1,
          12.5,
          13.5,
          13,
          5.1,
          4.5,
          10.6,
          7.3,
          2.3,
          12.2,
          10.9,
          4.9,
          10.4,
          9.2,
          null,
          9.4,
          12.2,
          5.9,
          3.2,
          6.4,
          7.2,
          null,
          5.1,
          12.6,
          12.9,
          7.1,
          2.1,
          7.2,
          10.2,
          13,
          11.7,
          4.5,
          12.5,
          10.5,
          4.7,
          8.9,
          9.9,
          9,
          13.2,
          9.6,
          10,
          11.3,
          12.8,
          4.4,
          8.7,
          8.5,
          10.8,
          11.4,
          10.8,
          6.2,
          11.3,
          2.9,
          11.4,
          10.3,
          4.6,
          11.9,
          12.8,
          5.7,
          null,
          11.4,
          10.6,
          10.8,
          3.8,
          9.8,
          12.6,
          13.9,
          5.1,
          11.3,
          8.7,
          5.4,
          5,
          11.4,
          11.6,
          7.4,
          11.3,
          10.6,
          5.7,
          11.1,
          12.7,
          13.4,
          9,
          11.9,
          7.1,
          3.2,
          7.2,
          8.7
         ],
         "yaxis": "y2"
        }
       ],
       "layout": {
        "template": {
         "data": {
          "bar": [
           {
            "error_x": {
             "color": "#2a3f5f"
            },
            "error_y": {
             "color": "#2a3f5f"
            },
            "marker": {
             "line": {
              "color": "#E5ECF6",
              "width": 0.5
             },
             "pattern": {
              "fillmode": "overlay",
              "size": 10,
              "solidity": 0.2
             }
            },
            "type": "bar"
           }
          ],
          "barpolar": [
           {
            "marker": {
             "line": {
              "color": "#E5ECF6",
              "width": 0.5
             },
             "pattern": {
              "fillmode": "overlay",
              "size": 10,
              "solidity": 0.2
             }
            },
            "type": "barpolar"
           }
          ],
          "carpet": [
           {
            "aaxis": {
             "endlinecolor": "#2a3f5f",
             "gridcolor": "white",
             "linecolor": "white",
             "minorgridcolor": "white",
             "startlinecolor": "#2a3f5f"
            },
            "baxis": {
             "endlinecolor": "#2a3f5f",
             "gridcolor": "white",
             "linecolor": "white",
             "minorgridcolor": "white",
             "startlinecolor": "#2a3f5f"
            },
            "type": "carpet"
           }
          ],
          "choropleth": [
           {
            "colorbar": {
             "outlinewidth": 0,
             "ticks": ""
            },
            "type": "choropleth"
           }
          ],
          "contour": [
           {
            "colorbar": {
             "outlinewidth": 0,
             "ticks": ""
            },
            "colorscale": [
             [
              0,
              "#0d0887"
             ],
             [
              0.1111111111111111,
              "#46039f"
             ],
             [
              0.2222222222222222,
              "#7201a8"
             ],
             [
              0.3333333333333333,
              "#9c179e"
             ],
             [
              0.4444444444444444,
              "#bd3786"
             ],
             [
              0.5555555555555556,
              "#d8576b"
             ],
             [
              0.6666666666666666,
              "#ed7953"
             ],
             [
              0.7777777777777778,
              "#fb9f3a"
             ],
             [
              0.8888888888888888,
              "#fdca26"
             ],
             [
              1,
              "#f0f921"
             ]
            ],
            "type": "contour"
           }
          ],
          "contourcarpet": [
           {
            "colorbar": {
             "outlinewidth": 0,
             "ticks": ""
            },
            "type": "contourcarpet"
           }
          ],
          "heatmap": [
           {
            "colorbar": {
             "outlinewidth": 0,
             "ticks": ""
            },
            "colorscale": [
             [
              0,
              "#0d0887"
             ],
             [
              0.1111111111111111,
              "#46039f"
             ],
             [
              0.2222222222222222,
              "#7201a8"
             ],
             [
              0.3333333333333333,
              "#9c179e"
             ],
             [
              0.4444444444444444,
              "#bd3786"
             ],
             [
              0.5555555555555556,
              "#d8576b"
             ],
             [
              0.6666666666666666,
              "#ed7953"
             ],
             [
              0.7777777777777778,
              "#fb9f3a"
             ],
             [
              0.8888888888888888,
              "#fdca26"
             ],
             [
              1,
              "#f0f921"
             ]
            ],
            "type": "heatmap"
           }
          ],
          "heatmapgl": [
           {
            "colorbar": {
             "outlinewidth": 0,
             "ticks": ""
            },
            "colorscale": [
             [
              0,
              "#0d0887"
             ],
             [
              0.1111111111111111,
              "#46039f"
             ],
             [
              0.2222222222222222,
              "#7201a8"
             ],
             [
              0.3333333333333333,
              "#9c179e"
             ],
             [
              0.4444444444444444,
              "#bd3786"
             ],
             [
              0.5555555555555556,
              "#d8576b"
             ],
             [
              0.6666666666666666,
              "#ed7953"
             ],
             [
              0.7777777777777778,
              "#fb9f3a"
             ],
             [
              0.8888888888888888,
              "#fdca26"
             ],
             [
              1,
              "#f0f921"
             ]
            ],
            "type": "heatmapgl"
           }
          ],
          "histogram": [
           {
            "marker": {
             "pattern": {
              "fillmode": "overlay",
              "size": 10,
              "solidity": 0.2
             }
            },
            "type": "histogram"
           }
          ],
          "histogram2d": [
           {
            "colorbar": {
             "outlinewidth": 0,
             "ticks": ""
            },
            "colorscale": [
             [
              0,
              "#0d0887"
             ],
             [
              0.1111111111111111,
              "#46039f"
             ],
             [
              0.2222222222222222,
              "#7201a8"
             ],
             [
              0.3333333333333333,
              "#9c179e"
             ],
             [
              0.4444444444444444,
              "#bd3786"
             ],
             [
              0.5555555555555556,
              "#d8576b"
             ],
             [
              0.6666666666666666,
              "#ed7953"
             ],
             [
              0.7777777777777778,
              "#fb9f3a"
             ],
             [
              0.8888888888888888,
              "#fdca26"
             ],
             [
              1,
              "#f0f921"
             ]
            ],
            "type": "histogram2d"
           }
          ],
          "histogram2dcontour": [
           {
            "colorbar": {
             "outlinewidth": 0,
             "ticks": ""
            },
            "colorscale": [
             [
              0,
              "#0d0887"
             ],
             [
              0.1111111111111111,
              "#46039f"
             ],
             [
              0.2222222222222222,
              "#7201a8"
             ],
             [
              0.3333333333333333,
              "#9c179e"
             ],
             [
              0.4444444444444444,
              "#bd3786"
             ],
             [
              0.5555555555555556,
              "#d8576b"
             ],
             [
              0.6666666666666666,
              "#ed7953"
             ],
             [
              0.7777777777777778,
              "#fb9f3a"
             ],
             [
              0.8888888888888888,
              "#fdca26"
             ],
             [
              1,
              "#f0f921"
             ]
            ],
            "type": "histogram2dcontour"
           }
          ],
          "mesh3d": [
           {
            "colorbar": {
             "outlinewidth": 0,
             "ticks": ""
            },
            "type": "mesh3d"
           }
          ],
          "parcoords": [
           {
            "line": {
             "colorbar": {
              "outlinewidth": 0,
              "ticks": ""
             }
            },
            "type": "parcoords"
           }
          ],
          "pie": [
           {
            "automargin": true,
            "type": "pie"
           }
          ],
          "scatter": [
           {
            "fillpattern": {
             "fillmode": "overlay",
             "size": 10,
             "solidity": 0.2
            },
            "type": "scatter"
           }
          ],
          "scatter3d": [
           {
            "line": {
             "colorbar": {
              "outlinewidth": 0,
              "ticks": ""
             }
            },
            "marker": {
             "colorbar": {
              "outlinewidth": 0,
              "ticks": ""
             }
            },
            "type": "scatter3d"
           }
          ],
          "scattercarpet": [
           {
            "marker": {
             "colorbar": {
              "outlinewidth": 0,
              "ticks": ""
             }
            },
            "type": "scattercarpet"
           }
          ],
          "scattergeo": [
           {
            "marker": {
             "colorbar": {
              "outlinewidth": 0,
              "ticks": ""
             }
            },
            "type": "scattergeo"
           }
          ],
          "scattergl": [
           {
            "marker": {
             "colorbar": {
              "outlinewidth": 0,
              "ticks": ""
             }
            },
            "type": "scattergl"
           }
          ],
          "scattermapbox": [
           {
            "marker": {
             "colorbar": {
              "outlinewidth": 0,
              "ticks": ""
             }
            },
            "type": "scattermapbox"
           }
          ],
          "scatterpolar": [
           {
            "marker": {
             "colorbar": {
              "outlinewidth": 0,
              "ticks": ""
             }
            },
            "type": "scatterpolar"
           }
          ],
          "scatterpolargl": [
           {
            "marker": {
             "colorbar": {
              "outlinewidth": 0,
              "ticks": ""
             }
            },
            "type": "scatterpolargl"
           }
          ],
          "scatterternary": [
           {
            "marker": {
             "colorbar": {
              "outlinewidth": 0,
              "ticks": ""
             }
            },
            "type": "scatterternary"
           }
          ],
          "surface": [
           {
            "colorbar": {
             "outlinewidth": 0,
             "ticks": ""
            },
            "colorscale": [
             [
              0,
              "#0d0887"
             ],
             [
              0.1111111111111111,
              "#46039f"
             ],
             [
              0.2222222222222222,
              "#7201a8"
             ],
             [
              0.3333333333333333,
              "#9c179e"
             ],
             [
              0.4444444444444444,
              "#bd3786"
             ],
             [
              0.5555555555555556,
              "#d8576b"
             ],
             [
              0.6666666666666666,
              "#ed7953"
             ],
             [
              0.7777777777777778,
              "#fb9f3a"
             ],
             [
              0.8888888888888888,
              "#fdca26"
             ],
             [
              1,
              "#f0f921"
             ]
            ],
            "type": "surface"
           }
          ],
          "table": [
           {
            "cells": {
             "fill": {
              "color": "#EBF0F8"
             },
             "line": {
              "color": "white"
             }
            },
            "header": {
             "fill": {
              "color": "#C8D4E3"
             },
             "line": {
              "color": "white"
             }
            },
            "type": "table"
           }
          ]
         },
         "layout": {
          "annotationdefaults": {
           "arrowcolor": "#2a3f5f",
           "arrowhead": 0,
           "arrowwidth": 1
          },
          "autotypenumbers": "strict",
          "coloraxis": {
           "colorbar": {
            "outlinewidth": 0,
            "ticks": ""
           }
          },
          "colorscale": {
           "diverging": [
            [
             0,
             "#8e0152"
            ],
            [
             0.1,
             "#c51b7d"
            ],
            [
             0.2,
             "#de77ae"
            ],
            [
             0.3,
             "#f1b6da"
            ],
            [
             0.4,
             "#fde0ef"
            ],
            [
             0.5,
             "#f7f7f7"
            ],
            [
             0.6,
             "#e6f5d0"
            ],
            [
             0.7,
             "#b8e186"
            ],
            [
             0.8,
             "#7fbc41"
            ],
            [
             0.9,
             "#4d9221"
            ],
            [
             1,
             "#276419"
            ]
           ],
           "sequential": [
            [
             0,
             "#0d0887"
            ],
            [
             0.1111111111111111,
             "#46039f"
            ],
            [
             0.2222222222222222,
             "#7201a8"
            ],
            [
             0.3333333333333333,
             "#9c179e"
            ],
            [
             0.4444444444444444,
             "#bd3786"
            ],
            [
             0.5555555555555556,
             "#d8576b"
            ],
            [
             0.6666666666666666,
             "#ed7953"
            ],
            [
             0.7777777777777778,
             "#fb9f3a"
            ],
            [
             0.8888888888888888,
             "#fdca26"
            ],
            [
             1,
             "#f0f921"
            ]
           ],
           "sequentialminus": [
            [
             0,
             "#0d0887"
            ],
            [
             0.1111111111111111,
             "#46039f"
            ],
            [
             0.2222222222222222,
             "#7201a8"
            ],
            [
             0.3333333333333333,
             "#9c179e"
            ],
            [
             0.4444444444444444,
             "#bd3786"
            ],
            [
             0.5555555555555556,
             "#d8576b"
            ],
            [
             0.6666666666666666,
             "#ed7953"
            ],
            [
             0.7777777777777778,
             "#fb9f3a"
            ],
            [
             0.8888888888888888,
             "#fdca26"
            ],
            [
             1,
             "#f0f921"
            ]
           ]
          },
          "colorway": [
           "#636efa",
           "#EF553B",
           "#00cc96",
           "#ab63fa",
           "#FFA15A",
           "#19d3f3",
           "#FF6692",
           "#B6E880",
           "#FF97FF",
           "#FECB52"
          ],
          "font": {
           "color": "#2a3f5f"
          },
          "geo": {
           "bgcolor": "white",
           "lakecolor": "white",
           "landcolor": "#E5ECF6",
           "showlakes": true,
           "showland": true,
           "subunitcolor": "white"
          },
          "hoverlabel": {
           "align": "left"
          },
          "hovermode": "closest",
          "mapbox": {
           "style": "light"
          },
          "paper_bgcolor": "white",
          "plot_bgcolor": "#E5ECF6",
          "polar": {
           "angularaxis": {
            "gridcolor": "white",
            "linecolor": "white",
            "ticks": ""
           },
           "bgcolor": "#E5ECF6",
           "radialaxis": {
            "gridcolor": "white",
            "linecolor": "white",
            "ticks": ""
           }
          },
          "scene": {
           "xaxis": {
            "backgroundcolor": "#E5ECF6",
            "gridcolor": "white",
            "gridwidth": 2,
            "linecolor": "white",
            "showbackground": true,
            "ticks": "",
            "zerolinecolor": "white"
           },
           "yaxis": {
            "backgroundcolor": "#E5ECF6",
            "gridcolor": "white",
            "gridwidth": 2,
            "linecolor": "white",
            "showbackground": true,
            "ticks": "",
            "zerolinecolor": "white"
           },
           "zaxis": {
            "backgroundcolor": "#E5ECF6",
            "gridcolor": "white",
            "gridwidth": 2,
            "linecolor": "white",
            "showbackground": true,
            "ticks": "",
            "zerolinecolor": "white"
           }
          },
          "shapedefaults": {
           "line": {
            "color": "#2a3f5f"
           }
          },
          "ternary": {
           "aaxis": {
            "gridcolor": "white",
            "linecolor": "white",
            "ticks": ""
           },
           "baxis": {
            "gridcolor": "white",
            "linecolor": "white",
            "ticks": ""
           },
           "bgcolor": "#E5ECF6",
           "caxis": {
            "gridcolor": "white",
            "linecolor": "white",
            "ticks": ""
           }
          },
          "title": {
           "x": 0.05
          },
          "xaxis": {
           "automargin": true,
           "gridcolor": "white",
           "linecolor": "white",
           "ticks": "",
           "title": {
            "standoff": 15
           },
           "zerolinecolor": "white",
           "zerolinewidth": 2
          },
          "yaxis": {
           "automargin": true,
           "gridcolor": "white",
           "linecolor": "white",
           "ticks": "",
           "title": {
            "standoff": 15
           },
           "zerolinecolor": "white",
           "zerolinewidth": 2
          }
         }
        },
        "xaxis": {
         "anchor": "y",
         "domain": [
          0,
          0.45
         ],
         "title": {
          "text": "Human Development Index (HDI)"
         }
        },
        "xaxis2": {
         "anchor": "y2",
         "domain": [
          0.55,
          1
         ],
         "title": {
          "text": "Human Development Index (HDI)"
         }
        },
        "yaxis": {
         "anchor": "x",
         "domain": [
          0,
          1
         ],
         "title": {
          "text": "Life Expectancy at Birth"
         }
        },
        "yaxis2": {
         "anchor": "x2",
         "domain": [
          0,
          1
         ],
         "title": {
          "text": "Mean Years of Schooling"
         }
        }
       }
      }
     },
     "metadata": {},
     "output_type": "display_data"
    }
   ],
   "source": [
    "import plotly.subplots as sp\n",
    "import plotly.graph_objects as go\n",
    "\n",
    "hdi_climate_df['Human Development Index (HDI) '] = pd.to_numeric(hdi_climate_df['Human Development Index (HDI) '], errors='coerce')\n",
    "hdi_climate_df['Mean years of schooling'] = pd.to_numeric(hdi_climate_df['Mean years of schooling'], errors='coerce')\n",
    "\n",
    "# Assuming your DataFrame is named 'hdi_climate_df'\n",
    "fig_life_expectancy = px.scatter(hdi_climate_df, x=\"Human Development Index (HDI) \", y=\"Life expectancy at birth\", trendline=\"ols\")\n",
    "fig_schooling = px.scatter(hdi_climate_df, x=\"Human Development Index (HDI) \", y=\"Mean years of schooling\", trendline=\"ols\")\n",
    "\n",
    "# Create subplots with 1 row and 2 columns\n",
    "fig = sp.make_subplots(rows=1, cols=2)\n",
    "\n",
    "# Add the individual figures to the subplots\n",
    "fig.add_trace(go.Scatter(fig_life_expectancy.data[0]), row=1, col=1)\n",
    "fig.add_trace(go.Scatter(fig_schooling.data[0]), row=1, col=2)\n",
    "\n",
    "# Update the x-axis and y-axis names\n",
    "fig.update_xaxes(title_text=\"Human Development Index (HDI)\", row=1, col=1)\n",
    "fig.update_xaxes(title_text=\"Human Development Index (HDI)\", row=1, col=2)\n",
    "fig.update_yaxes(title_text=\"Life Expectancy at Birth\", row=1, col=1)\n",
    "fig.update_yaxes(title_text=\"Mean Years of Schooling\", row=1, col=2)\n",
    "\n",
    "# Show the subplots\n",
    "fig.show()"
   ]
  },
  {
   "cell_type": "code",
   "execution_count": 9,
   "id": "4cff4276",
   "metadata": {},
   "outputs": [
    {
     "data": {
      "text/html": [
       "<div>\n",
       "<style scoped>\n",
       "    .dataframe tbody tr th:only-of-type {\n",
       "        vertical-align: middle;\n",
       "    }\n",
       "\n",
       "    .dataframe tbody tr th {\n",
       "        vertical-align: top;\n",
       "    }\n",
       "\n",
       "    .dataframe thead th {\n",
       "        text-align: right;\n",
       "    }\n",
       "</style>\n",
       "<table border=\"1\" class=\"dataframe\">\n",
       "  <thead>\n",
       "    <tr style=\"text-align: right;\">\n",
       "      <th></th>\n",
       "      <th>Country</th>\n",
       "      <th>Temperature</th>\n",
       "      <th>CO2 Emissions</th>\n",
       "      <th>Sea Level Rise</th>\n",
       "      <th>Precipitation</th>\n",
       "      <th>Humidity</th>\n",
       "      <th>Wind Speed</th>\n",
       "      <th>HDI rank</th>\n",
       "      <th>HUMAN DEVELOPMENT</th>\n",
       "      <th>Human Development Index (HDI)</th>\n",
       "      <th>Life expectancy at birth</th>\n",
       "      <th>Expected years of schooling</th>\n",
       "      <th>Mean years of schooling</th>\n",
       "      <th>Gross national income (GNI) per capita</th>\n",
       "      <th>GNI per capita rank minus HDI rank</th>\n",
       "      <th>HDI rank.1</th>\n",
       "    </tr>\n",
       "  </thead>\n",
       "  <tbody>\n",
       "    <tr>\n",
       "      <th>0</th>\n",
       "      <td>Afghanistan</td>\n",
       "      <td>14.730345</td>\n",
       "      <td>403.029928</td>\n",
       "      <td>0.121724</td>\n",
       "      <td>47.152730</td>\n",
       "      <td>49.658014</td>\n",
       "      <td>23.858839</td>\n",
       "      <td>180</td>\n",
       "      <td>LOW</td>\n",
       "      <td>0.478</td>\n",
       "      <td>62.0</td>\n",
       "      <td>10.3</td>\n",
       "      <td>3.0</td>\n",
       "      <td>1824</td>\n",
       "      <td>-2</td>\n",
       "      <td>177</td>\n",
       "    </tr>\n",
       "    <tr>\n",
       "      <th>1</th>\n",
       "      <td>Albania</td>\n",
       "      <td>15.646637</td>\n",
       "      <td>403.086827</td>\n",
       "      <td>-0.251437</td>\n",
       "      <td>56.265142</td>\n",
       "      <td>54.208546</td>\n",
       "      <td>25.883135</td>\n",
       "      <td>67</td>\n",
       "      <td>HIGH</td>\n",
       "      <td>0.796</td>\n",
       "      <td>76.5</td>\n",
       "      <td>14.4</td>\n",
       "      <td>11.3</td>\n",
       "      <td>14131</td>\n",
       "      <td>17</td>\n",
       "      <td>68</td>\n",
       "    </tr>\n",
       "    <tr>\n",
       "      <th>2</th>\n",
       "      <td>Algeria</td>\n",
       "      <td>14.496989</td>\n",
       "      <td>401.639539</td>\n",
       "      <td>-0.343974</td>\n",
       "      <td>46.274362</td>\n",
       "      <td>48.237590</td>\n",
       "      <td>20.667563</td>\n",
       "      <td>91</td>\n",
       "      <td>HIGH</td>\n",
       "      <td>0.745</td>\n",
       "      <td>76.4</td>\n",
       "      <td>14.6</td>\n",
       "      <td>8.1</td>\n",
       "      <td>10800</td>\n",
       "      <td>13</td>\n",
       "      <td>96</td>\n",
       "    </tr>\n",
       "    <tr>\n",
       "      <th>3</th>\n",
       "      <td>Andorra</td>\n",
       "      <td>15.074974</td>\n",
       "      <td>410.238930</td>\n",
       "      <td>-0.030364</td>\n",
       "      <td>50.296133</td>\n",
       "      <td>47.764732</td>\n",
       "      <td>23.269450</td>\n",
       "      <td>40</td>\n",
       "      <td>VERY HIGH</td>\n",
       "      <td>0.858</td>\n",
       "      <td>80.4</td>\n",
       "      <td>13.3</td>\n",
       "      <td>10.6</td>\n",
       "      <td>51167</td>\n",
       "      <td>-19</td>\n",
       "      <td>45</td>\n",
       "    </tr>\n",
       "    <tr>\n",
       "      <th>4</th>\n",
       "      <td>Angola</td>\n",
       "      <td>14.846045</td>\n",
       "      <td>406.920812</td>\n",
       "      <td>0.175725</td>\n",
       "      <td>51.676207</td>\n",
       "      <td>43.579585</td>\n",
       "      <td>24.857820</td>\n",
       "      <td>148</td>\n",
       "      <td>MEDIUM</td>\n",
       "      <td>0.586</td>\n",
       "      <td>61.6</td>\n",
       "      <td>12.2</td>\n",
       "      <td>5.4</td>\n",
       "      <td>5466</td>\n",
       "      <td>-14</td>\n",
       "      <td>149</td>\n",
       "    </tr>\n",
       "  </tbody>\n",
       "</table>\n",
       "</div>"
      ],
      "text/plain": [
       "       Country  Temperature  CO2 Emissions  Sea Level Rise  Precipitation  \\\n",
       "0  Afghanistan    14.730345     403.029928        0.121724      47.152730   \n",
       "1      Albania    15.646637     403.086827       -0.251437      56.265142   \n",
       "2      Algeria    14.496989     401.639539       -0.343974      46.274362   \n",
       "3      Andorra    15.074974     410.238930       -0.030364      50.296133   \n",
       "4       Angola    14.846045     406.920812        0.175725      51.676207   \n",
       "\n",
       "    Humidity  Wind Speed  HDI rank HUMAN DEVELOPMENT  \\\n",
       "0  49.658014   23.858839       180               LOW   \n",
       "1  54.208546   25.883135        67              HIGH   \n",
       "2  48.237590   20.667563        91              HIGH   \n",
       "3  47.764732   23.269450        40        VERY HIGH    \n",
       "4  43.579585   24.857820       148           MEDIUM    \n",
       "\n",
       "   Human Development Index (HDI)   Life expectancy at birth  \\\n",
       "0                           0.478                      62.0   \n",
       "1                           0.796                      76.5   \n",
       "2                           0.745                      76.4   \n",
       "3                           0.858                      80.4   \n",
       "4                           0.586                      61.6   \n",
       "\n",
       "  Expected years of schooling  Mean years of schooling  \\\n",
       "0                        10.3                      3.0   \n",
       "1                        14.4                     11.3   \n",
       "2                        14.6                      8.1   \n",
       "3                        13.3                     10.6   \n",
       "4                        12.2                      5.4   \n",
       "\n",
       "  Gross national income (GNI) per capita GNI per capita rank minus HDI rank  \\\n",
       "0                                   1824                                 -2   \n",
       "1                                  14131                                 17   \n",
       "2                                  10800                                 13   \n",
       "3                                  51167                                -19   \n",
       "4                                   5466                                -14   \n",
       "\n",
       "  HDI rank.1  \n",
       "0        177  \n",
       "1         68  \n",
       "2         96  \n",
       "3         45  \n",
       "4        149  "
      ]
     },
     "execution_count": 9,
     "metadata": {},
     "output_type": "execute_result"
    }
   ],
   "source": [
    "hdi_climate_df.head()"
   ]
  },
  {
   "cell_type": "code",
   "execution_count": 10,
   "id": "7a6ed3a1",
   "metadata": {},
   "outputs": [],
   "source": [
    "hdi_climate_df = averages_climate_df.merge(hdi_df, how=\"inner\", on=\"Country\")"
   ]
  },
  {
   "cell_type": "code",
   "execution_count": 11,
   "id": "c5c87fd3",
   "metadata": {
    "scrolled": true
   },
   "outputs": [
    {
     "data": {
      "text/html": [
       "<div>\n",
       "<style scoped>\n",
       "    .dataframe tbody tr th:only-of-type {\n",
       "        vertical-align: middle;\n",
       "    }\n",
       "\n",
       "    .dataframe tbody tr th {\n",
       "        vertical-align: top;\n",
       "    }\n",
       "\n",
       "    .dataframe thead th {\n",
       "        text-align: right;\n",
       "    }\n",
       "</style>\n",
       "<table border=\"1\" class=\"dataframe\">\n",
       "  <thead>\n",
       "    <tr style=\"text-align: right;\">\n",
       "      <th></th>\n",
       "      <th>Country</th>\n",
       "      <th>Temperature</th>\n",
       "      <th>CO2 Emissions</th>\n",
       "      <th>Sea Level Rise</th>\n",
       "      <th>Precipitation</th>\n",
       "      <th>Humidity</th>\n",
       "      <th>Wind Speed</th>\n",
       "      <th>HDI rank</th>\n",
       "      <th>HUMAN DEVELOPMENT</th>\n",
       "      <th>Human Development Index (HDI)</th>\n",
       "      <th>Life expectancy at birth</th>\n",
       "      <th>Expected years of schooling</th>\n",
       "      <th>Mean years of schooling</th>\n",
       "      <th>Gross national income (GNI) per capita</th>\n",
       "      <th>GNI per capita rank minus HDI rank</th>\n",
       "      <th>HDI rank.1</th>\n",
       "    </tr>\n",
       "  </thead>\n",
       "  <tbody>\n",
       "    <tr>\n",
       "      <th>0</th>\n",
       "      <td>Afghanistan</td>\n",
       "      <td>14.730345</td>\n",
       "      <td>403.029928</td>\n",
       "      <td>0.121724</td>\n",
       "      <td>47.152730</td>\n",
       "      <td>49.658014</td>\n",
       "      <td>23.858839</td>\n",
       "      <td>180</td>\n",
       "      <td>LOW</td>\n",
       "      <td>0.478</td>\n",
       "      <td>62.0</td>\n",
       "      <td>10.3</td>\n",
       "      <td>3</td>\n",
       "      <td>1824</td>\n",
       "      <td>-2</td>\n",
       "      <td>177</td>\n",
       "    </tr>\n",
       "    <tr>\n",
       "      <th>1</th>\n",
       "      <td>Albania</td>\n",
       "      <td>15.646637</td>\n",
       "      <td>403.086827</td>\n",
       "      <td>-0.251437</td>\n",
       "      <td>56.265142</td>\n",
       "      <td>54.208546</td>\n",
       "      <td>25.883135</td>\n",
       "      <td>67</td>\n",
       "      <td>HIGH</td>\n",
       "      <td>0.796</td>\n",
       "      <td>76.5</td>\n",
       "      <td>14.4</td>\n",
       "      <td>11.3</td>\n",
       "      <td>14131</td>\n",
       "      <td>17</td>\n",
       "      <td>68</td>\n",
       "    </tr>\n",
       "    <tr>\n",
       "      <th>2</th>\n",
       "      <td>Algeria</td>\n",
       "      <td>14.496989</td>\n",
       "      <td>401.639539</td>\n",
       "      <td>-0.343974</td>\n",
       "      <td>46.274362</td>\n",
       "      <td>48.237590</td>\n",
       "      <td>20.667563</td>\n",
       "      <td>91</td>\n",
       "      <td>HIGH</td>\n",
       "      <td>0.745</td>\n",
       "      <td>76.4</td>\n",
       "      <td>14.6</td>\n",
       "      <td>8.1</td>\n",
       "      <td>10800</td>\n",
       "      <td>13</td>\n",
       "      <td>96</td>\n",
       "    </tr>\n",
       "    <tr>\n",
       "      <th>3</th>\n",
       "      <td>Andorra</td>\n",
       "      <td>15.074974</td>\n",
       "      <td>410.238930</td>\n",
       "      <td>-0.030364</td>\n",
       "      <td>50.296133</td>\n",
       "      <td>47.764732</td>\n",
       "      <td>23.269450</td>\n",
       "      <td>40</td>\n",
       "      <td>VERY HIGH</td>\n",
       "      <td>0.858</td>\n",
       "      <td>80.4</td>\n",
       "      <td>13.3</td>\n",
       "      <td>10.6</td>\n",
       "      <td>51167</td>\n",
       "      <td>-19</td>\n",
       "      <td>45</td>\n",
       "    </tr>\n",
       "    <tr>\n",
       "      <th>4</th>\n",
       "      <td>Angola</td>\n",
       "      <td>14.846045</td>\n",
       "      <td>406.920812</td>\n",
       "      <td>0.175725</td>\n",
       "      <td>51.676207</td>\n",
       "      <td>43.579585</td>\n",
       "      <td>24.857820</td>\n",
       "      <td>148</td>\n",
       "      <td>MEDIUM</td>\n",
       "      <td>0.586</td>\n",
       "      <td>61.6</td>\n",
       "      <td>12.2</td>\n",
       "      <td>5.4</td>\n",
       "      <td>5466</td>\n",
       "      <td>-14</td>\n",
       "      <td>149</td>\n",
       "    </tr>\n",
       "  </tbody>\n",
       "</table>\n",
       "</div>"
      ],
      "text/plain": [
       "       Country  Temperature  CO2 Emissions  Sea Level Rise  Precipitation  \\\n",
       "0  Afghanistan    14.730345     403.029928        0.121724      47.152730   \n",
       "1      Albania    15.646637     403.086827       -0.251437      56.265142   \n",
       "2      Algeria    14.496989     401.639539       -0.343974      46.274362   \n",
       "3      Andorra    15.074974     410.238930       -0.030364      50.296133   \n",
       "4       Angola    14.846045     406.920812        0.175725      51.676207   \n",
       "\n",
       "    Humidity  Wind Speed  HDI rank HUMAN DEVELOPMENT  \\\n",
       "0  49.658014   23.858839       180               LOW   \n",
       "1  54.208546   25.883135        67              HIGH   \n",
       "2  48.237590   20.667563        91              HIGH   \n",
       "3  47.764732   23.269450        40        VERY HIGH    \n",
       "4  43.579585   24.857820       148           MEDIUM    \n",
       "\n",
       "  Human Development Index (HDI)   Life expectancy at birth  \\\n",
       "0                          0.478                      62.0   \n",
       "1                          0.796                      76.5   \n",
       "2                          0.745                      76.4   \n",
       "3                          0.858                      80.4   \n",
       "4                          0.586                      61.6   \n",
       "\n",
       "  Expected years of schooling Mean years of schooling  \\\n",
       "0                        10.3                       3   \n",
       "1                        14.4                    11.3   \n",
       "2                        14.6                     8.1   \n",
       "3                        13.3                    10.6   \n",
       "4                        12.2                     5.4   \n",
       "\n",
       "  Gross national income (GNI) per capita GNI per capita rank minus HDI rank  \\\n",
       "0                                   1824                                 -2   \n",
       "1                                  14131                                 17   \n",
       "2                                  10800                                 13   \n",
       "3                                  51167                                -19   \n",
       "4                                   5466                                -14   \n",
       "\n",
       "  HDI rank.1  \n",
       "0        177  \n",
       "1         68  \n",
       "2         96  \n",
       "3         45  \n",
       "4        149  "
      ]
     },
     "execution_count": 11,
     "metadata": {},
     "output_type": "execute_result"
    }
   ],
   "source": [
    "hdi_climate_df.head()"
   ]
  },
  {
   "cell_type": "code",
   "execution_count": 13,
   "id": "d578facc",
   "metadata": {},
   "outputs": [
    {
     "data": {
      "text/html": [
       "<div>\n",
       "<style scoped>\n",
       "    .dataframe tbody tr th:only-of-type {\n",
       "        vertical-align: middle;\n",
       "    }\n",
       "\n",
       "    .dataframe tbody tr th {\n",
       "        vertical-align: top;\n",
       "    }\n",
       "\n",
       "    .dataframe thead th {\n",
       "        text-align: right;\n",
       "    }\n",
       "</style>\n",
       "<table border=\"1\" class=\"dataframe\">\n",
       "  <thead>\n",
       "    <tr style=\"text-align: right;\">\n",
       "      <th></th>\n",
       "      <th>Temperature</th>\n",
       "      <th>CO2 Emissions</th>\n",
       "      <th>Sea Level Rise</th>\n",
       "      <th>Precipitation</th>\n",
       "      <th>Humidity</th>\n",
       "      <th>Wind Speed</th>\n",
       "      <th>HDI rank</th>\n",
       "      <th>Life expectancy at birth</th>\n",
       "    </tr>\n",
       "  </thead>\n",
       "  <tbody>\n",
       "    <tr>\n",
       "      <th>Temperature</th>\n",
       "      <td>1.000000</td>\n",
       "      <td>0.087947</td>\n",
       "      <td>-0.136146</td>\n",
       "      <td>-0.017927</td>\n",
       "      <td>-0.010770</td>\n",
       "      <td>0.220190</td>\n",
       "      <td>0.023103</td>\n",
       "      <td>0.001713</td>\n",
       "    </tr>\n",
       "    <tr>\n",
       "      <th>CO2 Emissions</th>\n",
       "      <td>0.087947</td>\n",
       "      <td>1.000000</td>\n",
       "      <td>0.073304</td>\n",
       "      <td>-0.058535</td>\n",
       "      <td>0.019281</td>\n",
       "      <td>-0.035041</td>\n",
       "      <td>0.129883</td>\n",
       "      <td>-0.041881</td>\n",
       "    </tr>\n",
       "    <tr>\n",
       "      <th>Sea Level Rise</th>\n",
       "      <td>-0.136146</td>\n",
       "      <td>0.073304</td>\n",
       "      <td>1.000000</td>\n",
       "      <td>-0.072897</td>\n",
       "      <td>-0.030206</td>\n",
       "      <td>0.122523</td>\n",
       "      <td>-0.051298</td>\n",
       "      <td>0.083685</td>\n",
       "    </tr>\n",
       "    <tr>\n",
       "      <th>Precipitation</th>\n",
       "      <td>-0.017927</td>\n",
       "      <td>-0.058535</td>\n",
       "      <td>-0.072897</td>\n",
       "      <td>1.000000</td>\n",
       "      <td>0.099091</td>\n",
       "      <td>0.025573</td>\n",
       "      <td>0.028267</td>\n",
       "      <td>-0.063423</td>\n",
       "    </tr>\n",
       "    <tr>\n",
       "      <th>Humidity</th>\n",
       "      <td>-0.010770</td>\n",
       "      <td>0.019281</td>\n",
       "      <td>-0.030206</td>\n",
       "      <td>0.099091</td>\n",
       "      <td>1.000000</td>\n",
       "      <td>0.011981</td>\n",
       "      <td>-0.051063</td>\n",
       "      <td>0.036182</td>\n",
       "    </tr>\n",
       "    <tr>\n",
       "      <th>Wind Speed</th>\n",
       "      <td>0.220190</td>\n",
       "      <td>-0.035041</td>\n",
       "      <td>0.122523</td>\n",
       "      <td>0.025573</td>\n",
       "      <td>0.011981</td>\n",
       "      <td>1.000000</td>\n",
       "      <td>-0.031040</td>\n",
       "      <td>-0.034346</td>\n",
       "    </tr>\n",
       "    <tr>\n",
       "      <th>HDI rank</th>\n",
       "      <td>0.023103</td>\n",
       "      <td>0.129883</td>\n",
       "      <td>-0.051298</td>\n",
       "      <td>0.028267</td>\n",
       "      <td>-0.051063</td>\n",
       "      <td>-0.031040</td>\n",
       "      <td>1.000000</td>\n",
       "      <td>-0.868425</td>\n",
       "    </tr>\n",
       "    <tr>\n",
       "      <th>Life expectancy at birth</th>\n",
       "      <td>0.001713</td>\n",
       "      <td>-0.041881</td>\n",
       "      <td>0.083685</td>\n",
       "      <td>-0.063423</td>\n",
       "      <td>0.036182</td>\n",
       "      <td>-0.034346</td>\n",
       "      <td>-0.868425</td>\n",
       "      <td>1.000000</td>\n",
       "    </tr>\n",
       "  </tbody>\n",
       "</table>\n",
       "</div>"
      ],
      "text/plain": [
       "                          Temperature  CO2 Emissions  Sea Level Rise  \\\n",
       "Temperature                  1.000000       0.087947       -0.136146   \n",
       "CO2 Emissions                0.087947       1.000000        0.073304   \n",
       "Sea Level Rise              -0.136146       0.073304        1.000000   \n",
       "Precipitation               -0.017927      -0.058535       -0.072897   \n",
       "Humidity                    -0.010770       0.019281       -0.030206   \n",
       "Wind Speed                   0.220190      -0.035041        0.122523   \n",
       "HDI rank                     0.023103       0.129883       -0.051298   \n",
       "Life expectancy at birth     0.001713      -0.041881        0.083685   \n",
       "\n",
       "                          Precipitation  Humidity  Wind Speed  HDI rank  \\\n",
       "Temperature                   -0.017927 -0.010770    0.220190  0.023103   \n",
       "CO2 Emissions                 -0.058535  0.019281   -0.035041  0.129883   \n",
       "Sea Level Rise                -0.072897 -0.030206    0.122523 -0.051298   \n",
       "Precipitation                  1.000000  0.099091    0.025573  0.028267   \n",
       "Humidity                       0.099091  1.000000    0.011981 -0.051063   \n",
       "Wind Speed                     0.025573  0.011981    1.000000 -0.031040   \n",
       "HDI rank                       0.028267 -0.051063   -0.031040  1.000000   \n",
       "Life expectancy at birth      -0.063423  0.036182   -0.034346 -0.868425   \n",
       "\n",
       "                          Life expectancy at birth  \n",
       "Temperature                               0.001713  \n",
       "CO2 Emissions                            -0.041881  \n",
       "Sea Level Rise                            0.083685  \n",
       "Precipitation                            -0.063423  \n",
       "Humidity                                  0.036182  \n",
       "Wind Speed                               -0.034346  \n",
       "HDI rank                                 -0.868425  \n",
       "Life expectancy at birth                  1.000000  "
      ]
     },
     "execution_count": 13,
     "metadata": {},
     "output_type": "execute_result"
    }
   ],
   "source": [
    "hdi_climate_df.corr(numeric_only=True)"
   ]
  }
 ],
 "metadata": {
  "kernelspec": {
   "display_name": "Python 3 (ipykernel)",
   "language": "python",
   "name": "python3"
  },
  "language_info": {
   "codemirror_mode": {
    "name": "ipython",
    "version": 3
   },
   "file_extension": ".py",
   "mimetype": "text/x-python",
   "name": "python",
   "nbconvert_exporter": "python",
   "pygments_lexer": "ipython3",
   "version": "3.10.6"
  }
 },
 "nbformat": 4,
 "nbformat_minor": 5
}
